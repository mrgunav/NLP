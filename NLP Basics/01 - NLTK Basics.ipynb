{
 "cells": [
  {
   "cell_type": "code",
   "execution_count": 14,
   "metadata": {},
   "outputs": [],
   "source": [
    "import nltk\n",
    "#nltk.download('punkt')"
   ]
  },
  {
   "cell_type": "code",
   "execution_count": 15,
   "metadata": {},
   "outputs": [],
   "source": [
    "import urllib.request"
   ]
  },
  {
   "cell_type": "code",
   "execution_count": 17,
   "metadata": {
    "scrolled": true
   },
   "outputs": [
    {
     "name": "stdout",
     "output_type": "stream",
     "text": [
      "b'<!DOCTYPE html>\\n<html xmlns=\"http://www.w3.org/1999/xhtml\" lang=\"en\">\\n<head>\\n\\n  <meta charset=\"utf-8\">\\n  <meta name=\"viewport\" content=\"width=device-width, initial-scale=1.0\">\\n\\n  <title>PHP: Hypertext Preprocessor</title>\\n\\n <link rel=\"shortcut icon\" href=\"https://www.php.net/favicon.ico\">\\n <link rel=\"search\" type=\"application/opensearchdescription+xml\" href=\"http://php.net/phpnetimprovedsearch.src\" title=\"Add PHP.net search\">\\n <link rel=\"alternate\" type=\"application/atom+xml\" href=\"https://www.php.net/releases/feed.php\" title=\"PHP Release feed\">\\n <link rel=\"alternate\" type=\"application/atom+xml\" href=\"https://www.php.net/feed.atom\" title=\"PHP: Hypertext Preprocessor\">\\n\\n <link rel=\"canonical\" href=\"https://www.php.net/index.php\">\\n <link rel=\"shorturl\" href=\"https://www.php.net/index\">\\n <link rel=\"alternate\" href=\"https://www.php.net/index\" hreflang=\"x-default\">\\n\\n\\n\\n<link rel=\"stylesheet\" type=\"text/css\" href=\"/cached.php?t=1539771603&amp;f=/fonts/Fira/fira.css\" media=\"screen\">\\n<link rel=\"stylesheet\" type=\"text/css\" href=\"/cached.php?t=1539765004&amp;f=/fonts/Font-Awesome/css/fontello.css\" media=\"screen\">\\n<link rel=\"stylesheet\" type=\"text/css\" href=\"/cached.php?t=1540425603&amp;f=/styles/theme-base.css\" media=\"screen\">\\n<link rel=\"stylesheet\" type=\"text/css\" href=\"/cached.php?t=1540425603&amp;f=/styles/theme-medium.css\" media=\"screen\">\\n<link rel=\"stylesheet\" type=\"text/css\" href=\"/cached.php?t=1429259403&amp;f=/styles/home.css\" media=\"screen\">\\n\\n <!--[if lte IE 7]>\\n <link rel=\"stylesheet\" type=\"text/css\" href=\"https://www.php.net/styles/workarounds.ie7.css\" media=\"screen\">\\n <![endif]-->\\n\\n <!--[if lte IE 8]>\\n <script>\\n  window.brokenIE = true;\\n </script>\\n <![endif]-->\\n\\n <!--[if lte IE 9]>\\n <link rel=\"stylesheet\" type=\"text/css\" href=\"https://www.php.net/styles/workarounds.ie9.css\" media=\"screen\">\\n <![endif]-->\\n\\n <!--[if IE]>\\n <script src=\"https://www.php.net/js/ext/html5.js\"></script>\\n <![endif]-->\\n\\n <base href=\"https://www.php.net/index.php\">\\n\\n</head>\\n<body class=\"home \">\\n\\n<nav id=\"head-nav\" class=\"navbar navbar-fixed-top\">\\n  <div class=\"navbar-inner clearfix\">\\n    <a href=\"/\" class=\"brand\"><img src=\"/images/logos/php-logo.svg\" width=\"48\" height=\"24\" alt=\"php\"></a>\\n    <div id=\"mainmenu-toggle-overlay\"></div>\\n    <input type=\"checkbox\" id=\"mainmenu-toggle\">\\n    <ul class=\"nav\">\\n      <li class=\"\"><a href=\"/downloads\">Downloads</a></li>\\n      <li class=\"\"><a href=\"/docs.php\">Documentation</a></li>\\n      <li class=\"\"><a href=\"/get-involved\" >Get Involved</a></li>\\n      <li class=\"\"><a href=\"/support\">Help</a></li>\\n    </ul>\\n    <form class=\"navbar-search\" id=\"topsearch\" action=\"/search.php\">\\n      <input type=\"hidden\" name=\"show\" value=\"quickref\">\\n      <input type=\"search\" name=\"pattern\" class=\"search-query\" placeholder=\"Search\" accesskey=\"s\">\\n    </form>\\n  </div>\\n  <div id=\"flash-message\"></div>\\n</nav>\\n<nav id=\"trick\"><div><dl>\\n<dt><a href=\\'/manual/en/getting-started.php\\'>Getting Started</a></dt>\\n\\t<dd><a href=\\'/manual/en/introduction.php\\'>Introduction</a></dd>\\n\\t<dd><a href=\\'/manual/en/tutorial.php\\'>A simple tutorial</a></dd>\\n<dt><a href=\\'/manual/en/langref.php\\'>Language Reference</a></dt>\\n\\t<dd><a href=\\'/manual/en/language.basic-syntax.php\\'>Basic syntax</a></dd>\\n\\t<dd><a href=\\'/manual/en/language.types.php\\'>Types</a></dd>\\n\\t<dd><a href=\\'/manual/en/language.variables.php\\'>Variables</a></dd>\\n\\t<dd><a href=\\'/manual/en/language.constants.php\\'>Constants</a></dd>\\n\\t<dd><a href=\\'/manual/en/language.expressions.php\\'>Expressions</a></dd>\\n\\t<dd><a href=\\'/manual/en/language.operators.php\\'>Operators</a></dd>\\n\\t<dd><a href=\\'/manual/en/language.control-structures.php\\'>Control Structures</a></dd>\\n\\t<dd><a href=\\'/manual/en/language.functions.php\\'>Functions</a></dd>\\n\\t<dd><a href=\\'/manual/en/language.oop5.php\\'>Classes and Objects</a></dd>\\n\\t<dd><a href=\\'/manual/en/language.namespaces.php\\'>Namespaces</a></dd>\\n\\t<dd><a href=\\'/manual/en/language.errors.php\\'>Errors</a></dd>\\n\\t<dd><a href=\\'/manual/en/language.exceptions.php\\'>Exceptions</a></dd>\\n\\t<dd><a href=\\'/manual/en/language.generators.php\\'>Generators</a></dd>\\n\\t<dd><a href=\\'/manual/en/language.references.php\\'>References Explained</a></dd>\\n\\t<dd><a href=\\'/manual/en/reserved.variables.php\\'>Predefined Variables</a></dd>\\n\\t<dd><a href=\\'/manual/en/reserved.exceptions.php\\'>Predefined Exceptions</a></dd>\\n\\t<dd><a href=\\'/manual/en/reserved.interfaces.php\\'>Predefined Interfaces and Classes</a></dd>\\n\\t<dd><a href=\\'/manual/en/context.php\\'>Context options and parameters</a></dd>\\n\\t<dd><a href=\\'/manual/en/wrappers.php\\'>Supported Protocols and Wrappers</a></dd>\\n</dl>\\n<dl>\\n<dt><a href=\\'/manual/en/security.php\\'>Security</a></dt>\\n\\t<dd><a href=\\'/manual/en/security.intro.php\\'>Introduction</a></dd>\\n\\t<dd><a href=\\'/manual/en/security.general.php\\'>General considerations</a></dd>\\n\\t<dd><a href=\\'/manual/en/security.cgi-bin.php\\'>Installed as CGI binary</a></dd>\\n\\t<dd><a href=\\'/manual/en/security.apache.php\\'>Installed as an Apache module</a></dd>\\n\\t<dd><a href=\\'/manual/en/security.sessions.php\\'>Session Security</a></dd>\\n\\t<dd><a href=\\'/manual/en/security.filesystem.php\\'>Filesystem Security</a></dd>\\n\\t<dd><a href=\\'/manual/en/security.database.php\\'>Database Security</a></dd>\\n\\t<dd><a href=\\'/manual/en/security.errors.php\\'>Error Reporting</a></dd>\\n\\t<dd><a href=\\'/manual/en/security.globals.php\\'>Using Register Globals</a></dd>\\n\\t<dd><a href=\\'/manual/en/security.variables.php\\'>User Submitted Data</a></dd>\\n\\t<dd><a href=\\'/manual/en/security.magicquotes.php\\'>Magic Quotes</a></dd>\\n\\t<dd><a href=\\'/manual/en/security.hiding.php\\'>Hiding PHP</a></dd>\\n\\t<dd><a href=\\'/manual/en/security.current.php\\'>Keeping Current</a></dd>\\n<dt><a href=\\'/manual/en/features.php\\'>Features</a></dt>\\n\\t<dd><a href=\\'/manual/en/features.http-auth.php\\'>HTTP authentication with PHP</a></dd>\\n\\t<dd><a href=\\'/manual/en/features.cookies.php\\'>Cookies</a></dd>\\n\\t<dd><a href=\\'/manual/en/features.sessions.php\\'>Sessions</a></dd>\\n\\t<dd><a href=\\'/manual/en/features.xforms.php\\'>Dealing with XForms</a></dd>\\n\\t<dd><a href=\\'/manual/en/features.file-upload.php\\'>Handling file uploads</a></dd>\\n\\t<dd><a href=\\'/manual/en/features.remote-files.php\\'>Using remote files</a></dd>\\n\\t<dd><a href=\\'/manual/en/features.connection-handling.php\\'>Connection handling</a></dd>\\n\\t<dd><a href=\\'/manual/en/features.persistent-connections.php\\'>Persistent Database Connections</a></dd>\\n\\t<dd><a href=\\'/manual/en/features.safe-mode.php\\'>Safe Mode</a></dd>\\n\\t<dd><a href=\\'/manual/en/features.commandline.php\\'>Command line usage</a></dd>\\n\\t<dd><a href=\\'/manual/en/features.gc.php\\'>Garbage Collection</a></dd>\\n\\t<dd><a href=\\'/manual/en/features.dtrace.php\\'>DTrace Dynamic Tracing</a></dd>\\n</dl>\\n<dl>\\n<dt><a href=\\'/manual/en/funcref.php\\'>Function Reference</a></dt>\\n\\t<dd><a href=\\'/manual/en/refs.basic.php.php\\'>Affecting PHP\\'s Behaviour</a></dd>\\n\\t<dd><a href=\\'/manual/en/refs.utilspec.audio.php\\'>Audio Formats Manipulation</a></dd>\\n\\t<dd><a href=\\'/manual/en/refs.remote.auth.php\\'>Authentication Services</a></dd>\\n\\t<dd><a href=\\'/manual/en/refs.utilspec.cmdline.php\\'>Command Line Specific Extensions</a></dd>\\n\\t<dd><a href=\\'/manual/en/refs.compression.php\\'>Compression and Archive Extensions</a></dd>\\n\\t<dd><a href=\\'/manual/en/refs.creditcard.php\\'>Credit Card Processing</a></dd>\\n\\t<dd><a href=\\'/manual/en/refs.crypto.php\\'>Cryptography Extensions</a></dd>\\n\\t<dd><a href=\\'/manual/en/refs.database.php\\'>Database Extensions</a></dd>\\n\\t<dd><a href=\\'/manual/en/refs.calendar.php\\'>Date and Time Related Extensions</a></dd>\\n\\t<dd><a href=\\'/manual/en/refs.fileprocess.file.php\\'>File System Related Extensions</a></dd>\\n\\t<dd><a href=\\'/manual/en/refs.international.php\\'>Human Language and Character Encoding Support</a></dd>\\n\\t<dd><a href=\\'/manual/en/refs.utilspec.image.php\\'>Image Processing and Generation</a></dd>\\n\\t<dd><a href=\\'/manual/en/refs.remote.mail.php\\'>Mail Related Extensions</a></dd>\\n\\t<dd><a href=\\'/manual/en/refs.math.php\\'>Mathematical Extensions</a></dd>\\n\\t<dd><a href=\\'/manual/en/refs.utilspec.nontext.php\\'>Non-Text MIME Output</a></dd>\\n\\t<dd><a href=\\'/manual/en/refs.fileprocess.process.php\\'>Process Control Extensions</a></dd>\\n\\t<dd><a href=\\'/manual/en/refs.basic.other.php\\'>Other Basic Extensions</a></dd>\\n\\t<dd><a href=\\'/manual/en/refs.remote.other.php\\'>Other Services</a></dd>\\n\\t<dd><a href=\\'/manual/en/refs.search.php\\'>Search Engine Extensions</a></dd>\\n\\t<dd><a href=\\'/manual/en/refs.utilspec.server.php\\'>Server Specific Extensions</a></dd>\\n\\t<dd><a href=\\'/manual/en/refs.basic.session.php\\'>Session Extensions</a></dd>\\n\\t<dd><a href=\\'/manual/en/refs.basic.text.php\\'>Text Processing</a></dd>\\n\\t<dd><a href=\\'/manual/en/refs.basic.vartype.php\\'>Variable and Type Related Extensions</a></dd>\\n\\t<dd><a href=\\'/manual/en/refs.webservice.php\\'>Web Services</a></dd>\\n\\t<dd><a href=\\'/manual/en/refs.utilspec.windows.php\\'>Windows Only Extensions</a></dd>\\n\\t<dd><a href=\\'/manual/en/refs.xml.php\\'>XML Manipulation</a></dd>\\n\\t<dd><a href=\\'/manual/en/refs.ui.php\\'>GUI Extensions</a></dd>\\n</dl>\\n<dl>\\n<dt>Keyboard Shortcuts</dt><dt>?</dt>\\n<dd>This help</dd>\\n<dt>j</dt>\\n<dd>Next menu item</dd>\\n<dt>k</dt>\\n<dd>Previous menu item</dd>\\n<dt>g p</dt>\\n<dd>Previous man page</dd>\\n<dt>g n</dt>\\n<dd>Next man page</dd>\\n<dt>G</dt>\\n<dd>Scroll to bottom</dd>\\n<dt>g g</dt>\\n<dd>Scroll to top</dd>\\n<dt>g h</dt>\\n<dd>Goto homepage</dd>\\n<dt>g s</dt>\\n<dd>Goto search<br>(current page)</dd>\\n<dt>/</dt>\\n<dd>Focus search box</dd>\\n</dl></div></nav>\\n<div id=\"goto\">\\n    <div class=\"search\">\\n         <div class=\"text\"></div>\\n         <div class=\"results\"><ul></ul></div>\\n   </div>\\n</div>\\n\\n\\n\\n<div id=\"intro\" class=\"clearfix\">\\n  <div class=\"container\">\\n      <div class=\"row clearfix\">\\n    <div class=\"blurb\">\\n      <p>PHP is a popular general-purpose scripting language that is especially suited to web development.</p>\\n      <p>Fast, flexible and pragmatic, PHP powers everything from your blog to the most popular websites in the world.</p>\\n    </div>\\n    <div class=\"download\">\\n      <h3>Download</h3><ul>\\n\\n            <li><a class=\\'download-link\\' href=\\'/downloads.php#v7.4.2\\'>7.4.2</a><span class=\\'dot\\'>&middot;</span><a class=\\'notes\\' href=\\'/ChangeLog-7.php#7.4.2\\'>Release Notes</a><span class=\\'dot\\'>&middot;</span><a class=\\'notes\\' href=\\'/migration74\\'>Upgrading</a></li>\\n\\n            <li><a class=\\'download-link\\' href=\\'/downloads.php#v7.3.14\\'>7.3.14</a><span class=\\'dot\\'>&middot;</span><a class=\\'notes\\' href=\\'/ChangeLog-7.php#7.3.14\\'>Release Notes</a><span class=\\'dot\\'>&middot;</span><a class=\\'notes\\' href=\\'/migration73\\'>Upgrading</a></li>\\n\\n            <li><a class=\\'download-link\\' href=\\'/downloads.php#v7.2.27\\'>7.2.27</a><span class=\\'dot\\'>&middot;</span><a class=\\'notes\\' href=\\'/ChangeLog-7.php#7.2.27\\'>Release Notes</a><span class=\\'dot\\'>&middot;</span><a class=\\'notes\\' href=\\'/migration72\\'>Upgrading</a></li>\\n</ul>\\n    </div>\\n  </div>  </div>\\n</div>\\n\\n\\n<div id=\"layout\" class=\"clearfix\">\\n  <section id=\"layout-content\">\\n<div class=\\'home-content\\'><article class=\"newsentry\">\\n  <header class=\"title\">\\n    <time datetime=\"2020-01-23T09:38:59+00:00\">23 Jan 2020</time>\\n    <h2 class=\"newstitle\">\\n      <a href=\"https://www.php.net/archive/2020.php#2020-01-23-3\" id=\"2020-01-23-3\">PHP 7.3.14 Released</a>\\n    </h2>\\n  </header>\\n  <div class=\"newscontent\">\\n    <div>\\n      <p>The PHP development team announces the immediate availability of PHP\\n      7.3.14. This is a security release which also contains several bug fixes.</p>\\n\\n      <p>All PHP 7.3 users are encouraged to upgrade to this version.</p>\\n\\n      <p>For source downloads of PHP 7.3.14 please visit our <a href=\"https://www.php.net/downloads.php\">downloads page</a>,\\n      Windows source and binaries can be found on <a href=\"https://windows.php.net/download/\">windows.php.net/download/</a>.\\n      The list of changes is recorded in the <a href=\"https://www.php.net/ChangeLog-7.php#7.3.14\">ChangeLog</a>.\\n      </p>\\n    </div>\\n  \\n  </div>\\n</article><article class=\"newsentry\">\\n  <header class=\"title\">\\n    <time datetime=\"2020-01-23T09:11:36+00:00\">23 Jan 2020</time>\\n    <h2 class=\"newstitle\">\\n      <a href=\"https://www.php.net/archive/2020.php#2020-01-23-2\" id=\"2020-01-23-2\">PHP 7.2.27 Released</a>\\n    </h2>\\n  </header>\\n  <div class=\"newscontent\">\\n    <div>\\n     <p>The PHP development team announces the immediate availability of PHP\\n     7.2.27. This is a security release.</p>\\n\\n     <p>All PHP 7.2 users are encouraged to upgrade to this version.</p>\\n\\n     <p>For source downloads of PHP 7.2.27 please visit our <a href=\"http://www.php.net/downloads.php\">downloads page</a>,\\n     Windows source and binaries can be found on <a href=\"http://windows.php.net/download/\">windows.php.net/download/</a>.\\n     The list of changes is recorded in the <a href=\"http://www.php.net/ChangeLog-7.php#7.2.27\">ChangeLog</a>.\\n     </p>\\n    </div>\\n  \\n  </div>\\n</article><article class=\"newsentry\">\\n  <header class=\"title\">\\n    <time datetime=\"2020-01-23T07:43:45+00:00\">23 Jan 2020</time>\\n    <h2 class=\"newstitle\">\\n      <a href=\"https://www.php.net/archive/2020.php#2020-01-23-1\" id=\"2020-01-23-1\">PHP 7.4.2 Released</a>\\n    </h2>\\n  </header>\\n  <div class=\"newscontent\">\\n    <div>\\n       <h1>PHP 7.4.2 Release Announcement</h1>\\n     \\n       <p>The PHP development team announces the immediate availability of PHP\\n       7.4.2. This is a security release which also contains several bug fixes.</p>\\n     \\n       <p>All PHP 7.4 users are encouraged to upgrade to this version.</p>\\n     \\n       <p>For source downloads of PHP 7.4.2 please visit our <a href=\"http://www.php.net/downloads.php\">downloads page</a>,\\n       Windows source and binaries can be found on <a href=\"http://windows.php.net/download/\">windows.php.net/download/</a>.\\n       The list of changes is recorded in the <a href=\"http://www.php.net/ChangeLog-7.php#7.4.2\">ChangeLog</a>.\\n       </p>\\n    </div>\\n  \\n  </div>\\n</article><article class=\"newsentry\">\\n  <header class=\"title\">\\n    <time datetime=\"2019-12-18T13:02:37+00:00\">18 Dec 2019</time>\\n    <h2 class=\"newstitle\">\\n      <a href=\"https://www.php.net/archive/2019.php#2019-12-18-3\" id=\"2019-12-18-3\">PHP 7.2.26 Released</a>\\n    </h2>\\n  </header>\\n  <div class=\"newscontent\">\\n    <div>\\n     <p>The PHP development team announces the immediate availability of PHP\\n     7.2.26. This is a security release which also contains several minor bug fixes.</p>\\n\\n     <p>All PHP 7.2 users are encouraged to upgrade to this version.</p>\\n\\n     <p>For source downloads of PHP 7.2.26 please visit our <a href=\"http://www.php.net/downloads.php\">downloads page</a>,\\n     Windows source and binaries can be found on <a href=\"http://windows.php.net/download/\">windows.php.net/download/</a>.\\n     The list of changes is recorded in the <a href=\"http://www.php.net/ChangeLog-7.php#7.2.26\">ChangeLog</a>.\\n     </p>\\n    </div>\\n  \\n  </div>\\n</article><article class=\"newsentry\">\\n  <header class=\"title\">\\n    <time datetime=\"2019-12-18T12:33:05+00:00\">18 Dec 2019</time>\\n    <h2 class=\"newstitle\">\\n      <a href=\"https://www.php.net/archive/2019.php#2019-12-18-2\" id=\"2019-12-18-2\">PHP 7.3.13 Released</a>\\n    </h2>\\n  </header>\\n  <div class=\"newscontent\">\\n    <div>\\n       <p>The PHP development team announces the immediate availability of PHP\\n       7.3.13. This is a security release which also contains several bug fixes.</p>\\n     \\n       <p>All PHP 7.3 users are encouraged to upgrade to this version.</p>\\n     \\n       <p>For source downloads of PHP 7.3.13 please visit our <a href=\"https://www.php.net/downloads.php\">downloads page</a>,\\n       Windows source and binaries can be found on <a href=\"https://windows.php.net/download/\">windows.php.net/download/</a>.\\n       The list of changes is recorded in the <a href=\"https://www.php.net/ChangeLog-7.php#7.3.13\">ChangeLog</a>.\\n       </p>\\n     \\n    </div>\\n  \\n  </div>\\n</article><article class=\"newsentry\">\\n  <header class=\"title\">\\n    <time datetime=\"2019-12-18T11:40:20+00:00\">18 Dec 2019</time>\\n    <h2 class=\"newstitle\">\\n      <a href=\"https://www.php.net/archive/2019.php#2019-12-18-1\" id=\"2019-12-18-1\">PHP 7.4.1 Released!</a>\\n    </h2>\\n  </header>\\n  <div class=\"newscontent\">\\n    <div>\\n         <h1>PHP 7.4.1 Release Announcement</h1>\\n     \\n       <p>The PHP development team announces the immediate availability of PHP\\n       7.4.1. This is a security release which also contains several bug fixes.</p>\\n     \\n       <p>All PHP 7.4 users are encouraged to upgrade to this version.</p>\\n     \\n       <p>For source downloads of PHP 7.4.1 please visit our <a href=\"http://www.php.net/downloads.php\">downloads page</a>,\\n       Windows source and binaries can be found on <a href=\"http://windows.php.net/download/\">windows.php.net/download/</a>.\\n       The list of changes is recorded in the <a href=\"http://www.php.net/ChangeLog-7.php#7.4.1\">ChangeLog</a>.\\n       </p>\\n    </div>\\n  \\n  </div>\\n</article><article class=\"newsentry\">\\n  <header class=\"title\">\\n    <time datetime=\"2019-11-14T19:01:18+00:00\">14 Nov 2019</time>\\n    <h2 class=\"newstitle\">\\n      <a href=\"https://www.php.net/archive/2019.php#2019-11-14-1\" id=\"2019-11-14-1\">PHP 7.4.0RC6 Released!</a>\\n    </h2>\\n  </header>\\n  <div class=\"newscontent\">\\n    <div>\\n     <p>\\n     The PHP team is glad to announce the sixth release candidate of PHP 7.4:\\n     PHP 7.4.0RC6. This continues the PHP 7.4 release cycle, the rough outline of\\n     which is specified in the <a href=\"https://wiki.php.net/todo/php74\">PHP\\n     Wiki</a>.\\n     </p>\\n     \\n     <p>\\n     <b>Please DO NOT use this version in production, it is an early test\\n     version.</b>\\n     </p>\\n     \\n     <p>\\n     For source downloads of PHP 7.4.0RC6 please visit the\\n     <a href=\"https://downloads.php.net/~derick\">download page</a>.\\n     </p>\\n     \\n     <p>\\n     Please carefully test this version and report any issues found in the <a href=\"https://bugs.php.net\">bug reporting system</a>.\\n     </p>\\n     \\n     <p>\\n     For more information on the new features and other changes, you can read the\\n     <a href=\"https://github.com/php/php-src/blob/php-7.4.0RC6/NEWS\">NEWS</a>\\n     file, or the\\n     <a href=\"https://github.com/php/php-src/blob/php-7.4.0RC6/UPGRADING\">UPGRADING</a>\\n     file for a complete list of upgrading notes. These files can also be found in\\n     the release archive.\\n     </p>\\n     \\n     <p>\\n     The next release would be <b>7.4.0</b>, planned for November 28th.\\n     </p>\\n     \\n     <p>\\n     The signatures for the release can be found in\\n     <a href=\"https://gist.github.com/derickr/75073b820cef83190094d34b7b04d322\">the\\n     manifest</a> or on <a href=\"https://qa.php.net/\">the QA site</a>.\\n     </p>\\n     \\n     <p>Thank you for helping us make PHP better.</p>\\n    </div>\\n  \\n  </div>\\n</article><article class=\"newsentry\">\\n  <header class=\"title\">\\n    <time datetime=\"2019-10-31T10:22:30+00:00\">31 Oct 2019</time>\\n    <h2 class=\"newstitle\">\\n      <a href=\"https://www.php.net/archive/2019.php#2019-10-31-2\" id=\"2019-10-31-2\">PHP 7.4.0RC5 released!</a>\\n    </h2>\\n  </header>\\n  <div class=\"newscontent\">\\n    <div>\\n     <p>\\n     The PHP team is glad to announce the fifth release candidate of PHP 7.4:\\n     PHP 7.4.0RC5. This continues the PHP 7.4 release cycle, the rough outline of\\n     which is specified in the <a href=\"https://wiki.php.net/todo/php74\">PHP\\n     Wiki</a>.\\n     </p>\\n     \\n     <p>\\n     <b>Please DO NOT use this version in production, it is an early test\\n     version.</b>\\n     </p>\\n     \\n     <p>\\n     For source downloads of PHP 7.4.0RC5 please visit the\\n     <a href=\"https://downloads.php.net/~derick\">download page</a>.\\n     </p>\\n     \\n     <p>\\n     Please carefully test this version and report any issues found in the <a href=\"https://bugs.php.net\">bug reporting system</a>.\\n     </p>\\n     \\n     <p>\\n     For more information on the new features and other changes, you can read the\\n     <a href=\"https://github.com/php/php-src/blob/php-7.4.0RC5/NEWS\">NEWS</a>\\n     file, or the\\n     <a href=\"https://github.com/php/php-src/blob/php-7.4.0RC5/UPGRADING\">UPGRADING</a>\\n     file for a complete list of upgrading notes. These files can also be found in\\n     the release archive.\\n     </p>\\n     \\n     <p>\\n     The next release would be <b>7.4.0RC6</b>, planned for November 14th.\\n     </p>\\n     \\n     <p>\\n     The signatures for the release can be found in\\n     <a href=\"https://gist.github.com/derickr/6a19c62d892995c311bb299c739adee8\">the\\n     manifest</a> or on <a href=\"https://qa.php.net/\">the QA site</a>.\\n     </p>\\n     \\n     <p>Thank you for helping us make PHP better.</p>\\n    </div>\\n  \\n  </div>\\n</article><article class=\"newsentry\">\\n  <header class=\"title\">\\n    <time datetime=\"2019-10-18T08:46:40+00:00\">18 Oct 2019</time>\\n    <h2 class=\"newstitle\">\\n      <a href=\"https://www.php.net/archive/2019.php#2019-10-18-1\" id=\"2019-10-18-1\">PHP 7.4.0RC4 Released!</a>\\n    </h2>\\n  </header>\\n  <div class=\"newscontent\">\\n    <div>\\n     <p>\\n     The PHP team is glad to announce the fourth release candidate of PHP 7.4:\\n     PHP 7.4.0RC4. This continues the PHP 7.4 release cycle, the rough outline of\\n     which is specified in the <a href=\"https://wiki.php.net/todo/php74\">PHP\\n     Wiki</a>.\\n     </p>\\n     \\n     <p>\\n     <b>Please DO NOT use this version in production, it is an early test\\n     version.</b>\\n     </p>\\n     \\n     <p>\\n     For source downloads of PHP 7.4.0RC4 please visit the\\n     <a href=\"https://downloads.php.net/~derick\">download page</a>.\\n     </p>\\n     \\n     <p>\\n     Please carefully test this version and report any issues found in the <a href=\"https://bugs.php.net\">bug reporting system</a>.\\n     </p>\\n     \\n     <p>\\n     For more information on the new features and other changes, you can read the\\n     <a href=\"https://github.com/php/php-src/blob/php-7.4.0RC4/NEWS\">NEWS</a>\\n     file, or the\\n     <a href=\"https://github.com/php/php-src/blob/php-7.4.0RC4/UPGRADING\">UPGRADING</a>\\n     file for a complete list of upgrading notes. These files can also be found in\\n     the release archive.\\n     </p>\\n     \\n     <p>\\n     The next release would be <b>7.4.0RC5</b>, planned for October 31st.\\n     </p>\\n     \\n     <p>\\n     The signatures for the release can be found in\\n     <a href=\"https://gist.github.com/derickr/5ad9dc1e880c8797a6f4af414d084c0f\">the\\n     manifest</a> or on <a href=\"https://qa.php.net/\">the QA site</a>.\\n     </p>\\n     \\n     <p>Thank you for helping us make PHP better.</p>\\n    </div>\\n  \\n  </div>\\n</article><article class=\"newsentry\">\\n  <header class=\"title\">\\n    <time datetime=\"2019-10-03T14:28:25+00:00\">03 Oct 2019</time>\\n    <h2 class=\"newstitle\">\\n      <a href=\"https://www.php.net/archive/2019.php#2019-10-03-1\" id=\"2019-10-03-1\">PHP 7.4.0RC3 Released!</a>\\n    </h2>\\n  </header>\\n  <div class=\"newscontent\">\\n    <div>\\n     <p>\\n     The PHP team is glad to announce the third release candidate of PHP 7.4:\\n     PHP 7.4.0RC3. This continues the PHP 7.4 release cycle, the rough outline of\\n     which is specified in the <a href=\"https://wiki.php.net/todo/php74\">PHP\\n     Wiki</a>.\\n     </p>\\n     \\n     <p>\\n     <b>Please DO NOT use this version in production, it is an early test\\n     version.</b>\\n     </p>\\n     \\n     <p>\\n     For source downloads of PHP 7.4.0RC3 please visit the\\n     <a href=\"https://downloads.php.net/~derick\">download page</a>.\\n     </p>\\n     \\n     <p>\\n     Please carefully test this version and report any issues found in the <a href=\"https://bugs.php.net\">bug reporting system</a>.\\n     </p>\\n     \\n     <p>\\n     For more information on the new features and other changes, you can read the\\n     <a href=\"https://github.com/php/php-src/blob/php-7.4.0RC3/NEWS\">NEWS</a>\\n     file, or the\\n     <a href=\"https://github.com/php/php-src/blob/php-7.4.0RC3/UPGRADING\">UPGRADING</a>\\n     file for a complete list of upgrading notes. These files can also be found in\\n     the release archive.\\n     </p>\\n     \\n     <p>\\n     The next release would be <b>7.4.0RC4</b>, planned for October 17th.\\n     </p>\\n     \\n     <p>\\n     The signatures for the release can be found in\\n     <a href=\"https://gist.github.com/derickr/4eaedc5dfd3bc9ddfbff6f81e8c53ec1\">the\\n     manifest</a> or on <a href=\"https://qa.php.net/\">the QA site</a>.\\n     </p>\\n     \\n     <p>Thank you for helping us make PHP better.</p>\\n    </div>\\n  \\n  </div>\\n</article><article class=\"newsentry\">\\n  <header class=\"title\">\\n    <time datetime=\"2019-09-19T09:07:27+00:00\">19 Sep 2019</time>\\n    <h2 class=\"newstitle\">\\n      <a href=\"https://www.php.net/archive/2019.php#2019-09-19-1\" id=\"2019-09-19-1\">PHP 7.4.0RC2 Released!</a>\\n    </h2>\\n  </header>\\n  <div class=\"newscontent\">\\n    <div>\\n     <p>\\n     The PHP team is glad to announce the second release candidate of PHP 7.4:\\n     PHP 7.4.0RC2. This continues the PHP 7.4 release cycle, the rough outline of\\n     which is specified in the <a href=\"https://wiki.php.net/todo/php74\">PHP\\n     Wiki</a>.\\n     </p>\\n     \\n     <p>\\n     <b>Please DO NOT use this version in production, it is an early test\\n     version.</b>\\n     </p>\\n     \\n     <p>\\n     For source downloads of PHP 7.4.0RC2 please visit the\\n     <a href=\"https://downloads.php.net/~derick\">download page</a>.\\n     </p>\\n     \\n     <p>\\n     Please carefully test this version and report any issues found in the <a href=\"https://bugs.php.net\">bug reporting system</a>.\\n     </p>\\n     \\n     <p>\\n     For more information on the new features and other changes, you can read the\\n     <a href=\"https://github.com/php/php-src/blob/php-7.4.0RC2/NEWS\">NEWS</a>\\n     file, or the\\n     <a href=\"https://github.com/php/php-src/blob/php-7.4.0RC2/UPGRADING\">UPGRADING</a>\\n     file for a complete list of upgrading notes. These files can also be found in\\n     the release archive.\\n     </p>\\n     \\n     <p>\\n     The next release would be <b>7.4.0RC3</b>, planned for October 3rd.\\n     </p>\\n     \\n     <p>\\n     The signatures for the release can be found in\\n     <a href=\"https://gist.github.com/derickr/4f8a617b73e471ee4cbbbde1862a9448\">the\\n     manifest</a> or on <a href=\"https://qa.php.net/\">the QA site</a>.\\n     </p>\\n     \\n     <p>Thank you for helping us make PHP better.</p>\\n    </div>\\n  \\n  </div>\\n</article><article class=\"newsentry\">\\n  <header class=\"title\">\\n    <time datetime=\"2019-09-05T08:39:13+00:00\">05 Sep 2019</time>\\n    <h2 class=\"newstitle\">\\n      <a href=\"https://www.php.net/archive/2019.php#2019-09-05-1\" id=\"2019-09-05-1\">PHP 7.4.0RC1 Released!</a>\\n    </h2>\\n  </header>\\n  <div class=\"newscontent\">\\n    <div>\\n     <p>\\n     The PHP team is glad to announce the first release candidate of PHP 7.4:\\n     PHP 7.4.0RC1. This continues the PHP 7.4 release cycle, the rough outline of\\n     which is specified in the <a href=\"https://wiki.php.net/todo/php74\">PHP\\n     Wiki</a>.\\n     </p>\\n     \\n     <p>\\n     <b>Please DO NOT use this version in production, it is an early test\\n     version.</b>\\n     </p>\\n     \\n     <p>\\n     For source downloads of PHP 7.4.0RC1 please visit the\\n     <a href=\"https://downloads.php.net/~derick\">download page</a>.\\n     </p>\\n     \\n     <p>\\n     Please carefully test this version and report any issues found in the <a href=\"https://bugs.php.net\">bug reporting system</a>.\\n     </p>\\n     \\n     <p>\\n     For more information on the new features and other changes, you can read the\\n     <a href=\"https://github.com/php/php-src/blob/php-7.4.0RC1/NEWS\">NEWS</a>\\n     file, or the\\n     <a href=\"https://github.com/php/php-src/blob/php-7.4.0RC1/UPGRADING\">UPGRADING</a>\\n     file for a complete list of upgrading notes. These files can also be found in\\n     the release archive.\\n     </p>\\n     \\n     <p>\\n     The next release would be <b>7.4.0RC2</b>, planned for September 19th.\\n     </p>\\n     \\n     <p>\\n     The signatures for the release can be found in\\n     <a href=\"https://gist.github.com/derickr/eb4025dd8f09f0e4af0bdf462ada14c2\">the\\n     manifest</a> or on <a href=\"https://qa.php.net/\">the QA site</a>.\\n     </p>\\n     \\n     <p>Thank you for helping us make PHP better.</p>\\n    </div>\\n  \\n  </div>\\n</article><article class=\"newsentry\">\\n  <header class=\"title\">\\n    <time datetime=\"2019-08-22T14:51:16+00:00\">22 Aug 2019</time>\\n    <h2 class=\"newstitle\">\\n      <a href=\"https://www.php.net/archive/2019.php#2019-08-22-1\" id=\"2019-08-22-1\">PHP 7.4.0beta4 released!</a>\\n    </h2>\\n  </header>\\n  <div class=\"newscontent\">\\n    <div>\\n     <p>\\n     The PHP team is glad to announce the third and last beta release of PHP 7.4:\\n     PHP 7.4.0beta4. This continues the PHP 7.4 release cycle, the rough outline of\\n     which is specified in the <a href=\"https://wiki.php.net/todo/php74\">PHP\\n     Wiki</a>.\\n     </p>\\n     \\n     <p>\\n     For source downloads of PHP 7.4.0beta4 please visit the\\n     <a href=\"https://downloads.php.net/~derick\">download page</a>.\\n     </p>\\n     \\n     <p>\\n     Please carefully test this version and report any issues found in the <a href=\"https://bugs.php.net\">bug reporting system</a>.\\n     </p>\\n     \\n     <p>\\n     <b>Please DO NOT use this version in production, it is an early test\\n     version.</b>\\n     </p>\\n     \\n     <p>\\n     For more information on the new features and other changes, you can read the\\n     <a href=\"https://github.com/php/php-src/blob/php-7.4.0beta4/NEWS\">NEWS</a>\\n     file, or the\\n     <a href=\"https://github.com/php/php-src/blob/php-7.4.0beta4/UPGRADING\">UPGRADING</a>\\n     file for a complete list of upgrading notes. These files can also be found in\\n     the release archive.\\n     </p>\\n     \\n     <p>\\n     The next release would be <b>RC 1</b>, planned for September 5th.\\n     </p>\\n     \\n     <p>\\n     The signatures for the release can be found in\\n     <a href=\"https://gist.github.com/derickr/3c8d6ca0c4ec904fd5a3c47dbf9bf637\">the\\n     manifest</a> or on <a href=\"https://qa.php.net/\">the QA site</a>.\\n     </p>\\n     \\n     <p>Thank you for helping us make PHP better.</p>\\n    </div>\\n  \\n  </div>\\n</article><article class=\"newsentry\">\\n  <header class=\"title\">\\n    <time datetime=\"2019-08-08T08:15:01+00:00\">08 Aug 2019</time>\\n    <h2 class=\"newstitle\">\\n      <a href=\"https://www.php.net/archive/2019.php#2019-08-08-1\" id=\"2019-08-08-1\">PHP 7.4.0beta2 released!</a>\\n    </h2>\\n  </header>\\n  <div class=\"newscontent\">\\n    <div>\\n     <p>\\n     The PHP team is glad to announce the second beta release of PHP 7.4: PHP\\n     7.4.0beta2. This continues the PHP 7.4 release cycle, the rough outline of\\n     which is specified in the <a href=\"https://wiki.php.net/todo/php74\">PHP\\n     Wiki</a>.\\n     </p>\\n     \\n     <p>\\n     For source downloads of PHP 7.4.0beta2 please visit the\\n     <a href=\"https://downloads.php.net/~derick\">download page</a>.\\n     </p>\\n     \\n     <p>\\n     Please carefully test this version and report any issues found in the <a href=\"https://bugs.php.net\">bug reporting system</a>.\\n     </p>\\n     \\n     <p>\\n     <b>Please DO NOT use this version in production, it is an early test\\n     version.</b>\\n     </p>\\n     \\n     <p>\\n     For more information on the new features and other changes, you can read the\\n     <a href=\"https://github.com/php/php-src/blob/php-7.4.0beta2/NEWS\">NEWS</a>\\n     file, or the\\n     <a href=\"https://github.com/php/php-src/blob/php-7.4.0beta2/UPGRADING\">UPGRADING</a>\\n     file for a complete list of upgrading notes. These files can also be found in\\n     the release archive.\\n     </p>\\n     \\n     <p>\\n     The next release would be <b>Beta 3</b>, planned for August 22nd.\\n     </p>\\n     \\n     <p>\\n     The signatures for the release can be found in\\n     <a href=\"https://gist.github.com/derickr/4cec1996b1110f6127b51b90d9426bf9\">the\\n     manifest</a> or on <a href=\"https://qa.php.net/\">the QA site</a>.\\n     </p>\\n     \\n     <p>Thank you for helping us make PHP better.</p>\\n    </div>\\n  \\n  </div>\\n</article><article class=\"newsentry\">\\n  <header class=\"title\">\\n    <time datetime=\"2019-07-25T09:39:51+00:00\">25 Jul 2019</time>\\n    <h2 class=\"newstitle\">\\n      <a href=\"https://www.php.net/archive/2019.php#2019-07-25-1\" id=\"2019-07-25-1\">PHP 7.4.0beta1 released!</a>\\n    </h2>\\n  </header>\\n  <div class=\"newscontent\">\\n    <div>\\n     <p>\\n     The PHP team is glad to announce the first beta release of PHP 7.4: PHP\\n     7.4.0beta1. This continues the PHP 7.4 release cycle, the rough outline of\\n     which is specified in the <a href=\"https://wiki.php.net/todo/php74\">PHP\\n     Wiki</a>.\\n     </p>\\n     \\n     <p>\\n     For source downloads of PHP 7.4.0beta1 please visit the\\n     <a href=\"https://downloads.php.net/~derick\">download page</a>.\\n     </p>\\n     \\n     <p>\\n     Please carefully test this version and report any issues found in the <a href=\"http://bugs.php.net\">bug reporting system</a>.\\n     </p>\\n     \\n     <p>\\n     <b>Please DO NOT use this version in production, it is an early test\\n     version.</b>\\n     </p>\\n     \\n     <p>\\n     For more information on the new features and other changes, you can read the\\n     <a href=\"https://github.com/php/php-src/blob/php-7.4.0beta1/NEWS\">NEWS</a>\\n     file, or the\\n     <a href=\"https://github.com/php/php-src/blob/php-7.4.0beta1/UPGRADING\">UPGRADING</a>\\n     file for a complete list of upgrading notes. These files can also be found in\\n     the release archive.\\n     </p>\\n     \\n     <p>\\n     The next release would be <b>Beta 2</b>, planned for August 8th.\\n     </p>\\n     \\n     <p>\\n     The signatures for the release can be found in\\n     <a href=\"https://gist.github.com/derickr/6062a94c900289397130deb562ed17e1\">the\\n     manifest</a> or on <a href=\"https://qa.php.net/\">the QA site</a>.\\n     </p>\\n     \\n     <p>Thank you for helping us make PHP better.</p>\\n    </div>\\n  \\n  </div>\\n</article><article class=\"newsentry\">\\n  <header class=\"title\">\\n    <time datetime=\"2019-07-11T10:15:12+00:00\">11 Jul 2019</time>\\n    <h2 class=\"newstitle\">\\n      <a href=\"https://www.php.net/archive/2019.php#2019-07-11-1\" id=\"2019-07-11-1\">PHP 7.4.0 alpha 3 Released</a>\\n    </h2>\\n  </header>\\n  <div class=\"newscontent\">\\n    <div>\\n     <p>\\n     PHP team is glad to announce the release of the third PHP 7.4.0 version, PHP\\n     7.4.0 Alpha 3. This continues the PHP 7.4 release cycle, the rough outline of\\n     which is specified in the <a href=\"https://wiki.php.net/todo/php74\">PHP\\n     Wiki</a>.\\n     </p>\\n     \\n     <p>For source downloads of PHP 7.4.0 Alpha 3 please visit the <a href=\"https://downloads.php.net/~derick\">download page</a>.</p>\\n     \\n     <p>\\n     Please carefully test this version and report any issues found in the <a href=\"http://bugs.php.net\">bug reporting system</a>.\\n     </p>\\n     \\n     <p>\\n     <b>Please DO NOT use this version in production, it is an early test\\n     version.</b>\\n     </p>\\n     \\n     <p>\\n      For more information on the new features and other changes, you can read the\\n      <a href=\"https://github.com/php/php-src/blob/php-7.4.0alpha3/NEWS\">NEWS</a> file,\\n      or the <a href=\"https://github.com/php/php-src/blob/php-7.4.0alpha3/UPGRADING\">UPGRADING</a>\\n      file for a complete list of upgrading notes. These files can also be found in the release archive.\\n     </p>\\n     \\n     <p>\\n     The next release would be <b>Beta 1</b>, planned for July 25th.\\n     </p>\\n     \\n     <p>The signatures for the release can be found in <a href=\"https://gist.github.com/derickr/dc86e4edfedf69bd121026cbf3db8643\">the\\n     manifest</a> or on <a href=\"https://qa.php.net/\">the QA site</a>. </p>\\n     \\n     <p>Thank you for helping us make PHP better.</p>\\n    </div>\\n  \\n  </div>\\n</article><article class=\"newsentry\">\\n  <header class=\"title\">\\n    <time datetime=\"2019-06-26T23:34:49+00:00\">26 Jun 2019</time>\\n    <h2 class=\"newstitle\">\\n      <a href=\"https://www.php.net/archive/2019.php#id2019-06-26-1\" id=\"id2019-06-26-1\">PHP 7.4.0 alpha 2 Released</a>\\n    </h2>\\n  </header>\\n  <div class=\"newscontent\">\\n    <div>\\n     <p>\\n     PHP team is glad to announce the release of the second PHP 7.4.0 version, PHP 7.4.0 Alpha 2.\\n     This continues the PHP 7.4 release cycle, the rough outline of which is specified in the\\n     <a href=\"https://wiki.php.net/todo/php74\">PHP Wiki</a>.\\n     </p>\\n     \\n     <p>For source downloads of PHP 7.4.0 Alpha 2 please visit the <a href=\"https://downloads.php.net/~derick\">download page</a>.</p>\\n     \\n     <p>\\n     Please carefully test this version and report any issues found in the <a href=\"http://bugs.php.net\">bug reporting system</a>.\\n     </p>\\n     \\n     <p>\\n     <b>Please DO NOT use this version in production, it is an early test version.</b>\\n     </p>\\n     \\n     <p>\\n         For more information on the new features and other changes, you can read the\\n         <a href=\"https://github.com/php/php-src/blob/php-7.4.0alpha2/NEWS\">NEWS</a> file,\\n         or the <a href=\"https://github.com/php/php-src/blob/php-7.4.0alpha2/UPGRADING\">UPGRADING</a>\\n         file for a complete list of upgrading notes. These files can also be found in the release archive.\\n     </p>\\n     \\n     <p>\\n     The next release would be Alpha 3, planned for July 11th.\\n     </p>\\n     \\n     <p>The signatures for the release can be found in <a href=\"https://gist.github.com/derickr/0cb88c72a785ae8642ae1d81cc2e96f8\">the manifest</a> or on <a href=\"https://qa.php.net/\">the\\n     QA site</a>.\\n     </p>\\n     \\n     <p>Thank you for helping us make PHP better.</p>\\n    </div>\\n  \\n  </div>\\n</article><article class=\"newsentry\">\\n  <header class=\"title\">\\n    <time datetime=\"2019-06-13T11:24:11+00:00\">13 Jun 2019</time>\\n    <h2 class=\"newstitle\">\\n      <a href=\"https://www.php.net/archive/2019.php#id2019-06-13-1\" id=\"id2019-06-13-1\">PHP 7.4.0 alpha 1 Released</a>\\n    </h2>\\n  </header>\\n  <div class=\"newscontent\">\\n    <div>\\n     <p>\\n     PHP team is glad to announce the release of the first PHP 7.4.0 version, PHP 7.4.0 Alpha 1.\\n     This starts the PHP 7.4 release cycle, the rough outline of which is specified in the\\n     <a href=\"https://wiki.php.net/todo/php74\">PHP Wiki</a>.\\n     </p>\\n     \\n     <p>For source downloads of PHP 7.4.0 Alpha 1 please visit the <a href=\"https://downloads.php.net/~derick\">download page</a>.</p>\\n     \\n     <p>\\n     Please carefully test this version and report any issues found in the <a href=\" http://bugs.php.net\">bug reporting system</a>.\\n     </p>\\n     \\n     <p>\\n     <b>Please DO NOT use this version in production, it is an early test version.</b>\\n     </p>\\n     \\n     <p>\\n         For more information on the new features and other changes, you can read the\\n         <a href=\"https://github.com/php/php-src/blob/php-7.4.0alpha1/NEWS\">NEWS</a> file,\\n         or the <a href=\"https://github.com/php/php-src/blob/php-7.4.0alpha1/UPGRADING\">UPGRADING</a>\\n         file for a complete list of upgrading notes. These files can also be found in the release archive.\\n     </p>\\n     \\n     <p>\\n     The next release would be Alpha 2, planned for June 27.\\n     </p>\\n     \\n     <p>The signatures for the release can be found in <a href=\"https://gist.github.com/derickr/000139654a28966ae0bb74560f51f2a7\">the manifest</a> or on <a href=\"https://qa.php.net/\">the\\n     QA site</a>.\\n     </p>\\n     \\n     <p>Thank you for helping us make PHP better.</p>\\n    </div>\\n  \\n  </div>\\n</article><article class=\"newsentry\">\\n  <header class=\"title\">\\n    <time datetime=\"2018-11-22T12:22:47+01:00\">22 Nov 2018</time>\\n    <h2 class=\"newstitle\">\\n      <a href=\"https://www.php.net/archive/2018.php#id2018-11-22-1\" id=\"id2018-11-22-1\">PHP 7.3.0RC6 Released</a>\\n    </h2>\\n  </header>\\n  <div class=\"newscontent\">\\n    <div>\\n      <p>\\n        The PHP team is glad to announce the presumably last PHP 7.3.0 pre-release, PHP 7.3.0RC6.\\n        The rough outline of the PHP 7.3 release cycle is specified in the\\n        <a href=\"https://wiki.php.net/todo/php73\">PHP Wiki</a>.\\n      </p>\\n\\n      <p>\\n        For source downloads of PHP 7.3.0RC6 please visit the <a href=\"https://downloads.php.net/~cmb/\">download page</a>.\\n        Windows sources and binaries can be found on <a href=\"https://windows.php.net/qa/\">windows.php.net/qa/</a>.\\n      </p>\\n\\n      <p>\\n        Please carefully test this version and report any issues found in the <a href=\" https://bugs.php.net\">bug reporting system</a>.\\n      </p>\\n\\n      <p>\\n        <b>THIS IS A DEVELOPMENT PREVIEW - DO NOT USE IT IN PRODUCTION!</b>\\n      </p>\\n\\n      <p>\\n        For more information on the new features and other changes, you can read the\\n        <a href=\"https://github.com/php/php-src/blob/php-7.3.0RC6/NEWS\">NEWS</a> file,\\n        or the <a href=\"https://github.com/php/php-src/blob/php-7.3.0RC6/UPGRADING\">UPGRADING</a>\\n        file for a complete list of upgrading notes. Internal changes are listed in the\\n        <a href=\"https://github.com/php/php-src/blob/php-7.3.0RC6/UPGRADING.INTERNALS\">UPGRADING.INTERNALS</a> file.\\n        These files can also be found in the release archive.\\n      </p>\\n\\n      <p>\\n        The next release would be 7.3.0 (GA), planned for December 6th.\\n      </p>\\n\\n      <p>\\n        The signatures for the release can be found in <a href=\"https://gist.github.com/cmb69/6d9574612d0fb78b8549e42ec096a5a6\">the manifest</a>\\n        or on <a href=\"https://qa.php.net/\">the QA site</a>.\\n      </p>\\n\\n      <p>\\n        Thank you for helping us make PHP better.\\n      </p>\\n    </div>\\n  \\n  </div>\\n</article><article class=\"newsentry\">\\n  <header class=\"title\">\\n    <time datetime=\"2018-11-08T11:11:26+01:00\">08 Nov 2018</time>\\n    <h2 class=\"newstitle\">\\n      <a href=\"https://www.php.net/archive/2018.php#id2018-11-08-1\" id=\"id2018-11-08-1\">PHP 7.3.0RC5 Released</a>\\n    </h2>\\n  </header>\\n  <div class=\"newscontent\">\\n    <div>\\n      <p>\\n        The PHP team is glad to announce the next PHP 7.3.0 pre-release, PHP 7.3.0RC5.\\n        The rough outline of the PHP 7.3 release cycle is specified in the\\n        <a href=\"https://wiki.php.net/todo/php73\">PHP Wiki</a>.\\n      </p>\\n\\n      <p>\\n        For source downloads of PHP 7.3.0RC5 please visit the <a href=\"https://downloads.php.net/~cmb/\">download page</a>.\\n        Windows sources and binaries can be found on <a href=\"https://windows.php.net/qa/\">windows.php.net/qa/</a>.\\n      </p>\\n\\n      <p>\\n        Please carefully test this version and report any issues found in the <a href=\" https://bugs.php.net\">bug reporting system</a>.\\n      </p>\\n\\n      <p>\\n        <b>THIS IS A DEVELOPMENT PREVIEW - DO NOT USE IT IN PRODUCTION!</b>\\n      </p>\\n\\n      <p>\\n        For more information on the new features and other changes, you can read the\\n        <a href=\"https://github.com/php/php-src/blob/php-7.3.0RC5/NEWS\">NEWS</a> file,\\n        or the <a href=\"https://github.com/php/php-src/blob/php-7.3.0RC5/UPGRADING\">UPGRADING</a>\\n        file for a complete list of upgrading notes. Internal changes are listed in the\\n        <a href=\"https://github.com/php/php-src/blob/php-7.3.0RC5/UPGRADING.INTERNALS\">UPGRADING.INTERNALS</a> file.\\n        These files can also be found in the release archive.\\n      </p>\\n\\n      <p>\\n        The next release would be RC6, planned for November 22nd.\\n      </p>\\n\\n      <p>\\n        The signatures for the release can be found in <a href=\"https://gist.github.com/cmb69/a14634afdd52b7f69d65d2bd5a79ac99\">the manifest</a>\\n        or on <a href=\"https://qa.php.net/\">the QA site</a>.\\n      </p>\\n\\n      <p>\\n        Thank you for helping us make PHP better.\\n      </p>\\n    </div>\\n  \\n  </div>\\n</article><article class=\"newsentry\">\\n  <header class=\"title\">\\n    <time datetime=\"2018-10-25T11:07:32+02:00\">25 Oct 2018</time>\\n    <h2 class=\"newstitle\">\\n      <a href=\"https://www.php.net/archive/2018.php#id2018-10-25-1\" id=\"id2018-10-25-1\">PHP 7.3.0RC4 Released</a>\\n    </h2>\\n  </header>\\n  <div class=\"newscontent\">\\n    <div>\\n      <p>\\n        The PHP team is glad to announce the next PHP 7.3.0 pre-release, PHP 7.3.0RC4.\\n        The rough outline of the PHP 7.3 release cycle is specified in the\\n        <a href=\"https://wiki.php.net/todo/php73\">PHP Wiki</a>.\\n      </p>\\n\\n      <p>\\n        For source downloads of PHP 7.3.0RC4 please visit the <a href=\"https://downloads.php.net/~cmb/\">download page</a>.\\n        Windows sources and binaries can be found on <a href=\"https://windows.php.net/qa/\">windows.php.net/qa/</a>.\\n      </p>\\n\\n      <p>\\n        Please carefully test this version and report any issues found in the <a href=\" https://bugs.php.net\">bug reporting system</a>.\\n      </p>\\n\\n      <p>\\n        <b>THIS IS A DEVELOPMENT PREVIEW - DO NOT USE IT IN PRODUCTION!</b>\\n      </p>\\n\\n      <p>\\n        For more information on the new features and other changes, you can read the\\n        <a href=\"https://github.com/php/php-src/blob/php-7.3.0RC4/NEWS\">NEWS</a> file,\\n        or the <a href=\"https://github.com/php/php-src/blob/php-7.3.0RC4/UPGRADING\">UPGRADING</a>\\n        file for a complete list of upgrading notes. Internal changes are listed in the\\n        <a href=\"https://github.com/php/php-src/blob/php-7.3.0RC4/UPGRADING.INTERNALS\">UPGRADING.INTERNALS</a> file.\\n        These files can also be found in the release archive.\\n      </p>\\n\\n      <p>\\n        The next release would be RC5, planned for November 8th.\\n      </p>\\n\\n      <p>\\n        The signatures for the release can be found in <a href=\"https://gist.github.com/cmb69/594d9a18290f1b019b2ba68a098413c6\">the manifest</a>\\n        or on <a href=\"https://qa.php.net/\">the QA site</a>.\\n      </p>\\n\\n      <p>\\n        Thank you for helping us make PHP better.\\n      </p>\\n    </div>\\n  \\n  </div>\\n</article><article class=\"newsentry\">\\n  <header class=\"title\">\\n    <time datetime=\"2018-10-11T13:47:50+02:00\">11 Oct 2018</time>\\n    <h2 class=\"newstitle\">\\n      <a href=\"https://www.php.net/archive/2018.php#id2018-10-11-1\" id=\"id2018-10-11-1\">PHP 7.3.0RC3 Released</a>\\n    </h2>\\n  </header>\\n  <div class=\"newscontent\">\\n    <div>\\n      <p>\\n        The PHP team is glad to announce the next PHP 7.3.0 pre-release, PHP 7.3.0RC3.\\n        The rough outline of the PHP 7.3 release cycle is specified in the\\n        <a href=\"https://wiki.php.net/todo/php73\">PHP Wiki</a>.\\n      </p>\\n\\n      <p>\\n        For source downloads of PHP 7.3.0RC3 please visit the <a href=\"https://downloads.php.net/~cmb/\">download page</a>.\\n        Windows sources and binaries can be found on <a href=\"https://windows.php.net/qa/\">windows.php.net/qa/</a>.\\n      </p>\\n\\n      <p>\\n        Please carefully test this version and report any issues found in the <a href=\" https://bugs.php.net\">bug reporting system</a>.\\n      </p>\\n\\n      <p>\\n        <b>THIS IS A DEVELOPMENT PREVIEW - DO NOT USE IT IN PRODUCTION!</b>\\n      </p>\\n\\n      <p>\\n        For more information on the new features and other changes, you can read the\\n        <a href=\"https://github.com/php/php-src/blob/php-7.3.0RC3/NEWS\">NEWS</a> file,\\n        or the <a href=\"https://github.com/php/php-src/blob/php-7.3.0RC3/UPGRADING\">UPGRADING</a>\\n        file for a complete list of upgrading notes. Internal changes are listed in the\\n        <a href=\"https://github.com/php/php-src/blob/php-7.3.0RC3/UPGRADING.INTERNALS\">UPGRADING.INTERNALS</a> file.\\n        These files can also be found in the release archive.\\n      </p>\\n\\n      <p>\\n        The next release would be RC4, planned for October 25th.\\n      </p>\\n\\n      <p>\\n        The signatures for the release can be found in <a href=\"https://gist.github.com/cmb69/3b521933b5524c92e880fc96559a5f5c\">the manifest</a>\\n        or on <a href=\"https://qa.php.net/\">the QA site</a>.\\n      </p>\\n\\n      <p>\\n        Thank you for helping us make PHP better.\\n      </p>\\n    </div>\\n  \\n  </div>\\n</article><article class=\"newsentry\">\\n  <header class=\"title\">\\n    <time datetime=\"2018-09-28T10:31:16+02:00\">28 Sep 2018</time>\\n    <h2 class=\"newstitle\">\\n      <a href=\"https://www.php.net/archive/2018.php#id2018-09-28-1\" id=\"id2018-09-28-1\">PHP 7.3.0RC2 Released</a>\\n    </h2>\\n  </header>\\n  <div class=\"newscontent\">\\n    <div>\\n      <p>\\n        The PHP team is glad to announce the next PHP 7.3.0 pre-release, PHP 7.3.0RC2.\\n        The rough outline of the PHP 7.3 release cycle is specified in the\\n        <a href=\"https://wiki.php.net/todo/php73\">PHP Wiki</a>.\\n      </p>\\n\\n      <p>\\n        For source downloads of PHP 7.3.0RC2 please visit the <a href=\"https://downloads.php.net/~cmb/\">download page</a>.\\n        Windows sources and binaries can be found on <a href=\"https://windows.php.net/qa/\">windows.php.net/qa/</a>.\\n      </p>\\n\\n      <p>\\n        Please carefully test this version and report any issues found in the <a href=\" https://bugs.php.net\">bug reporting system</a>.\\n      </p>\\n\\n      <p>\\n        <b>THIS IS A DEVELOPMENT PREVIEW - DO NOT USE IT IN PRODUCTION!</b>\\n      </p>\\n\\n      <p>\\n        For more information on the new features and other changes, you can read the\\n        <a href=\"https://github.com/php/php-src/blob/php-7.3.0RC2/NEWS\">NEWS</a> file,\\n        or the <a href=\"https://github.com/php/php-src/blob/php-7.3.0RC2/UPGRADING\">UPGRADING</a>\\n        file for a complete list of upgrading notes. Internal changes are listed in the\\n        <a href=\"https://github.com/php/php-src/blob/php-7.3.0RC2/UPGRADING.INTERNALS\">UPGRADING.INTERNALS</a> file.\\n        These files can also be found in the release archive.\\n      </p>\\n\\n      <p>\\n        The next release would be RC3, planned for October 11th.\\n      </p>\\n\\n      <p>\\n        The signatures for the release can be found in <a href=\"https://gist.github.com/cmb69/ffe9373d127254a19e73e73251e4ff7d\">the manifest</a>\\n        or on <a href=\"https://qa.php.net/\">the QA site</a>.\\n      </p>\\n\\n      <p>\\n        Thank you for helping us make PHP better.\\n      </p>\\n    </div>\\n  \\n  </div>\\n</article><article class=\"newsentry\">\\n  <header class=\"title\">\\n    <time datetime=\"2018-09-13T10:57:40+02:00\">13 Sep 2018</time>\\n    <h2 class=\"newstitle\">\\n      <a href=\"https://www.php.net/archive/2018.php#id2018-09-13-2\" id=\"id2018-09-13-2\">PHP 7.3.0RC1 Released</a>\\n    </h2>\\n  </header>\\n  <div class=\"newscontent\">\\n    <div>\\n      <p>\\n        The PHP team is glad to announce the release of the next PHP 7.3.0 pre-release, PHP 7.3.0RC1.\\n        The rough outline of the PHP 7.3 release cycle is specified in the\\n        <a href=\"https://wiki.php.net/todo/php73\">PHP Wiki</a>.\\n      </p>\\n\\n      <p>\\n        For source downloads of PHP 7.3.0RC1 please visit the <a href=\"https://downloads.php.net/~cmb/\">download page</a>.\\n        Windows sources and binaries can be found on <a href=\"https://windows.php.net/qa/\">windows.php.net/qa/</a>.\\n      </p>\\n\\n      <p>\\n        Please carefully test this version and report any issues found in the <a href=\" https://bugs.php.net\">bug reporting system</a>.\\n      </p>\\n\\n      <p>\\n        <b>THIS IS A DEVELOPMENT PREVIEW - DO NOT USE IT IN PRODUCTION!</b>\\n      </p>\\n\\n      <p>\\n        For more information on the new features and other changes, you can read the\\n        <a href=\"https://github.com/php/php-src/blob/php-7.3.0RC1/NEWS\">NEWS</a> file,\\n        or the <a href=\"https://github.com/php/php-src/blob/php-7.3.0RC1/UPGRADING\">UPGRADING</a>\\n        file for a complete list of upgrading notes. Internal changes are listed in the\\n        <a href=\"https://github.com/php/php-src/blob/php-7.3.0RC1/UPGRADING.INTERNALS\">UPGRADING.INTERNALS</a> file.\\n        These files can also be found in the release archive.\\n      </p>\\n\\n      <p>\\n        The next release would be RC2, planned for September 27th.\\n      </p>\\n\\n      <p>\\n        The signatures for the release can be found in <a href=\"https://gist.github.com/cmb69/224ae1ef28b1e3f2e0a62a4ab50966e4\">the manifest</a>\\n        or on <a href=\"https://qa.php.net/\">the QA site</a>.\\n      </p>\\n\\n      <p>\\n        Thank you for helping us make PHP better.\\n      </p>\\n    </div>\\n  \\n  </div>\\n</article><article class=\"newsentry\">\\n  <header class=\"title\">\\n    <time datetime=\"2018-08-30T17:37:34+02:00\">30 Aug 2018</time>\\n    <h2 class=\"newstitle\">\\n      <a href=\"https://www.php.net/archive/2018.php#id2018-08-30-1\" id=\"id2018-08-30-1\">PHP 7.3.0.beta3 Released</a>\\n    </h2>\\n  </header>\\n  <div class=\"newscontent\">\\n    <div>\\n      <p>\\n        The PHP team is glad to announce the release of the seventh PHP 7.3.0 version, PHP 7.3.0beta3.\\n        The rough outline of the PHP 7.3 release cycle is specified in the\\n        <a href=\"https://wiki.php.net/todo/php73\">PHP Wiki</a>.\\n      </p>\\n\\n      <p>\\n        For source downloads of PHP 7.3.0beta3 please visit the <a href=\"https://downloads.php.net/~cmb/\">download page</a>.\\n        Windows sources and binaries can be found on <a href=\"https://windows.php.net/qa/\">windows.php.net/qa/</a>.\\n      </p>\\n\\n      <p>\\n        Please carefully test this version and report any issues found in the <a href=\" https://bugs.php.net\">bug reporting system</a>.\\n      </p>\\n\\n      <p>\\n        <b>THIS IS A DEVELOPMENT PREVIEW - DO NOT USE IT IN PRODUCTION!</b>\\n      </p>\\n\\n      <p>\\n        For more information on the new features and other changes, you can read the\\n        <a href=\"https://github.com/php/php-src/blob/php-7.3.0beta3/NEWS\">NEWS</a> file,\\n        or the <a href=\"https://github.com/php/php-src/blob/php-7.3.0beta3/UPGRADING\">UPGRADING</a>\\n        file for a complete list of upgrading notes. Internal changes are listed in the\\n        <a href=\"https://github.com/php/php-src/blob/php-7.3.0beta3/UPGRADING.INTERNALS\">UPGRADING.INTERNALS</a> file.\\n        These files can also be found in the release archive.\\n      </p>\\n\\n      <p>\\n        The next release would be RC1, planned for September 13th.\\n      </p>\\n\\n      <p>\\n        The signatures for the release can be found in <a href=\"https://gist.github.com/cmb69/aeef8c8877a451ba6fce6f990dd3860b\">the manifest</a>\\n        or on <a href=\"https://qa.php.net/\">the QA site</a>.\\n      </p>\\n\\n      <p>\\n        Thank you for helping us make PHP better.\\n      </p>\\n    </div>\\n  \\n  </div>\\n</article><article class=\"newsentry\">\\n  <header class=\"title\">\\n    <time datetime=\"2018-08-16T14:11:38+02:00\">16 Aug 2018</time>\\n    <h2 class=\"newstitle\">\\n      <a href=\"https://www.php.net/archive/2018.php#id2018-08-16-1\" id=\"id2018-08-16-1\">PHP 7.3.0.beta2 Released</a>\\n    </h2>\\n  </header>\\n  <div class=\"newscontent\">\\n    <div>\\n      <p>\\n        The PHP team is glad to announce the release of the sixth PHP 7.3.0 version, PHP 7.3.0beta2.\\n        The rough outline of the PHP 7.3 release cycle is specified in the\\n        <a href=\"https://wiki.php.net/todo/php73\">PHP Wiki</a>.\\n      </p>\\n\\n      <p>\\n        For source downloads of PHP 7.3.0beta2 please visit the <a href=\"https://downloads.php.net/~cmb/\">download page</a>.\\n        Windows sources and binaries can be found on <a href=\"https://windows.php.net/qa/\">windows.php.net/qa/</a>.\\n      </p>\\n\\n      <p>\\n        Please carefully test this version and report any issues found in the <a href=\" https://bugs.php.net\">bug reporting system</a>.\\n      </p>\\n\\n      <p>\\n        <b>THIS IS A DEVELOPMENT PREVIEW - DO NOT USE IT IN PRODUCTION!</b>\\n      </p>\\n\\n      <p>\\n        For more information on the new features and other changes, you can read the\\n        <a href=\"https://github.com/php/php-src/blob/php-7.3.0beta2/NEWS\">NEWS</a> file,\\n        or the <a href=\"https://github.com/php/php-src/blob/php-7.3.0beta2/UPGRADING\">UPGRADING</a>\\n        file for a complete list of upgrading notes. Internal changes are listed in the\\n        <a href=\"https://github.com/php/php-src/blob/php-7.3.0beta2/UPGRADING.INTERNALS\">UPGRADING.INTERNALS</a> file.\\n        These files can also be found in the release archive.\\n      </p>\\n\\n      <p>\\n        The next release would be Beta 3, planned for August 30th.\\n      </p>\\n\\n      <p>\\n        The signatures for the release can be found in <a href=\"https://gist.github.com/cmb69/4bfd2f4d54ebc01cd37ba3dc86f1f814\">the manifest</a>\\n        or on <a href=\"https://qa.php.net/\">the QA site</a>.\\n      </p>\\n\\n      <p>\\n        Thank you for helping us make PHP better.\\n      </p>\\n    </div>\\n  \\n  </div>\\n</article><article class=\"newsentry\">\\n  <header class=\"title\">\\n    <time datetime=\"2018-08-02T11:44:58+02:00\">02 Aug 2018</time>\\n    <h2 class=\"newstitle\">\\n      <a href=\"https://www.php.net/archive/2018.php#id2018-08-02-1\" id=\"id2018-08-02-1\">PHP 7.3.0.beta1 Released</a>\\n    </h2>\\n  </header>\\n  <div class=\"newscontent\">\\n    <div>\\n      <p>\\n        The PHP team is glad to announce the release of the fifth PHP 7.3.0 version, PHP 7.3.0beta1.\\n        The rough outline of the PHP 7.3 release cycle is specified in the\\n        <a href=\"https://wiki.php.net/todo/php73\">PHP Wiki</a>.\\n      </p>\\n\\n      <p>\\n        For source downloads of PHP 7.3.0beta1 please visit the <a href=\"https://downloads.php.net/~cmb/\">download page</a>.\\n        Windows sources and binaries can be found on <a href=\"https://windows.php.net/qa/\">windows.php.net/qa/</a>.\\n      </p>\\n\\n      <p>\\n        Please carefully test this version and report any issues found in the <a href=\" https://bugs.php.net\">bug reporting system</a>.\\n      </p>\\n\\n      <p>\\n        <b>THIS IS A DEVELOPMENT PREVIEW - DO NOT USE IT IN PRODUCTION!</b>\\n      </p>\\n\\n      <p>\\n        For more information on the new features and other changes, you can read the\\n        <a href=\"https://github.com/php/php-src/blob/php-7.3.0beta1/NEWS\">NEWS</a> file,\\n        or the <a href=\"https://github.com/php/php-src/blob/php-7.3.0beta1/UPGRADING\">UPGRADING</a>\\n        file for a complete list of upgrading notes. These files can also be found in the release archive.\\n      </p>\\n\\n      <p>\\n        The next release would be Beta 2, planned for August 16th.\\n      </p>\\n\\n      <p>\\n        The signatures for the release can be found in <a href=\"https://gist.github.com/cmb69/e666c3f1622321f868de9282bee67e43\">the manifest</a>\\n        or on <a href=\"https://qa.php.net/\">the QA site</a>.\\n      </p>\\n\\n      <p>\\n        Thank you for helping us make PHP better.\\n      </p>\\n\\n    </div>\\n  \\n  </div>\\n</article><article class=\"newsentry\">\\n  <header class=\"title\">\\n    <time datetime=\"2018-07-19T11:02:21+02:00\">19 Jul 2018</time>\\n    <h2 class=\"newstitle\">\\n      <a href=\"https://www.php.net/archive/2018.php#id2018-07-19-1\" id=\"id2018-07-19-1\">PHP 7.3.0alpha4 Released</a>\\n    </h2>\\n  </header>\\n  <div class=\"newscontent\">\\n    <div>\\n      <p>\\n        The PHP team is glad to announce the release of the fourth PHP 7.3.0 version, PHP 7.3.0alpha4.\\n        The rough outline of the PHP 7.3 release cycle is specified in the\\n        <a href=\"https://wiki.php.net/todo/php73\">PHP Wiki</a>.\\n      </p>\\n\\n      <p>\\n        For source downloads of PHP 7.3.0alpha4 please visit the <a href=\"https://downloads.php.net/~cmb/\">download page</a>.\\n        Windows sources and binaries can be found on <a href=\"https://windows.php.net/qa/\">windows.php.net/qa/</a>.\\n      </p>\\n\\n      <p>\\n        Please carefully test this version and report any issues found in the <a href=\" https://bugs.php.net\">bug reporting system</a>.\\n      </p>\\n\\n      <p>\\n        <b>THIS IS A DEVELOPMENT PREVIEW - DO NOT USE IT IN PRODUCTION!</b>\\n      </p>\\n\\n      <p>\\n        For more information on the new features and other changes, you can read the\\n        <a href=\"https://github.com/php/php-src/blob/php-7.3.0alpha4/NEWS\">NEWS</a> file,\\n        or the <a href=\"https://github.com/php/php-src/blob/php-7.3.0alpha4/UPGRADING\">UPGRADING</a>\\n        file for a complete list of upgrading notes. These files can also be found in the release archive.\\n      </p>\\n\\n      <p>\\n        The next release would be Beta 1, planned for August 2nd.\\n      </p>\\n\\n      <p>\\n        The signatures for the release can be found in <a href=\"https://gist.github.com/cmb69/b30366855341382046687ce7adb20f69\">the manifest</a> or on <a href=\"https://qa.php.net/\">the QA site</a>.\\n      </p>\\n\\n      <p>\\n        Thank you for helping us make PHP better.\\n      </p>\\n    </div>\\n  \\n  </div>\\n</article><article class=\"newsentry\">\\n  <header class=\"title\">\\n    <time datetime=\"2018-07-05T11:41:41+02:00\">05 Jul 2018</time>\\n    <h2 class=\"newstitle\">\\n      <a href=\"https://www.php.net/archive/2018.php#id2018-07-05-1\" id=\"id2018-07-05-1\">PHP 7.3.0 alpha 3 Released</a>\\n    </h2>\\n  </header>\\n  <div class=\"newscontent\">\\n    <div>\\n     <p>\\n      The PHP team is glad to announce the release of the third PHP 7.3.0 version, PHP 7.3.0 Alpha 3.\\n      The rough outline of the PHP 7.3 release cycle is specified in the\\n      <a href=\"https://wiki.php.net/todo/php73\">PHP Wiki</a>.\\n     </p>\\n\\n     <p>\\n      For source downloads of PHP 7.3.0 Alpha 3 please visit the <a href=\"https://downloads.php.net/~cmb/\">download page</a>.\\n      Windows sources and binaries can be found on <a href=\"https://windows.php.net/qa/\">windows.php.net/qa/</a>.\\n     </p>\\n\\n     <p>\\n      Please carefully test this version and report any issues found in the <a href=\" http://bugs.php.net\">bug reporting system</a>.\\n     </p>\\n\\n     <p>\\n      <b>THIS IS A DEVELOPMENT PREVIEW - DO NOT USE IT IN PRODUCTION!</b>\\n     </p>\\n\\n     <p>\\n      For more information on the new features and other changes, you can read the\\n      <a href=\"https://github.com/php/php-src/blob/php-7.3.0alpha3/NEWS\">NEWS</a> file,\\n      or the <a href=\"https://github.com/php/php-src/blob/php-7.3.0alpha3/UPGRADING\">UPGRADING</a>\\n      file for a complete list of upgrading notes. These files can also be found in the release archive.\\n     </p>\\n\\n     <p>\\n      The next release would be Beta 1, planned for July 19th.\\n     </p>\\n\\n     <p>\\n      The signatures for the release can be found in <a href=\"https://gist.github.com/cmb69/e2e76ac0072474b019b0c9f1aef249f1\">the manifest</a> or on <a href=\"https://qa.php.net/\">the QA site</a>.\\n     </p>\\n\\n     <p>\\n      Thank you for helping us make PHP better.\\n     </p>\\n    </div>\\n  \\n  </div>\\n</article><article class=\"newsentry\">\\n  <header class=\"title\">\\n    <time datetime=\"2018-06-21T11:46:20+02:00\">21 Jun 2018</time>\\n    <h2 class=\"newstitle\">\\n      <a href=\"https://www.php.net/archive/2018.php#id2018-06-21-1\" id=\"id2018-06-21-1\">PHP 7.3.0 alpha 2 Released</a>\\n    </h2>\\n  </header>\\n  <div class=\"newscontent\">\\n    <div>\\n     <p>\\n      The PHP team is glad to announce the release of the second PHP 7.3.0 version, PHP 7.3.0 Alpha 2.\\n      The rough outline of the PHP 7.3 release cycle is specified in the\\n      <a href=\"https://wiki.php.net/todo/php73\">PHP Wiki</a>.\\n     </p>\\n\\n     <p>\\n      For source downloads of PHP 7.3.0 Alpha 2 please visit the <a href=\"https://downloads.php.net/~cmb/\">download page</a>.\\n      Windows sources and binaries can be found on <a href=\"https://windows.php.net/qa/\">windows.php.net/qa/</a>.\\n     </p>\\n\\n     <p>\\n      Please carefully test this version and report any issues found in the <a href=\" http://bugs.php.net\">bug reporting system</a>.\\n     </p>\\n\\n     <p>\\n      <b>THIS IS A DEVELOPMENT PREVIEW - DO NOT USE IT IN PRODUCTION!</b>\\n     </p>\\n\\n     <p>\\n      For more information on the new features and other changes, you can read the\\n      <a href=\"https://github.com/php/php-src/blob/php-7.3.0alpha2/NEWS\">NEWS</a> file,\\n      or the <a href=\"https://github.com/php/php-src/blob/php-7.3.0alpha2/UPGRADING\">UPGRADING</a>\\n      file for a complete list of upgrading notes. These files can also be found in the release archive.\\n     </p>\\n\\n     <p>\\n      The next release would be Alpha 3, planned for July 5.\\n     </p>\\n\\n     <p>\\n      The signatures for the release can be found in <a href=\"https://gist.github.com/cmb69/2c54d0972b296a905062f52c0852e7cb\">the manifest</a> or on <a href=\"https://qa.php.net/\">the QA site</a>.\\n     </p>\\n\\n     <p>\\n      Thank you for helping us make PHP better.\\n     </p>\\n    </div>\\n  \\n  </div>\\n</article><article class=\"newsentry\">\\n  <header class=\"title\">\\n    <time datetime=\"2018-06-07T18:36:37+00:00\">07 Jun 2018</time>\\n    <h2 class=\"newstitle\">\\n      <a href=\"https://www.php.net/archive/2018.php#id2018-06-07-1\" id=\"id2018-06-07-1\">PHP 7.3.0 alpha 1 Released</a>\\n    </h2>\\n  </header>\\n  <div class=\"newscontent\">\\n    <div>\\n     <p>\\n     PHP team is glad to announce the release of the first PHP 7.3.0 version, PHP 7.3.0 Alpha 1.\\n\\t This starts the PHP 7.3 release cycle, the rough outline of which is specified in the\\n\\t <a href=\"https://wiki.php.net/todo/php73\">PHP Wiki</a>.\\n     </p>\\n\\n     <p>For source downloads of PHP 7.3.0 Alpha 1 please visit the <a href=\"https://downloads.php.net/~stas/\">download page</a>.</p>\\n\\n     <p>\\n     Please carefully test this version and report any issues found in the <a href=\" http://bugs.php.net\">bug reporting system</a>.\\n     </p>\\n\\n     <p>\\n     <b>Please DO NOT use this version in production, it is an early test version.</b>\\n     </p>\\n\\n     <p>\\n\\t     For more information on the new features and other changes, you can read the\\n\\t     <a href=\"https://github.com/php/php-src/blob/php-7.3.0alpha1/NEWS\">NEWS</a> file,\\n\\t     or the <a href=\"https://github.com/php/php-src/blob/php-7.3.0alpha1/UPGRADING\">UPGRADING</a>\\n\\t     file for a complete list of upgrading notes. These files can also be found in the release archive.\\n\\t </p>\\n\\n     <p>\\n     The next release would be Alpha 2, planned for June 21.\\n     </p>\\n\\n     <p>The signatures for the release can be found in <a href=\"https://gist.github.com/smalyshev/b0994d4dd138007237911429702ee040\">the manifest</a> or on <a href=\"https://qa.php.net/\">the QA site</a>.\\n     </p>\\n\\n     <p>Thank you for helping us make PHP better.</p>\\n    </div>\\n  \\n  </div>\\n</article><article class=\"newsentry\">\\n  <header class=\"title\">\\n    <time datetime=\"2018-02-01T09:12:34+00:00\">01 Feb 2018</time>\\n    <h2 class=\"newstitle\">\\n      <a href=\"https://www.php.net/archive/2018.php#id2018-02-01-1\" id=\"id2018-02-01-1\">PHP 7.2.2 Released</a>\\n    </h2>\\n  </header>\\n  <div class=\"newscontent\">\\n    <div>\\n      <p>The PHP development team announces the immediate availability of PHP\\n      7.2.2. This is a bugfix release, with several bug fixes included.</p>\\n\\n      <p>All PHP 7.2 users are encouraged to upgrade to this version.</p>\\n\\n      <p>For source downloads of PHP 7.2.2 please visit our <a href=\"http://www.php.net/downloads.php\">downloads page</a>,\\n      Windows source and binaries can be found on <a href=\"http://windows.php.net/download/\">windows.php.net/download/</a>.\\n      The list of changes is recorded in the <a href=\"http://www.php.net/ChangeLog-7.php#7.2.2\">ChangeLog</a>.\\n      </p>\\n    </div>\\n  \\n  </div>\\n</article><article class=\"newsentry\">\\n  <header class=\"title\">\\n    <time datetime=\"2017-10-12T11:46:49+02:00\">12 Oct 2017</time>\\n    <h2 class=\"newstitle\">\\n      <a href=\"https://www.php.net/archive/2017.php#id2017-10-12-1\" id=\"id2017-10-12-1\">PHP 7.2.0 Release Candidate 4 Released</a>\\n    </h2>\\n  </header>\\n  <div class=\"newscontent\">\\n    <div>\\n     <p>\\n     The PHP development team announces the immediate availability of PHP 7.2.0 RC4.\\n     This release is the fourth Release Candidate for 7.2.0.\\n     All users of PHP are encouraged to test this version carefully, and report any bugs\\n     and incompatibilities in the <a href=\"https://bugs.php.net/\">bug tracking system</a>.\\n     </p>\\n\\n     <p><strong>THIS IS A DEVELOPMENT PREVIEW - DO NOT USE IT IN PRODUCTION!</strong></p>\\n\\n     <p>\\n     For more information on the new features and other changes, you can read the\\n     <a href=\"https://github.com/php/php-src/blob/php-7.2.0RC4/NEWS\">NEWS</a> file,\\n     or the <a href=\"https://github.com/php/php-src/blob/php-7.2.0RC4/UPGRADING\">UPGRADING</a>\\n     file for a complete list of upgrading notes. These files can also be found in the release archive.\\n     </p>\\n\\n     <p>\\n     For source downloads of PHP 7.2.0 Release Candidate 4 please visit the\\n     <a href=\"https://downloads.php.net/~remi/\">download</a> page,\\n     Windows sources and binaries can be found at\\n     <a href=\"http://windows.php.net/qa/\">windows.php.net/qa/</a>.\\n     </p>\\n\\n     <p>\\n     The next Release Candidate will be announced on the 26th of October.\\n     You can also read the full list of planned releases on\\n     <a href=\"https://wiki.php.net/todo/php72\">our wiki</a>.\\n     </p>\\n\\n     <p>Thank you for helping us make PHP better.</p>\\n    </div>\\n  \\n  </div>\\n</article><article class=\"newsentry\">\\n  <header class=\"title\">\\n    <time datetime=\"2017-09-28T12:58:56+02:00\">28 Sep 2017</time>\\n    <h2 class=\"newstitle\">\\n      <a href=\"https://www.php.net/archive/2017.php#id2017-09-28-2\" id=\"id2017-09-28-2\">PHP 7.2.0 Release Candidate 3 Released</a>\\n    </h2>\\n  </header>\\n  <div class=\"newscontent\">\\n    <div>\\n     <p>\\n     The PHP development team announces the immediate availability of PHP 7.2.0 RC3.\\n     This release is the third Release Candidate for 7.2.0.\\n     All users of PHP are encouraged to test this version carefully, and report any bugs\\n     and incompatibilities in the <a href=\"https://bugs.php.net/\">bug tracking system</a>.\\n     </p>\\n\\n     <p><strong>THIS IS A DEVELOPMENT PREVIEW - DO NOT USE IT IN PRODUCTION!</strong></p>\\n\\n     <p>\\n     For more information on the new features and other changes, you can read the\\n     <a href=\"https://github.com/php/php-src/blob/php-7.2.0RC3/NEWS\">NEWS</a> file,\\n     or the <a href=\"https://github.com/php/php-src/blob/php-7.2.0RC3/UPGRADING\">UPGRADING</a>\\n     file for a complete list of upgrading notes. These files can also be found in the release archive.\\n     </p>\\n\\n     <p>\\n     For source downloads of PHP 7.2.0 Release Candidate 3 please visit the\\n     <a href=\"https://downloads.php.net/~remi/\">download</a> page,\\n     Windows sources and binaries can be found at\\n     <a href=\"http://windows.php.net/qa/\">windows.php.net/qa/</a>.\\n     </p>\\n\\n     <p>\\n     The next Release Candidate will be announced on the 12th of October.\\n     You can also read the full list of planned releases on\\n     <a href=\"https://wiki.php.net/todo/php72\">our wiki</a>.\\n     </p>\\n\\n     <p>Thank you for helping us make PHP better.</p>\\n    </div>\\n  \\n  </div>\\n</article><article class=\"newsentry\">\\n  <header class=\"title\">\\n    <time datetime=\"2017-08-31T10:53:58+02:00\">31 Aug 2017</time>\\n    <h2 class=\"newstitle\">\\n      <a href=\"https://www.php.net/archive/2017.php#id2017-08-31-1\" id=\"id2017-08-31-1\">PHP 7.2.0 Release Candidate 1 Released</a>\\n    </h2>\\n  </header>\\n  <div class=\"newscontent\">\\n    <div>\\n      <p>\\n      The PHP development team announces the immediate availability of PHP 7.2.0 Release\\n      Candidate 1. This release is the first Release Candidate for 7.2.0.\\n      All users of PHP are encouraged to test this version carefully, and report any bugs\\n      and incompatibilities in the <a href=\"https://bugs.php.net/\">bug tracking system</a>.\\n      </p>\\n\\n      <p><strong>THIS IS A DEVELOPMENT PREVIEW - DO NOT USE IT IN PRODUCTION!</strong></p>\\n\\n      <p>\\n      For more information on the new features and other changes, you can read the\\n      <a href=\"https://github.com/php/php-src/blob/php-7.2.0RC1/NEWS\">NEWS</a> file,\\n      or the <a href=\"https://github.com/php/php-src/blob/php-7.2.0RC1/UPGRADING\">UPGRADING</a>\\n      file for a complete list of upgrading notes. These files can also be found in the release archive.\\n      </p>\\n\\n      <p>\\n      For source downloads of PHP 7.2.0 Release Candidate 1 please visit the\\n      <a href=\"https://downloads.php.net/~remi/\">download</a> page,\\n      Windows sources and binaries can be found at\\n      <a href=\"http://windows.php.net/qa/\">windows.php.net/qa/</a>.\\n      </p>\\n\\n      <p>\\n      The second Release Candidate will be released on the 14th of September.\\n      You can also read the full list of planned releases on\\n      <a href=\"https://wiki.php.net/todo/php72\">our wiki</a>.\\n      </p>\\n\\n      <p>Thank you for helping us make PHP better.</p>\\n    </div>\\n  \\n  </div>\\n</article><article class=\"newsentry\">\\n  <header class=\"title\">\\n    <time datetime=\"2017-08-17T10:17:44+02:00\">17 Aug 2017</time>\\n    <h2 class=\"newstitle\">\\n      <a href=\"https://www.php.net/archive/2017.php#id2017-08-17-1\" id=\"id2017-08-17-1\">PHP 7.2.0 Beta 3 Released</a>\\n    </h2>\\n  </header>\\n  <div class=\"newscontent\">\\n    <div>\\n      <p>\\n      The PHP development team announces the immediate availability of PHP 7.2.0 Beta 3.\\n      This release is the third and final beta for 7.2.0. All users of PHP are encouraged\\n      to test this version carefully, and report any bugs and incompatibilities in the\\n      <a href=\"https://bugs.php.net/\">bug tracking system</a>.\\n      </p>\\n\\n      <p><strong>THIS IS A DEVELOPMENT PREVIEW - DO NOT USE IT IN PRODUCTION!</strong></p>\\n\\n      <p>\\n      For more information on the new features and other changes, you can read the\\n      <a href=\"https://github.com/php/php-src/blob/php-7.2.0beta3/NEWS\">NEWS</a> file,\\n      or the <a href=\"https://github.com/php/php-src/blob/php-7.2.0beta3/UPGRADING\">UPGRADING</a>\\n      file for a complete list of upgrading notes. These files can also be found in the release archive.\\n      </p>\\n\\n      <p>\\n      For source downloads of PHP 7.2.0 Beta 3 please visit the\\n      <a href=\"https://downloads.php.net/~remi/\">download</a> page,\\n      Windows sources and binaries can be found at\\n      <a href=\"http://windows.php.net/qa/\">windows.php.net/qa/</a>.\\n      </p>\\n\\n      <p>\\n      The first Release Candidate will be released on the 31th of August.\\n      You can also read the full list of planned releases on\\n      <a href=\"https://wiki.php.net/todo/php72\">our wiki</a>.\\n      </p>\\n\\n      <p>Thank you for helping us make PHP better.</p>\\n    </div>\\n  \\n  </div>\\n</article><article class=\"newsentry\">\\n  <header class=\"title\">\\n    <time datetime=\"2017-07-06T12:25:08+02:00\">06 Jul 2017</time>\\n    <h2 class=\"newstitle\">\\n      <a href=\"https://www.php.net/archive/2017.php#id2017-07-06-2\" id=\"id2017-07-06-2\">PHP 7.2.0 Alpha 3 Released</a>\\n    </h2>\\n  </header>\\n  <div class=\"newscontent\">\\n    <div>\\n     <p>The PHP development team announces the immediate availability of PHP 7.2.0 Alpha 3.\\n     This release contains fixes and improvements relative to Alpha 2.\\n     All users of PHP are encouraged to test this version carefully,\\n     and report any bugs and incompatibilities in the\\n     <a href=\"https://bugs.php.net/\">bug tracking system</a>.</p>\\n\\n     <p><strong>THIS IS A DEVELOPMENT PREVIEW - DO NOT USE IT IN PRODUCTION!</strong></p>\\n\\n     <p>For information on new features and other changes, you can read the\\n     <a href=\"https://github.com/php/php-src/blob/php-7.2.0alpha3/NEWS\">NEWS</a> file,\\n     or the <a href=\"https://github.com/php/php-src/blob/php-7.2.0alpha3/UPGRADING\">UPGRADING</a> file\\n     for a complete list of upgrading notes. These files can also be found in the release archive.</p>\\n\\n     <p>For source downloads of PHP 7.2.0 Alpha 3 please visit the <a href=\"https://downloads.php.net/~remi/\">download</a> page,\\n     Windows sources and binaries can be found on <a href=\"http://windows.php.net/qa/\">windows.php.net/qa/</a>.</p>\\n\\n     <p>The first beta will be released on the 20th of July. You can also read the full list of planned releases on our\\n     <a href=\"https://wiki.php.net/todo/php72#timetable\">wiki</a>.</p>\\n\\n     <p>Thank you for helping us make PHP better.</p>\\n    </div>\\n  \\n  </div>\\n</article><p class=\"archive\"><a href=\"/archive/\">Older News Entries</a></p></div>    </section><!-- layout-content -->\\n    \\n<aside class=\"tips\">\\n    <div class=\"inner\">\\n<div class=\"panel\">  <a href=\"/conferences\" class=\"headline\" title=\"Upcoming conferences\">Upcoming conferences</a><div class=\"body\"><ul><li><a href=\\'https://www.php.net/conferences/index.php#id2020-01-30-1\\' title=\\'php[tek] 2020\\'>php[tek] 2020</a></li><li><a href=\\'https://www.php.net/conferences/index.php#id2020-01-12-1\\' title=\\'Midwest PHP 2020\\'>Midwest PHP 2020</a></li><li><a href=\\'https://www.php.net/conferences/index.php#id2020-01-11-1\\' title=\\'PHP Russia 2020\\'>PHP Russia 2020</a></li><li><a href=\\'https://www.php.net/conferences/index.php#id2019-12-20-1\\' title=\\'Dutch PHP Conference 2020\\'>Dutch PHP Conference 2020</a></li></ul></div></div>\\n    <p class=\\'panel\\'><a href=\\'/cal.php\\'>User Group Events</a></p>\\n    <p class=\\'panel\\'><a href=\\'/thanks.php\\'>Special Thanks</a></p>\\n    <p class=\\'panel social-media\\'>\\n      <span class=\\'headline\\'>Social media</span>\\n      <div class=\\'body\\'>\\n        <ul>\\n          <li>\\n            <a href=\"https://twitter.com/official_php\">\\n              <i class=\"icon-twitter\"></i>\\n              @official_php\\n            </a>\\n          </li>\\n        </ul>\\n      </div>\\n    </p>\\n</div>\\n</aside>\\n\\n  </div><!-- layout -->\\n\\n  <footer>\\n    <div class=\"container footer-content\">\\n      <div class=\"row-fluid\">\\n      <ul class=\"footmenu\">\\n        <li><a href=\"/copyright.php\">Copyright &copy; 2001-2020 The PHP Group</a></li>\\n        <li><a href=\"/my.php\">My PHP.net</a></li>\\n        <li><a href=\"/contact.php\">Contact</a></li>\\n        <li><a href=\"/sites.php\">Other PHP.net sites</a></li>\\n        <li><a href=\"/privacy.php\">Privacy policy</a></li>\\n      </ul>\\n      </div>\\n    </div>\\n  </footer>\\n\\n    <div class=\\'elephpants\\'><div class=images></div></div>\\n <!-- External and third party libraries. -->\\n <script src=\"//ajax.googleapis.com/ajax/libs/jquery/1.10.2/jquery.min.js\"></script>\\n<script src=\"/cached.php?t=1421837618&amp;f=/js/ext/modernizr.js\"></script>\\n<script src=\"/cached.php?t=1421837618&amp;f=/js/ext/hogan-2.0.0.min.js\"></script>\\n<script src=\"/cached.php?t=1421837618&amp;f=/js/ext/typeahead.min.js\"></script>\\n<script src=\"/cached.php?t=1421837618&amp;f=/js/ext/mousetrap.min.js\"></script>\\n<script src=\"/cached.php?t=1421837618&amp;f=/js/search.js\"></script>\\n<script src=\"/cached.php?t=1539765004&amp;f=/js/common.js\"></script>\\n\\n<a id=\"toTop\" href=\"javascript:;\"><span id=\"toTopHover\"></span><img width=\"40\" height=\"40\" alt=\"To Top\" src=\"/images/to-top@2x.png\"></a>\\n\\n</body>\\n</html>\\n'\n"
     ]
    }
   ],
   "source": [
    "response = urllib.request.urlopen('http://php.net/')\n",
    "html = response.read()\n",
    "print (html)"
   ]
  },
  {
   "cell_type": "code",
   "execution_count": 18,
   "metadata": {},
   "outputs": [
    {
     "name": "stdout",
     "output_type": "stream",
     "text": [
      "PHP: Hypertext PreprocessorDownloadsDocumentationGet InvolvedHelpGetting StartedIntroductionA simple tutorialLanguage ReferenceBasic syntaxTypesVariablesConstantsExpressionsOperatorsControl StructuresFunctionsClasses and ObjectsNamespacesErrorsExceptionsGeneratorsReferences ExplainedPredefined VariablesPredefined ExceptionsPredefined Interfaces and ClassesContext options and parametersSupported Protocols and WrappersSecurityIntroductionGeneral considerationsInstalled as CGI binaryInstalled as an Apache moduleSession SecurityFilesystem SecurityDatabase SecurityError ReportingUsing Register GlobalsUser Submitted DataMagic QuotesHiding PHPKeeping CurrentFeaturesHTTP authentication with PHPCookiesSessionsDealing with XFormsHandling file uploadsUsing remote filesConnection handlingPersistent Database ConnectionsSafe ModeCommand line usageGarbage CollectionDTrace Dynamic TracingFunction ReferenceAffecting PHP's BehaviourAudio Formats ManipulationAuthentication ServicesCommand Line Specific ExtensionsCompression and Archive ExtensionsCredit Card ProcessingCryptography ExtensionsDatabase ExtensionsDate and Time Related ExtensionsFile System Related ExtensionsHuman Language and Character Encoding SupportImage Processing and GenerationMail Related ExtensionsMathematical ExtensionsNon-Text MIME OutputProcess Control ExtensionsOther Basic ExtensionsOther ServicesSearch Engine ExtensionsServer Specific ExtensionsSession ExtensionsText ProcessingVariable and Type Related ExtensionsWeb ServicesWindows Only ExtensionsXML ManipulationGUI ExtensionsKeyboard Shortcuts?This helpjNext menu itemkPrevious menu itemg pPrevious man pageg nNext man pageGScroll to bottomg gScroll to topg hGoto homepageg sGoto search(current page)/Focus search boxPHP is a popular general-purpose scripting language that is especially suited to web development.Fast, flexible and pragmatic, PHP powers everything from your blog to the most popular websites in the world.Download7.4.2·Release Notes·Upgrading7.3.14·Release Notes·Upgrading7.2.27·Release Notes·Upgrading23 Jan 2020PHP 7.3.14 ReleasedThe PHP development team announces the immediate availability of PHP\n",
      "      7.3.14. This is a security release which also contains several bug fixes.All PHP 7.3 users are encouraged to upgrade to this version.For source downloads of PHP 7.3.14 please visit ourdownloads page,\n",
      "      Windows source and binaries can be found onwindows.php.net/download/.\n",
      "      The list of changes is recorded in theChangeLog.23 Jan 2020PHP 7.2.27 ReleasedThe PHP development team announces the immediate availability of PHP\n",
      "     7.2.27. This is a security release.All PHP 7.2 users are encouraged to upgrade to this version.For source downloads of PHP 7.2.27 please visit ourdownloads page,\n",
      "     Windows source and binaries can be found onwindows.php.net/download/.\n",
      "     The list of changes is recorded in theChangeLog.23 Jan 2020PHP 7.4.2 ReleasedPHP 7.4.2 Release AnnouncementThe PHP development team announces the immediate availability of PHP\n",
      "       7.4.2. This is a security release which also contains several bug fixes.All PHP 7.4 users are encouraged to upgrade to this version.For source downloads of PHP 7.4.2 please visit ourdownloads page,\n",
      "       Windows source and binaries can be found onwindows.php.net/download/.\n",
      "       The list of changes is recorded in theChangeLog.18 Dec 2019PHP 7.2.26 ReleasedThe PHP development team announces the immediate availability of PHP\n",
      "     7.2.26. This is a security release which also contains several minor bug fixes.All PHP 7.2 users are encouraged to upgrade to this version.For source downloads of PHP 7.2.26 please visit ourdownloads page,\n",
      "     Windows source and binaries can be found onwindows.php.net/download/.\n",
      "     The list of changes is recorded in theChangeLog.18 Dec 2019PHP 7.3.13 ReleasedThe PHP development team announces the immediate availability of PHP\n",
      "       7.3.13. This is a security release which also contains several bug fixes.All PHP 7.3 users are encouraged to upgrade to this version.For source downloads of PHP 7.3.13 please visit ourdownloads page,\n",
      "       Windows source and binaries can be found onwindows.php.net/download/.\n",
      "       The list of changes is recorded in theChangeLog.18 Dec 2019PHP 7.4.1 Released!PHP 7.4.1 Release AnnouncementThe PHP development team announces the immediate availability of PHP\n",
      "       7.4.1. This is a security release which also contains several bug fixes.All PHP 7.4 users are encouraged to upgrade to this version.For source downloads of PHP 7.4.1 please visit ourdownloads page,\n",
      "       Windows source and binaries can be found onwindows.php.net/download/.\n",
      "       The list of changes is recorded in theChangeLog.14 Nov 2019PHP 7.4.0RC6 Released!The PHP team is glad to announce the sixth release candidate of PHP 7.4:\n",
      "     PHP 7.4.0RC6. This continues the PHP 7.4 release cycle, the rough outline of\n",
      "     which is specified in thePHP\n",
      "     Wiki.Please DO NOT use this version in production, it is an early test\n",
      "     version.For source downloads of PHP 7.4.0RC6 please visit thedownload page.Please carefully test this version and report any issues found in thebug reporting system.For more information on the new features and other changes, you can read theNEWSfile, or theUPGRADINGfile for a complete list of upgrading notes. These files can also be found in\n",
      "     the release archive.The next release would be7.4.0, planned for November 28th.The signatures for the release can be found inthe\n",
      "     manifestor onthe QA site.Thank you for helping us make PHP better.31 Oct 2019PHP 7.4.0RC5 released!The PHP team is glad to announce the fifth release candidate of PHP 7.4:\n",
      "     PHP 7.4.0RC5. This continues the PHP 7.4 release cycle, the rough outline of\n",
      "     which is specified in thePHP\n",
      "     Wiki.Please DO NOT use this version in production, it is an early test\n",
      "     version.For source downloads of PHP 7.4.0RC5 please visit thedownload page.Please carefully test this version and report any issues found in thebug reporting system.For more information on the new features and other changes, you can read theNEWSfile, or theUPGRADINGfile for a complete list of upgrading notes. These files can also be found in\n",
      "     the release archive.The next release would be7.4.0RC6, planned for November 14th.The signatures for the release can be found inthe\n",
      "     manifestor onthe QA site.Thank you for helping us make PHP better.18 Oct 2019PHP 7.4.0RC4 Released!The PHP team is glad to announce the fourth release candidate of PHP 7.4:\n",
      "     PHP 7.4.0RC4. This continues the PHP 7.4 release cycle, the rough outline of\n",
      "     which is specified in thePHP\n",
      "     Wiki.Please DO NOT use this version in production, it is an early test\n",
      "     version.For source downloads of PHP 7.4.0RC4 please visit thedownload page.Please carefully test this version and report any issues found in thebug reporting system.For more information on the new features and other changes, you can read theNEWSfile, or theUPGRADINGfile for a complete list of upgrading notes. These files can also be found in\n",
      "     the release archive.The next release would be7.4.0RC5, planned for October 31st.The signatures for the release can be found inthe\n",
      "     manifestor onthe QA site.Thank you for helping us make PHP better.03 Oct 2019PHP 7.4.0RC3 Released!The PHP team is glad to announce the third release candidate of PHP 7.4:\n",
      "     PHP 7.4.0RC3. This continues the PHP 7.4 release cycle, the rough outline of\n",
      "     which is specified in thePHP\n",
      "     Wiki.Please DO NOT use this version in production, it is an early test\n",
      "     version.For source downloads of PHP 7.4.0RC3 please visit thedownload page.Please carefully test this version and report any issues found in thebug reporting system.For more information on the new features and other changes, you can read theNEWSfile, or theUPGRADINGfile for a complete list of upgrading notes. These files can also be found in\n",
      "     the release archive.The next release would be7.4.0RC4, planned for October 17th.The signatures for the release can be found inthe\n",
      "     manifestor onthe QA site.Thank you for helping us make PHP better.19 Sep 2019PHP 7.4.0RC2 Released!The PHP team is glad to announce the second release candidate of PHP 7.4:\n",
      "     PHP 7.4.0RC2. This continues the PHP 7.4 release cycle, the rough outline of\n",
      "     which is specified in thePHP\n",
      "     Wiki.Please DO NOT use this version in production, it is an early test\n",
      "     version.For source downloads of PHP 7.4.0RC2 please visit thedownload page.Please carefully test this version and report any issues found in thebug reporting system.For more information on the new features and other changes, you can read theNEWSfile, or theUPGRADINGfile for a complete list of upgrading notes. These files can also be found in\n",
      "     the release archive.The next release would be7.4.0RC3, planned for October 3rd.The signatures for the release can be found inthe\n",
      "     manifestor onthe QA site.Thank you for helping us make PHP better.05 Sep 2019PHP 7.4.0RC1 Released!The PHP team is glad to announce the first release candidate of PHP 7.4:\n",
      "     PHP 7.4.0RC1. This continues the PHP 7.4 release cycle, the rough outline of\n",
      "     which is specified in thePHP\n",
      "     Wiki.Please DO NOT use this version in production, it is an early test\n",
      "     version.For source downloads of PHP 7.4.0RC1 please visit thedownload page.Please carefully test this version and report any issues found in thebug reporting system.For more information on the new features and other changes, you can read theNEWSfile, or theUPGRADINGfile for a complete list of upgrading notes. These files can also be found in\n",
      "     the release archive.The next release would be7.4.0RC2, planned for September 19th.The signatures for the release can be found inthe\n",
      "     manifestor onthe QA site.Thank you for helping us make PHP better.22 Aug 2019PHP 7.4.0beta4 released!The PHP team is glad to announce the third and last beta release of PHP 7.4:\n",
      "     PHP 7.4.0beta4. This continues the PHP 7.4 release cycle, the rough outline of\n",
      "     which is specified in thePHP\n",
      "     Wiki.For source downloads of PHP 7.4.0beta4 please visit thedownload page.Please carefully test this version and report any issues found in thebug reporting system.Please DO NOT use this version in production, it is an early test\n",
      "     version.For more information on the new features and other changes, you can read theNEWSfile, or theUPGRADINGfile for a complete list of upgrading notes. These files can also be found in\n",
      "     the release archive.The next release would beRC 1, planned for September 5th.The signatures for the release can be found inthe\n",
      "     manifestor onthe QA site.Thank you for helping us make PHP better.08 Aug 2019PHP 7.4.0beta2 released!The PHP team is glad to announce the second beta release of PHP 7.4: PHP\n",
      "     7.4.0beta2. This continues the PHP 7.4 release cycle, the rough outline of\n",
      "     which is specified in thePHP\n",
      "     Wiki.For source downloads of PHP 7.4.0beta2 please visit thedownload page.Please carefully test this version and report any issues found in thebug reporting system.Please DO NOT use this version in production, it is an early test\n",
      "     version.For more information on the new features and other changes, you can read theNEWSfile, or theUPGRADINGfile for a complete list of upgrading notes. These files can also be found in\n",
      "     the release archive.The next release would beBeta 3, planned for August 22nd.The signatures for the release can be found inthe\n",
      "     manifestor onthe QA site.Thank you for helping us make PHP better.25 Jul 2019PHP 7.4.0beta1 released!The PHP team is glad to announce the first beta release of PHP 7.4: PHP\n",
      "     7.4.0beta1. This continues the PHP 7.4 release cycle, the rough outline of\n",
      "     which is specified in thePHP\n",
      "     Wiki.For source downloads of PHP 7.4.0beta1 please visit thedownload page.Please carefully test this version and report any issues found in thebug reporting system.Please DO NOT use this version in production, it is an early test\n",
      "     version.For more information on the new features and other changes, you can read theNEWSfile, or theUPGRADINGfile for a complete list of upgrading notes. These files can also be found in\n",
      "     the release archive.The next release would beBeta 2, planned for August 8th.The signatures for the release can be found inthe\n",
      "     manifestor onthe QA site.Thank you for helping us make PHP better.11 Jul 2019PHP 7.4.0 alpha 3 ReleasedPHP team is glad to announce the release of the third PHP 7.4.0 version, PHP\n",
      "     7.4.0 Alpha 3. This continues the PHP 7.4 release cycle, the rough outline of\n",
      "     which is specified in thePHP\n",
      "     Wiki.For source downloads of PHP 7.4.0 Alpha 3 please visit thedownload page.Please carefully test this version and report any issues found in thebug reporting system.Please DO NOT use this version in production, it is an early test\n",
      "     version.For more information on the new features and other changes, you can read theNEWSfile,\n",
      "      or theUPGRADINGfile for a complete list of upgrading notes. These files can also be found in the release archive.The next release would beBeta 1, planned for July 25th.The signatures for the release can be found inthe\n",
      "     manifestor onthe QA site.Thank you for helping us make PHP better.26 Jun 2019PHP 7.4.0 alpha 2 ReleasedPHP team is glad to announce the release of the second PHP 7.4.0 version, PHP 7.4.0 Alpha 2.\n",
      "     This continues the PHP 7.4 release cycle, the rough outline of which is specified in thePHP Wiki.For source downloads of PHP 7.4.0 Alpha 2 please visit thedownload page.Please carefully test this version and report any issues found in thebug reporting system.Please DO NOT use this version in production, it is an early test version.For more information on the new features and other changes, you can read theNEWSfile,\n",
      "         or theUPGRADINGfile for a complete list of upgrading notes. These files can also be found in the release archive.The next release would be Alpha 3, planned for July 11th.The signatures for the release can be found inthe manifestor onthe\n",
      "     QA site.Thank you for helping us make PHP better.13 Jun 2019PHP 7.4.0 alpha 1 ReleasedPHP team is glad to announce the release of the first PHP 7.4.0 version, PHP 7.4.0 Alpha 1.\n",
      "     This starts the PHP 7.4 release cycle, the rough outline of which is specified in thePHP Wiki.For source downloads of PHP 7.4.0 Alpha 1 please visit thedownload page.Please carefully test this version and report any issues found in thebug reporting system.Please DO NOT use this version in production, it is an early test version.For more information on the new features and other changes, you can read theNEWSfile,\n",
      "         or theUPGRADINGfile for a complete list of upgrading notes. These files can also be found in the release archive.The next release would be Alpha 2, planned for June 27.The signatures for the release can be found inthe manifestor onthe\n",
      "     QA site.Thank you for helping us make PHP better.22 Nov 2018PHP 7.3.0RC6 ReleasedThe PHP team is glad to announce the presumably last PHP 7.3.0 pre-release, PHP 7.3.0RC6.\n",
      "        The rough outline of the PHP 7.3 release cycle is specified in thePHP Wiki.For source downloads of PHP 7.3.0RC6 please visit thedownload page.\n",
      "        Windows sources and binaries can be found onwindows.php.net/qa/.Please carefully test this version and report any issues found in thebug reporting system.THIS IS A DEVELOPMENT PREVIEW - DO NOT USE IT IN PRODUCTION!For more information on the new features and other changes, you can read theNEWSfile,\n",
      "        or theUPGRADINGfile for a complete list of upgrading notes. Internal changes are listed in theUPGRADING.INTERNALSfile.\n",
      "        These files can also be found in the release archive.The next release would be 7.3.0 (GA), planned for December 6th.The signatures for the release can be found inthe manifestor onthe QA site.Thank you for helping us make PHP better.08 Nov 2018PHP 7.3.0RC5 ReleasedThe PHP team is glad to announce the next PHP 7.3.0 pre-release, PHP 7.3.0RC5.\n",
      "        The rough outline of the PHP 7.3 release cycle is specified in thePHP Wiki.For source downloads of PHP 7.3.0RC5 please visit thedownload page.\n",
      "        Windows sources and binaries can be found onwindows.php.net/qa/.Please carefully test this version and report any issues found in thebug reporting system.THIS IS A DEVELOPMENT PREVIEW - DO NOT USE IT IN PRODUCTION!For more information on the new features and other changes, you can read theNEWSfile,\n",
      "        or theUPGRADINGfile for a complete list of upgrading notes. Internal changes are listed in theUPGRADING.INTERNALSfile.\n",
      "        These files can also be found in the release archive.The next release would be RC6, planned for November 22nd.The signatures for the release can be found inthe manifestor onthe QA site.Thank you for helping us make PHP better.25 Oct 2018PHP 7.3.0RC4 ReleasedThe PHP team is glad to announce the next PHP 7.3.0 pre-release, PHP 7.3.0RC4.\n",
      "        The rough outline of the PHP 7.3 release cycle is specified in thePHP Wiki.For source downloads of PHP 7.3.0RC4 please visit thedownload page.\n",
      "        Windows sources and binaries can be found onwindows.php.net/qa/.Please carefully test this version and report any issues found in thebug reporting system.THIS IS A DEVELOPMENT PREVIEW - DO NOT USE IT IN PRODUCTION!For more information on the new features and other changes, you can read theNEWSfile,\n",
      "        or theUPGRADINGfile for a complete list of upgrading notes. Internal changes are listed in theUPGRADING.INTERNALSfile.\n",
      "        These files can also be found in the release archive.The next release would be RC5, planned for November 8th.The signatures for the release can be found inthe manifestor onthe QA site.Thank you for helping us make PHP better.11 Oct 2018PHP 7.3.0RC3 ReleasedThe PHP team is glad to announce the next PHP 7.3.0 pre-release, PHP 7.3.0RC3.\n",
      "        The rough outline of the PHP 7.3 release cycle is specified in thePHP Wiki.For source downloads of PHP 7.3.0RC3 please visit thedownload page.\n",
      "        Windows sources and binaries can be found onwindows.php.net/qa/.Please carefully test this version and report any issues found in thebug reporting system.THIS IS A DEVELOPMENT PREVIEW - DO NOT USE IT IN PRODUCTION!For more information on the new features and other changes, you can read theNEWSfile,\n",
      "        or theUPGRADINGfile for a complete list of upgrading notes. Internal changes are listed in theUPGRADING.INTERNALSfile.\n",
      "        These files can also be found in the release archive.The next release would be RC4, planned for October 25th.The signatures for the release can be found inthe manifestor onthe QA site.Thank you for helping us make PHP better.28 Sep 2018PHP 7.3.0RC2 ReleasedThe PHP team is glad to announce the next PHP 7.3.0 pre-release, PHP 7.3.0RC2.\n",
      "        The rough outline of the PHP 7.3 release cycle is specified in thePHP Wiki.For source downloads of PHP 7.3.0RC2 please visit thedownload page.\n",
      "        Windows sources and binaries can be found onwindows.php.net/qa/.Please carefully test this version and report any issues found in thebug reporting system.THIS IS A DEVELOPMENT PREVIEW - DO NOT USE IT IN PRODUCTION!For more information on the new features and other changes, you can read theNEWSfile,\n",
      "        or theUPGRADINGfile for a complete list of upgrading notes. Internal changes are listed in theUPGRADING.INTERNALSfile.\n",
      "        These files can also be found in the release archive.The next release would be RC3, planned for October 11th.The signatures for the release can be found inthe manifestor onthe QA site.Thank you for helping us make PHP better.13 Sep 2018PHP 7.3.0RC1 ReleasedThe PHP team is glad to announce the release of the next PHP 7.3.0 pre-release, PHP 7.3.0RC1.\n",
      "        The rough outline of the PHP 7.3 release cycle is specified in thePHP Wiki.For source downloads of PHP 7.3.0RC1 please visit thedownload page.\n",
      "        Windows sources and binaries can be found onwindows.php.net/qa/.Please carefully test this version and report any issues found in thebug reporting system.THIS IS A DEVELOPMENT PREVIEW - DO NOT USE IT IN PRODUCTION!For more information on the new features and other changes, you can read theNEWSfile,\n",
      "        or theUPGRADINGfile for a complete list of upgrading notes. Internal changes are listed in theUPGRADING.INTERNALSfile.\n",
      "        These files can also be found in the release archive.The next release would be RC2, planned for September 27th.The signatures for the release can be found inthe manifestor onthe QA site.Thank you for helping us make PHP better.30 Aug 2018PHP 7.3.0.beta3 ReleasedThe PHP team is glad to announce the release of the seventh PHP 7.3.0 version, PHP 7.3.0beta3.\n",
      "        The rough outline of the PHP 7.3 release cycle is specified in thePHP Wiki.For source downloads of PHP 7.3.0beta3 please visit thedownload page.\n",
      "        Windows sources and binaries can be found onwindows.php.net/qa/.Please carefully test this version and report any issues found in thebug reporting system.THIS IS A DEVELOPMENT PREVIEW - DO NOT USE IT IN PRODUCTION!For more information on the new features and other changes, you can read theNEWSfile,\n",
      "        or theUPGRADINGfile for a complete list of upgrading notes. Internal changes are listed in theUPGRADING.INTERNALSfile.\n",
      "        These files can also be found in the release archive.The next release would be RC1, planned for September 13th.The signatures for the release can be found inthe manifestor onthe QA site.Thank you for helping us make PHP better.16 Aug 2018PHP 7.3.0.beta2 ReleasedThe PHP team is glad to announce the release of the sixth PHP 7.3.0 version, PHP 7.3.0beta2.\n",
      "        The rough outline of the PHP 7.3 release cycle is specified in thePHP Wiki.For source downloads of PHP 7.3.0beta2 please visit thedownload page.\n",
      "        Windows sources and binaries can be found onwindows.php.net/qa/.Please carefully test this version and report any issues found in thebug reporting system.THIS IS A DEVELOPMENT PREVIEW - DO NOT USE IT IN PRODUCTION!For more information on the new features and other changes, you can read theNEWSfile,\n",
      "        or theUPGRADINGfile for a complete list of upgrading notes. Internal changes are listed in theUPGRADING.INTERNALSfile.\n",
      "        These files can also be found in the release archive.The next release would be Beta 3, planned for August 30th.The signatures for the release can be found inthe manifestor onthe QA site.Thank you for helping us make PHP better.02 Aug 2018PHP 7.3.0.beta1 ReleasedThe PHP team is glad to announce the release of the fifth PHP 7.3.0 version, PHP 7.3.0beta1.\n",
      "        The rough outline of the PHP 7.3 release cycle is specified in thePHP Wiki.For source downloads of PHP 7.3.0beta1 please visit thedownload page.\n",
      "        Windows sources and binaries can be found onwindows.php.net/qa/.Please carefully test this version and report any issues found in thebug reporting system.THIS IS A DEVELOPMENT PREVIEW - DO NOT USE IT IN PRODUCTION!For more information on the new features and other changes, you can read theNEWSfile,\n",
      "        or theUPGRADINGfile for a complete list of upgrading notes. These files can also be found in the release archive.The next release would be Beta 2, planned for August 16th.The signatures for the release can be found inthe manifestor onthe QA site.Thank you for helping us make PHP better.19 Jul 2018PHP 7.3.0alpha4 ReleasedThe PHP team is glad to announce the release of the fourth PHP 7.3.0 version, PHP 7.3.0alpha4.\n",
      "        The rough outline of the PHP 7.3 release cycle is specified in thePHP Wiki.For source downloads of PHP 7.3.0alpha4 please visit thedownload page.\n",
      "        Windows sources and binaries can be found onwindows.php.net/qa/.Please carefully test this version and report any issues found in thebug reporting system.THIS IS A DEVELOPMENT PREVIEW - DO NOT USE IT IN PRODUCTION!For more information on the new features and other changes, you can read theNEWSfile,\n",
      "        or theUPGRADINGfile for a complete list of upgrading notes. These files can also be found in the release archive.The next release would be Beta 1, planned for August 2nd.The signatures for the release can be found inthe manifestor onthe QA site.Thank you for helping us make PHP better.05 Jul 2018PHP 7.3.0 alpha 3 ReleasedThe PHP team is glad to announce the release of the third PHP 7.3.0 version, PHP 7.3.0 Alpha 3.\n",
      "      The rough outline of the PHP 7.3 release cycle is specified in thePHP Wiki.For source downloads of PHP 7.3.0 Alpha 3 please visit thedownload page.\n",
      "      Windows sources and binaries can be found onwindows.php.net/qa/.Please carefully test this version and report any issues found in thebug reporting system.THIS IS A DEVELOPMENT PREVIEW - DO NOT USE IT IN PRODUCTION!For more information on the new features and other changes, you can read theNEWSfile,\n",
      "      or theUPGRADINGfile for a complete list of upgrading notes. These files can also be found in the release archive.The next release would be Beta 1, planned for July 19th.The signatures for the release can be found inthe manifestor onthe QA site.Thank you for helping us make PHP better.21 Jun 2018PHP 7.3.0 alpha 2 ReleasedThe PHP team is glad to announce the release of the second PHP 7.3.0 version, PHP 7.3.0 Alpha 2.\n",
      "      The rough outline of the PHP 7.3 release cycle is specified in thePHP Wiki.For source downloads of PHP 7.3.0 Alpha 2 please visit thedownload page.\n",
      "      Windows sources and binaries can be found onwindows.php.net/qa/.Please carefully test this version and report any issues found in thebug reporting system.THIS IS A DEVELOPMENT PREVIEW - DO NOT USE IT IN PRODUCTION!For more information on the new features and other changes, you can read theNEWSfile,\n",
      "      or theUPGRADINGfile for a complete list of upgrading notes. These files can also be found in the release archive.The next release would be Alpha 3, planned for July 5.The signatures for the release can be found inthe manifestor onthe QA site.Thank you for helping us make PHP better.07 Jun 2018PHP 7.3.0 alpha 1 ReleasedPHP team is glad to announce the release of the first PHP 7.3.0 version, PHP 7.3.0 Alpha 1.\n",
      "\t This starts the PHP 7.3 release cycle, the rough outline of which is specified in thePHP Wiki.For source downloads of PHP 7.3.0 Alpha 1 please visit thedownload page.Please carefully test this version and report any issues found in thebug reporting system.Please DO NOT use this version in production, it is an early test version.For more information on the new features and other changes, you can read theNEWSfile,\n",
      "\t     or theUPGRADINGfile for a complete list of upgrading notes. These files can also be found in the release archive.The next release would be Alpha 2, planned for June 21.The signatures for the release can be found inthe manifestor onthe QA site.Thank you for helping us make PHP better.01 Feb 2018PHP 7.2.2 ReleasedThe PHP development team announces the immediate availability of PHP\n",
      "      7.2.2. This is a bugfix release, with several bug fixes included.All PHP 7.2 users are encouraged to upgrade to this version.For source downloads of PHP 7.2.2 please visit ourdownloads page,\n",
      "      Windows source and binaries can be found onwindows.php.net/download/.\n",
      "      The list of changes is recorded in theChangeLog.12 Oct 2017PHP 7.2.0 Release Candidate 4 ReleasedThe PHP development team announces the immediate availability of PHP 7.2.0 RC4.\n",
      "     This release is the fourth Release Candidate for 7.2.0.\n",
      "     All users of PHP are encouraged to test this version carefully, and report any bugs\n",
      "     and incompatibilities in thebug tracking system.THIS IS A DEVELOPMENT PREVIEW - DO NOT USE IT IN PRODUCTION!For more information on the new features and other changes, you can read theNEWSfile,\n",
      "     or theUPGRADINGfile for a complete list of upgrading notes. These files can also be found in the release archive.For source downloads of PHP 7.2.0 Release Candidate 4 please visit thedownloadpage,\n",
      "     Windows sources and binaries can be found atwindows.php.net/qa/.The next Release Candidate will be announced on the 26th of October.\n",
      "     You can also read the full list of planned releases onour wiki.Thank you for helping us make PHP better.28 Sep 2017PHP 7.2.0 Release Candidate 3 ReleasedThe PHP development team announces the immediate availability of PHP 7.2.0 RC3.\n",
      "     This release is the third Release Candidate for 7.2.0.\n",
      "     All users of PHP are encouraged to test this version carefully, and report any bugs\n",
      "     and incompatibilities in thebug tracking system.THIS IS A DEVELOPMENT PREVIEW - DO NOT USE IT IN PRODUCTION!For more information on the new features and other changes, you can read theNEWSfile,\n",
      "     or theUPGRADINGfile for a complete list of upgrading notes. These files can also be found in the release archive.For source downloads of PHP 7.2.0 Release Candidate 3 please visit thedownloadpage,\n",
      "     Windows sources and binaries can be found atwindows.php.net/qa/.The next Release Candidate will be announced on the 12th of October.\n",
      "     You can also read the full list of planned releases onour wiki.Thank you for helping us make PHP better.31 Aug 2017PHP 7.2.0 Release Candidate 1 ReleasedThe PHP development team announces the immediate availability of PHP 7.2.0 Release\n",
      "      Candidate 1. This release is the first Release Candidate for 7.2.0.\n",
      "      All users of PHP are encouraged to test this version carefully, and report any bugs\n",
      "      and incompatibilities in thebug tracking system.THIS IS A DEVELOPMENT PREVIEW - DO NOT USE IT IN PRODUCTION!For more information on the new features and other changes, you can read theNEWSfile,\n",
      "      or theUPGRADINGfile for a complete list of upgrading notes. These files can also be found in the release archive.For source downloads of PHP 7.2.0 Release Candidate 1 please visit thedownloadpage,\n",
      "      Windows sources and binaries can be found atwindows.php.net/qa/.The second Release Candidate will be released on the 14th of September.\n",
      "      You can also read the full list of planned releases onour wiki.Thank you for helping us make PHP better.17 Aug 2017PHP 7.2.0 Beta 3 ReleasedThe PHP development team announces the immediate availability of PHP 7.2.0 Beta 3.\n",
      "      This release is the third and final beta for 7.2.0. All users of PHP are encouraged\n",
      "      to test this version carefully, and report any bugs and incompatibilities in thebug tracking system.THIS IS A DEVELOPMENT PREVIEW - DO NOT USE IT IN PRODUCTION!For more information on the new features and other changes, you can read theNEWSfile,\n",
      "      or theUPGRADINGfile for a complete list of upgrading notes. These files can also be found in the release archive.For source downloads of PHP 7.2.0 Beta 3 please visit thedownloadpage,\n",
      "      Windows sources and binaries can be found atwindows.php.net/qa/.The first Release Candidate will be released on the 31th of August.\n",
      "      You can also read the full list of planned releases onour wiki.Thank you for helping us make PHP better.06 Jul 2017PHP 7.2.0 Alpha 3 ReleasedThe PHP development team announces the immediate availability of PHP 7.2.0 Alpha 3.\n",
      "     This release contains fixes and improvements relative to Alpha 2.\n",
      "     All users of PHP are encouraged to test this version carefully,\n",
      "     and report any bugs and incompatibilities in thebug tracking system.THIS IS A DEVELOPMENT PREVIEW - DO NOT USE IT IN PRODUCTION!For information on new features and other changes, you can read theNEWSfile,\n",
      "     or theUPGRADINGfile\n",
      "     for a complete list of upgrading notes. These files can also be found in the release archive.For source downloads of PHP 7.2.0 Alpha 3 please visit thedownloadpage,\n",
      "     Windows sources and binaries can be found onwindows.php.net/qa/.The first beta will be released on the 20th of July. You can also read the full list of planned releases on ourwiki.Thank you for helping us make PHP better.Older News EntriesUpcoming conferencesphp[tek] 2020Midwest PHP 2020PHP Russia 2020Dutch PHP Conference 2020User Group EventsSpecial ThanksSocial media@official_phpCopyright © 2001-2020 The PHP GroupMy PHP.netContactOther PHP.net sitesPrivacy policy\n"
     ]
    }
   ],
   "source": [
    "from bs4 import BeautifulSoup\n",
    "import urllib.request \n",
    "response = urllib.request.urlopen('http://php.net/') \n",
    "html = response.read()\n",
    "soup = BeautifulSoup(html,\"html5lib\")\n",
    "text = soup.get_text(strip=True)\n",
    "print (text)"
   ]
  },
  {
   "cell_type": "code",
   "execution_count": 19,
   "metadata": {},
   "outputs": [
    {
     "name": "stdout",
     "output_type": "stream",
     "text": [
      "['PHP:', 'Hypertext', 'PreprocessorDownloadsDocumentationGet', 'InvolvedHelpGetting', 'StartedIntroductionA', 'simple', 'tutorialLanguage', 'ReferenceBasic', 'syntaxTypesVariablesConstantsExpressionsOperatorsControl', 'StructuresFunctionsClasses', 'and', 'ObjectsNamespacesErrorsExceptionsGeneratorsReferences', 'ExplainedPredefined', 'VariablesPredefined', 'ExceptionsPredefined', 'Interfaces', 'and', 'ClassesContext', 'options', 'and', 'parametersSupported', 'Protocols', 'and', 'WrappersSecurityIntroductionGeneral', 'considerationsInstalled', 'as', 'CGI', 'binaryInstalled', 'as', 'an', 'Apache', 'moduleSession', 'SecurityFilesystem', 'SecurityDatabase', 'SecurityError', 'ReportingUsing', 'Register', 'GlobalsUser', 'Submitted', 'DataMagic', 'QuotesHiding', 'PHPKeeping', 'CurrentFeaturesHTTP', 'authentication', 'with', 'PHPCookiesSessionsDealing', 'with', 'XFormsHandling', 'file', 'uploadsUsing', 'remote', 'filesConnection', 'handlingPersistent', 'Database', 'ConnectionsSafe', 'ModeCommand', 'line', 'usageGarbage', 'CollectionDTrace', 'Dynamic', 'TracingFunction', 'ReferenceAffecting', \"PHP's\", 'BehaviourAudio', 'Formats', 'ManipulationAuthentication', 'ServicesCommand', 'Line', 'Specific', 'ExtensionsCompression', 'and', 'Archive', 'ExtensionsCredit', 'Card', 'ProcessingCryptography', 'ExtensionsDatabase', 'ExtensionsDate', 'and', 'Time', 'Related', 'ExtensionsFile', 'System', 'Related', 'ExtensionsHuman', 'Language', 'and', 'Character', 'Encoding', 'SupportImage', 'Processing', 'and', 'GenerationMail', 'Related', 'ExtensionsMathematical', 'ExtensionsNon-Text', 'MIME', 'OutputProcess', 'Control', 'ExtensionsOther', 'Basic', 'ExtensionsOther', 'ServicesSearch', 'Engine', 'ExtensionsServer', 'Specific', 'ExtensionsSession', 'ExtensionsText', 'ProcessingVariable', 'and', 'Type', 'Related', 'ExtensionsWeb', 'ServicesWindows', 'Only', 'ExtensionsXML', 'ManipulationGUI', 'ExtensionsKeyboard', 'Shortcuts?This', 'helpjNext', 'menu', 'itemkPrevious', 'menu', 'itemg', 'pPrevious', 'man', 'pageg', 'nNext', 'man', 'pageGScroll', 'to', 'bottomg', 'gScroll', 'to', 'topg', 'hGoto', 'homepageg', 'sGoto', 'search(current', 'page)/Focus', 'search', 'boxPHP', 'is', 'a', 'popular', 'general-purpose', 'scripting', 'language', 'that', 'is', 'especially', 'suited', 'to', 'web', 'development.Fast,', 'flexible', 'and', 'pragmatic,', 'PHP', 'powers', 'everything', 'from', 'your', 'blog', 'to', 'the', 'most', 'popular', 'websites', 'in', 'the', 'world.Download7.4.2·Release', 'Notes·Upgrading7.3.14·Release', 'Notes·Upgrading7.2.27·Release', 'Notes·Upgrading23', 'Jan', '2020PHP', '7.3.14', 'ReleasedThe', 'PHP', 'development', 'team', 'announces', 'the', 'immediate', 'availability', 'of', 'PHP', '7.3.14.', 'This', 'is', 'a', 'security', 'release', 'which', 'also', 'contains', 'several', 'bug', 'fixes.All', 'PHP', '7.3', 'users', 'are', 'encouraged', 'to', 'upgrade', 'to', 'this', 'version.For', 'source', 'downloads', 'of', 'PHP', '7.3.14', 'please', 'visit', 'ourdownloads', 'page,', 'Windows', 'source', 'and', 'binaries', 'can', 'be', 'found', 'onwindows.php.net/download/.', 'The', 'list', 'of', 'changes', 'is', 'recorded', 'in', 'theChangeLog.23', 'Jan', '2020PHP', '7.2.27', 'ReleasedThe', 'PHP', 'development', 'team', 'announces', 'the', 'immediate', 'availability', 'of', 'PHP', '7.2.27.', 'This', 'is', 'a', 'security', 'release.All', 'PHP', '7.2', 'users', 'are', 'encouraged', 'to', 'upgrade', 'to', 'this', 'version.For', 'source', 'downloads', 'of', 'PHP', '7.2.27', 'please', 'visit', 'ourdownloads', 'page,', 'Windows', 'source', 'and', 'binaries', 'can', 'be', 'found', 'onwindows.php.net/download/.', 'The', 'list', 'of', 'changes', 'is', 'recorded', 'in', 'theChangeLog.23', 'Jan', '2020PHP', '7.4.2', 'ReleasedPHP', '7.4.2', 'Release', 'AnnouncementThe', 'PHP', 'development', 'team', 'announces', 'the', 'immediate', 'availability', 'of', 'PHP', '7.4.2.', 'This', 'is', 'a', 'security', 'release', 'which', 'also', 'contains', 'several', 'bug', 'fixes.All', 'PHP', '7.4', 'users', 'are', 'encouraged', 'to', 'upgrade', 'to', 'this', 'version.For', 'source', 'downloads', 'of', 'PHP', '7.4.2', 'please', 'visit', 'ourdownloads', 'page,', 'Windows', 'source', 'and', 'binaries', 'can', 'be', 'found', 'onwindows.php.net/download/.', 'The', 'list', 'of', 'changes', 'is', 'recorded', 'in', 'theChangeLog.18', 'Dec', '2019PHP', '7.2.26', 'ReleasedThe', 'PHP', 'development', 'team', 'announces', 'the', 'immediate', 'availability', 'of', 'PHP', '7.2.26.', 'This', 'is', 'a', 'security', 'release', 'which', 'also', 'contains', 'several', 'minor', 'bug', 'fixes.All', 'PHP', '7.2', 'users', 'are', 'encouraged', 'to', 'upgrade', 'to', 'this', 'version.For', 'source', 'downloads', 'of', 'PHP', '7.2.26', 'please', 'visit', 'ourdownloads', 'page,', 'Windows', 'source', 'and', 'binaries', 'can', 'be', 'found', 'onwindows.php.net/download/.', 'The', 'list', 'of', 'changes', 'is', 'recorded', 'in', 'theChangeLog.18', 'Dec', '2019PHP', '7.3.13', 'ReleasedThe', 'PHP', 'development', 'team', 'announces', 'the', 'immediate', 'availability', 'of', 'PHP', '7.3.13.', 'This', 'is', 'a', 'security', 'release', 'which', 'also', 'contains', 'several', 'bug', 'fixes.All', 'PHP', '7.3', 'users', 'are', 'encouraged', 'to', 'upgrade', 'to', 'this', 'version.For', 'source', 'downloads', 'of', 'PHP', '7.3.13', 'please', 'visit', 'ourdownloads', 'page,', 'Windows', 'source', 'and', 'binaries', 'can', 'be', 'found', 'onwindows.php.net/download/.', 'The', 'list', 'of', 'changes', 'is', 'recorded', 'in', 'theChangeLog.18', 'Dec', '2019PHP', '7.4.1', 'Released!PHP', '7.4.1', 'Release', 'AnnouncementThe', 'PHP', 'development', 'team', 'announces', 'the', 'immediate', 'availability', 'of', 'PHP', '7.4.1.', 'This', 'is', 'a', 'security', 'release', 'which', 'also', 'contains', 'several', 'bug', 'fixes.All', 'PHP', '7.4', 'users', 'are', 'encouraged', 'to', 'upgrade', 'to', 'this', 'version.For', 'source', 'downloads', 'of', 'PHP', '7.4.1', 'please', 'visit', 'ourdownloads', 'page,', 'Windows', 'source', 'and', 'binaries', 'can', 'be', 'found', 'onwindows.php.net/download/.', 'The', 'list', 'of', 'changes', 'is', 'recorded', 'in', 'theChangeLog.14', 'Nov', '2019PHP', '7.4.0RC6', 'Released!The', 'PHP', 'team', 'is', 'glad', 'to', 'announce', 'the', 'sixth', 'release', 'candidate', 'of', 'PHP', '7.4:', 'PHP', '7.4.0RC6.', 'This', 'continues', 'the', 'PHP', '7.4', 'release', 'cycle,', 'the', 'rough', 'outline', 'of', 'which', 'is', 'specified', 'in', 'thePHP', 'Wiki.Please', 'DO', 'NOT', 'use', 'this', 'version', 'in', 'production,', 'it', 'is', 'an', 'early', 'test', 'version.For', 'source', 'downloads', 'of', 'PHP', '7.4.0RC6', 'please', 'visit', 'thedownload', 'page.Please', 'carefully', 'test', 'this', 'version', 'and', 'report', 'any', 'issues', 'found', 'in', 'thebug', 'reporting', 'system.For', 'more', 'information', 'on', 'the', 'new', 'features', 'and', 'other', 'changes,', 'you', 'can', 'read', 'theNEWSfile,', 'or', 'theUPGRADINGfile', 'for', 'a', 'complete', 'list', 'of', 'upgrading', 'notes.', 'These', 'files', 'can', 'also', 'be', 'found', 'in', 'the', 'release', 'archive.The', 'next', 'release', 'would', 'be7.4.0,', 'planned', 'for', 'November', '28th.The', 'signatures', 'for', 'the', 'release', 'can', 'be', 'found', 'inthe', 'manifestor', 'onthe', 'QA', 'site.Thank', 'you', 'for', 'helping', 'us', 'make', 'PHP', 'better.31', 'Oct', '2019PHP', '7.4.0RC5', 'released!The', 'PHP', 'team', 'is', 'glad', 'to', 'announce', 'the', 'fifth', 'release', 'candidate', 'of', 'PHP', '7.4:', 'PHP', '7.4.0RC5.', 'This', 'continues', 'the', 'PHP', '7.4', 'release', 'cycle,', 'the', 'rough', 'outline', 'of', 'which', 'is', 'specified', 'in', 'thePHP', 'Wiki.Please', 'DO', 'NOT', 'use', 'this', 'version', 'in', 'production,', 'it', 'is', 'an', 'early', 'test', 'version.For', 'source', 'downloads', 'of', 'PHP', '7.4.0RC5', 'please', 'visit', 'thedownload', 'page.Please', 'carefully', 'test', 'this', 'version', 'and', 'report', 'any', 'issues', 'found', 'in', 'thebug', 'reporting', 'system.For', 'more', 'information', 'on', 'the', 'new', 'features', 'and', 'other', 'changes,', 'you', 'can', 'read', 'theNEWSfile,', 'or', 'theUPGRADINGfile', 'for', 'a', 'complete', 'list', 'of', 'upgrading', 'notes.', 'These', 'files', 'can', 'also', 'be', 'found', 'in', 'the', 'release', 'archive.The', 'next', 'release', 'would', 'be7.4.0RC6,', 'planned', 'for', 'November', '14th.The', 'signatures', 'for', 'the', 'release', 'can', 'be', 'found', 'inthe', 'manifestor', 'onthe', 'QA', 'site.Thank', 'you', 'for', 'helping', 'us', 'make', 'PHP', 'better.18', 'Oct', '2019PHP', '7.4.0RC4', 'Released!The', 'PHP', 'team', 'is', 'glad', 'to', 'announce', 'the', 'fourth', 'release', 'candidate', 'of', 'PHP', '7.4:', 'PHP', '7.4.0RC4.', 'This', 'continues', 'the', 'PHP', '7.4', 'release', 'cycle,', 'the', 'rough', 'outline', 'of', 'which', 'is', 'specified', 'in', 'thePHP', 'Wiki.Please', 'DO', 'NOT', 'use', 'this', 'version', 'in', 'production,', 'it', 'is', 'an', 'early', 'test', 'version.For', 'source', 'downloads', 'of', 'PHP', '7.4.0RC4', 'please', 'visit', 'thedownload', 'page.Please', 'carefully', 'test', 'this', 'version', 'and', 'report', 'any', 'issues', 'found', 'in', 'thebug', 'reporting', 'system.For', 'more', 'information', 'on', 'the', 'new', 'features', 'and', 'other', 'changes,', 'you', 'can', 'read', 'theNEWSfile,', 'or', 'theUPGRADINGfile', 'for', 'a', 'complete', 'list', 'of', 'upgrading', 'notes.', 'These', 'files', 'can', 'also', 'be', 'found', 'in', 'the', 'release', 'archive.The', 'next', 'release', 'would', 'be7.4.0RC5,', 'planned', 'for', 'October', '31st.The', 'signatures', 'for', 'the', 'release', 'can', 'be', 'found', 'inthe', 'manifestor', 'onthe', 'QA', 'site.Thank', 'you', 'for', 'helping', 'us', 'make', 'PHP', 'better.03', 'Oct', '2019PHP', '7.4.0RC3', 'Released!The', 'PHP', 'team', 'is', 'glad', 'to', 'announce', 'the', 'third', 'release', 'candidate', 'of', 'PHP', '7.4:', 'PHP', '7.4.0RC3.', 'This', 'continues', 'the', 'PHP', '7.4', 'release', 'cycle,', 'the', 'rough', 'outline', 'of', 'which', 'is', 'specified', 'in', 'thePHP', 'Wiki.Please', 'DO', 'NOT', 'use', 'this', 'version', 'in', 'production,', 'it', 'is', 'an', 'early', 'test', 'version.For', 'source', 'downloads', 'of', 'PHP', '7.4.0RC3', 'please', 'visit', 'thedownload', 'page.Please', 'carefully', 'test', 'this', 'version', 'and', 'report', 'any', 'issues', 'found', 'in', 'thebug', 'reporting', 'system.For', 'more', 'information', 'on', 'the', 'new', 'features', 'and', 'other', 'changes,', 'you', 'can', 'read', 'theNEWSfile,', 'or', 'theUPGRADINGfile', 'for', 'a', 'complete', 'list', 'of', 'upgrading', 'notes.', 'These', 'files', 'can', 'also', 'be', 'found', 'in', 'the', 'release', 'archive.The', 'next', 'release', 'would', 'be7.4.0RC4,', 'planned', 'for', 'October', '17th.The', 'signatures', 'for', 'the', 'release', 'can', 'be', 'found', 'inthe', 'manifestor', 'onthe', 'QA', 'site.Thank', 'you', 'for', 'helping', 'us', 'make', 'PHP', 'better.19', 'Sep', '2019PHP', '7.4.0RC2', 'Released!The', 'PHP', 'team', 'is', 'glad', 'to', 'announce', 'the', 'second', 'release', 'candidate', 'of', 'PHP', '7.4:', 'PHP', '7.4.0RC2.', 'This', 'continues', 'the', 'PHP', '7.4', 'release', 'cycle,', 'the', 'rough', 'outline', 'of', 'which', 'is', 'specified', 'in', 'thePHP', 'Wiki.Please', 'DO', 'NOT', 'use', 'this', 'version', 'in', 'production,', 'it', 'is', 'an', 'early', 'test', 'version.For', 'source', 'downloads', 'of', 'PHP', '7.4.0RC2', 'please', 'visit', 'thedownload', 'page.Please', 'carefully', 'test', 'this', 'version', 'and', 'report', 'any', 'issues', 'found', 'in', 'thebug', 'reporting', 'system.For', 'more', 'information', 'on', 'the', 'new', 'features', 'and', 'other', 'changes,', 'you', 'can', 'read', 'theNEWSfile,', 'or', 'theUPGRADINGfile', 'for', 'a', 'complete', 'list', 'of', 'upgrading', 'notes.', 'These', 'files', 'can', 'also', 'be', 'found', 'in', 'the', 'release', 'archive.The', 'next', 'release', 'would', 'be7.4.0RC3,', 'planned', 'for', 'October', '3rd.The', 'signatures', 'for', 'the', 'release', 'can', 'be', 'found', 'inthe', 'manifestor', 'onthe', 'QA', 'site.Thank', 'you', 'for', 'helping', 'us', 'make', 'PHP', 'better.05', 'Sep', '2019PHP', '7.4.0RC1', 'Released!The', 'PHP', 'team', 'is', 'glad', 'to', 'announce', 'the', 'first', 'release', 'candidate', 'of', 'PHP', '7.4:', 'PHP', '7.4.0RC1.', 'This', 'continues', 'the', 'PHP', '7.4', 'release', 'cycle,', 'the', 'rough', 'outline', 'of', 'which', 'is', 'specified', 'in', 'thePHP', 'Wiki.Please', 'DO', 'NOT', 'use', 'this', 'version', 'in', 'production,', 'it', 'is', 'an', 'early', 'test', 'version.For', 'source', 'downloads', 'of', 'PHP', '7.4.0RC1', 'please', 'visit', 'thedownload', 'page.Please', 'carefully', 'test', 'this', 'version', 'and', 'report', 'any', 'issues', 'found', 'in', 'thebug', 'reporting', 'system.For', 'more', 'information', 'on', 'the', 'new', 'features', 'and', 'other', 'changes,', 'you', 'can', 'read', 'theNEWSfile,', 'or', 'theUPGRADINGfile', 'for', 'a', 'complete', 'list', 'of', 'upgrading', 'notes.', 'These', 'files', 'can', 'also', 'be', 'found', 'in', 'the', 'release', 'archive.The', 'next', 'release', 'would', 'be7.4.0RC2,', 'planned', 'for', 'September', '19th.The', 'signatures', 'for', 'the', 'release', 'can', 'be', 'found', 'inthe', 'manifestor', 'onthe', 'QA', 'site.Thank', 'you', 'for', 'helping', 'us', 'make', 'PHP', 'better.22', 'Aug', '2019PHP', '7.4.0beta4', 'released!The', 'PHP', 'team', 'is', 'glad', 'to', 'announce', 'the', 'third', 'and', 'last', 'beta', 'release', 'of', 'PHP', '7.4:', 'PHP', '7.4.0beta4.', 'This', 'continues', 'the', 'PHP', '7.4', 'release', 'cycle,', 'the', 'rough', 'outline', 'of', 'which', 'is', 'specified', 'in', 'thePHP', 'Wiki.For', 'source', 'downloads', 'of', 'PHP', '7.4.0beta4', 'please', 'visit', 'thedownload', 'page.Please', 'carefully', 'test', 'this', 'version', 'and', 'report', 'any', 'issues', 'found', 'in', 'thebug', 'reporting', 'system.Please', 'DO', 'NOT', 'use', 'this', 'version', 'in', 'production,', 'it', 'is', 'an', 'early', 'test', 'version.For', 'more', 'information', 'on', 'the', 'new', 'features', 'and', 'other', 'changes,', 'you', 'can', 'read', 'theNEWSfile,', 'or', 'theUPGRADINGfile', 'for', 'a', 'complete', 'list', 'of', 'upgrading', 'notes.', 'These', 'files', 'can', 'also', 'be', 'found', 'in', 'the', 'release', 'archive.The', 'next', 'release', 'would', 'beRC', '1,', 'planned', 'for', 'September', '5th.The', 'signatures', 'for', 'the', 'release', 'can', 'be', 'found', 'inthe', 'manifestor', 'onthe', 'QA', 'site.Thank', 'you', 'for', 'helping', 'us', 'make', 'PHP', 'better.08', 'Aug', '2019PHP', '7.4.0beta2', 'released!The', 'PHP', 'team', 'is', 'glad', 'to', 'announce', 'the', 'second', 'beta', 'release', 'of', 'PHP', '7.4:', 'PHP', '7.4.0beta2.', 'This', 'continues', 'the', 'PHP', '7.4', 'release', 'cycle,', 'the', 'rough', 'outline', 'of', 'which', 'is', 'specified', 'in', 'thePHP', 'Wiki.For', 'source', 'downloads', 'of', 'PHP', '7.4.0beta2', 'please', 'visit', 'thedownload', 'page.Please', 'carefully', 'test', 'this', 'version', 'and', 'report', 'any', 'issues', 'found', 'in', 'thebug', 'reporting', 'system.Please', 'DO', 'NOT', 'use', 'this', 'version', 'in', 'production,', 'it', 'is', 'an', 'early', 'test', 'version.For', 'more', 'information', 'on', 'the', 'new', 'features', 'and', 'other', 'changes,', 'you', 'can', 'read', 'theNEWSfile,', 'or', 'theUPGRADINGfile', 'for', 'a', 'complete', 'list', 'of', 'upgrading', 'notes.', 'These', 'files', 'can', 'also', 'be', 'found', 'in', 'the', 'release', 'archive.The', 'next', 'release', 'would', 'beBeta', '3,', 'planned', 'for', 'August', '22nd.The', 'signatures', 'for', 'the', 'release', 'can', 'be', 'found', 'inthe', 'manifestor', 'onthe', 'QA', 'site.Thank', 'you', 'for', 'helping', 'us', 'make', 'PHP', 'better.25', 'Jul', '2019PHP', '7.4.0beta1', 'released!The', 'PHP', 'team', 'is', 'glad', 'to', 'announce', 'the', 'first', 'beta', 'release', 'of', 'PHP', '7.4:', 'PHP', '7.4.0beta1.', 'This', 'continues', 'the', 'PHP', '7.4', 'release', 'cycle,', 'the', 'rough', 'outline', 'of', 'which', 'is', 'specified', 'in', 'thePHP', 'Wiki.For', 'source', 'downloads', 'of', 'PHP', '7.4.0beta1', 'please', 'visit', 'thedownload', 'page.Please', 'carefully', 'test', 'this', 'version', 'and', 'report', 'any', 'issues', 'found', 'in', 'thebug', 'reporting', 'system.Please', 'DO', 'NOT', 'use', 'this', 'version', 'in', 'production,', 'it', 'is', 'an', 'early', 'test', 'version.For', 'more', 'information', 'on', 'the', 'new', 'features', 'and', 'other', 'changes,', 'you', 'can', 'read', 'theNEWSfile,', 'or', 'theUPGRADINGfile', 'for', 'a', 'complete', 'list', 'of', 'upgrading', 'notes.', 'These', 'files', 'can', 'also', 'be', 'found', 'in', 'the', 'release', 'archive.The', 'next', 'release', 'would', 'beBeta', '2,', 'planned', 'for', 'August', '8th.The', 'signatures', 'for', 'the', 'release', 'can', 'be', 'found', 'inthe', 'manifestor', 'onthe', 'QA', 'site.Thank', 'you', 'for', 'helping', 'us', 'make', 'PHP', 'better.11', 'Jul', '2019PHP', '7.4.0', 'alpha', '3', 'ReleasedPHP', 'team', 'is', 'glad', 'to', 'announce', 'the', 'release', 'of', 'the', 'third', 'PHP', '7.4.0', 'version,', 'PHP', '7.4.0', 'Alpha', '3.', 'This', 'continues', 'the', 'PHP', '7.4', 'release', 'cycle,', 'the', 'rough', 'outline', 'of', 'which', 'is', 'specified', 'in', 'thePHP', 'Wiki.For', 'source', 'downloads', 'of', 'PHP', '7.4.0', 'Alpha', '3', 'please', 'visit', 'thedownload', 'page.Please', 'carefully', 'test', 'this', 'version', 'and', 'report', 'any', 'issues', 'found', 'in', 'thebug', 'reporting', 'system.Please', 'DO', 'NOT', 'use', 'this', 'version', 'in', 'production,', 'it', 'is', 'an', 'early', 'test', 'version.For', 'more', 'information', 'on', 'the', 'new', 'features', 'and', 'other', 'changes,', 'you', 'can', 'read', 'theNEWSfile,', 'or', 'theUPGRADINGfile', 'for', 'a', 'complete', 'list', 'of', 'upgrading', 'notes.', 'These', 'files', 'can', 'also', 'be', 'found', 'in', 'the', 'release', 'archive.The', 'next', 'release', 'would', 'beBeta', '1,', 'planned', 'for', 'July', '25th.The', 'signatures', 'for', 'the', 'release', 'can', 'be', 'found', 'inthe', 'manifestor', 'onthe', 'QA', 'site.Thank', 'you', 'for', 'helping', 'us', 'make', 'PHP', 'better.26', 'Jun', '2019PHP', '7.4.0', 'alpha', '2', 'ReleasedPHP', 'team', 'is', 'glad', 'to', 'announce', 'the', 'release', 'of', 'the', 'second', 'PHP', '7.4.0', 'version,', 'PHP', '7.4.0', 'Alpha', '2.', 'This', 'continues', 'the', 'PHP', '7.4', 'release', 'cycle,', 'the', 'rough', 'outline', 'of', 'which', 'is', 'specified', 'in', 'thePHP', 'Wiki.For', 'source', 'downloads', 'of', 'PHP', '7.4.0', 'Alpha', '2', 'please', 'visit', 'thedownload', 'page.Please', 'carefully', 'test', 'this', 'version', 'and', 'report', 'any', 'issues', 'found', 'in', 'thebug', 'reporting', 'system.Please', 'DO', 'NOT', 'use', 'this', 'version', 'in', 'production,', 'it', 'is', 'an', 'early', 'test', 'version.For', 'more', 'information', 'on', 'the', 'new', 'features', 'and', 'other', 'changes,', 'you', 'can', 'read', 'theNEWSfile,', 'or', 'theUPGRADINGfile', 'for', 'a', 'complete', 'list', 'of', 'upgrading', 'notes.', 'These', 'files', 'can', 'also', 'be', 'found', 'in', 'the', 'release', 'archive.The', 'next', 'release', 'would', 'be', 'Alpha', '3,', 'planned', 'for', 'July', '11th.The', 'signatures', 'for', 'the', 'release', 'can', 'be', 'found', 'inthe', 'manifestor', 'onthe', 'QA', 'site.Thank', 'you', 'for', 'helping', 'us', 'make', 'PHP', 'better.13', 'Jun', '2019PHP', '7.4.0', 'alpha', '1', 'ReleasedPHP', 'team', 'is', 'glad', 'to', 'announce', 'the', 'release', 'of', 'the', 'first', 'PHP', '7.4.0', 'version,', 'PHP', '7.4.0', 'Alpha', '1.', 'This', 'starts', 'the', 'PHP', '7.4', 'release', 'cycle,', 'the', 'rough', 'outline', 'of', 'which', 'is', 'specified', 'in', 'thePHP', 'Wiki.For', 'source', 'downloads', 'of', 'PHP', '7.4.0', 'Alpha', '1', 'please', 'visit', 'thedownload', 'page.Please', 'carefully', 'test', 'this', 'version', 'and', 'report', 'any', 'issues', 'found', 'in', 'thebug', 'reporting', 'system.Please', 'DO', 'NOT', 'use', 'this', 'version', 'in', 'production,', 'it', 'is', 'an', 'early', 'test', 'version.For', 'more', 'information', 'on', 'the', 'new', 'features', 'and', 'other', 'changes,', 'you', 'can', 'read', 'theNEWSfile,', 'or', 'theUPGRADINGfile', 'for', 'a', 'complete', 'list', 'of', 'upgrading', 'notes.', 'These', 'files', 'can', 'also', 'be', 'found', 'in', 'the', 'release', 'archive.The', 'next', 'release', 'would', 'be', 'Alpha', '2,', 'planned', 'for', 'June', '27.The', 'signatures', 'for', 'the', 'release', 'can', 'be', 'found', 'inthe', 'manifestor', 'onthe', 'QA', 'site.Thank', 'you', 'for', 'helping', 'us', 'make', 'PHP', 'better.22', 'Nov', '2018PHP', '7.3.0RC6', 'ReleasedThe', 'PHP', 'team', 'is', 'glad', 'to', 'announce', 'the', 'presumably', 'last', 'PHP', '7.3.0', 'pre-release,', 'PHP', '7.3.0RC6.', 'The', 'rough', 'outline', 'of', 'the', 'PHP', '7.3', 'release', 'cycle', 'is', 'specified', 'in', 'thePHP', 'Wiki.For', 'source', 'downloads', 'of', 'PHP', '7.3.0RC6', 'please', 'visit', 'thedownload', 'page.', 'Windows', 'sources', 'and', 'binaries', 'can', 'be', 'found', 'onwindows.php.net/qa/.Please', 'carefully', 'test', 'this', 'version', 'and', 'report', 'any', 'issues', 'found', 'in', 'thebug', 'reporting', 'system.THIS', 'IS', 'A', 'DEVELOPMENT', 'PREVIEW', '-', 'DO', 'NOT', 'USE', 'IT', 'IN', 'PRODUCTION!For', 'more', 'information', 'on', 'the', 'new', 'features', 'and', 'other', 'changes,', 'you', 'can', 'read', 'theNEWSfile,', 'or', 'theUPGRADINGfile', 'for', 'a', 'complete', 'list', 'of', 'upgrading', 'notes.', 'Internal', 'changes', 'are', 'listed', 'in', 'theUPGRADING.INTERNALSfile.', 'These', 'files', 'can', 'also', 'be', 'found', 'in', 'the', 'release', 'archive.The', 'next', 'release', 'would', 'be', '7.3.0', '(GA),', 'planned', 'for', 'December', '6th.The', 'signatures', 'for', 'the', 'release', 'can', 'be', 'found', 'inthe', 'manifestor', 'onthe', 'QA', 'site.Thank', 'you', 'for', 'helping', 'us', 'make', 'PHP', 'better.08', 'Nov', '2018PHP', '7.3.0RC5', 'ReleasedThe', 'PHP', 'team', 'is', 'glad', 'to', 'announce', 'the', 'next', 'PHP', '7.3.0', 'pre-release,', 'PHP', '7.3.0RC5.', 'The', 'rough', 'outline', 'of', 'the', 'PHP', '7.3', 'release', 'cycle', 'is', 'specified', 'in', 'thePHP', 'Wiki.For', 'source', 'downloads', 'of', 'PHP', '7.3.0RC5', 'please', 'visit', 'thedownload', 'page.', 'Windows', 'sources', 'and', 'binaries', 'can', 'be', 'found', 'onwindows.php.net/qa/.Please', 'carefully', 'test', 'this', 'version', 'and', 'report', 'any', 'issues', 'found', 'in', 'thebug', 'reporting', 'system.THIS', 'IS', 'A', 'DEVELOPMENT', 'PREVIEW', '-', 'DO', 'NOT', 'USE', 'IT', 'IN', 'PRODUCTION!For', 'more', 'information', 'on', 'the', 'new', 'features', 'and', 'other', 'changes,', 'you', 'can', 'read', 'theNEWSfile,', 'or', 'theUPGRADINGfile', 'for', 'a', 'complete', 'list', 'of', 'upgrading', 'notes.', 'Internal', 'changes', 'are', 'listed', 'in', 'theUPGRADING.INTERNALSfile.', 'These', 'files', 'can', 'also', 'be', 'found', 'in', 'the', 'release', 'archive.The', 'next', 'release', 'would', 'be', 'RC6,', 'planned', 'for', 'November', '22nd.The', 'signatures', 'for', 'the', 'release', 'can', 'be', 'found', 'inthe', 'manifestor', 'onthe', 'QA', 'site.Thank', 'you', 'for', 'helping', 'us', 'make', 'PHP', 'better.25', 'Oct', '2018PHP', '7.3.0RC4', 'ReleasedThe', 'PHP', 'team', 'is', 'glad', 'to', 'announce', 'the', 'next', 'PHP', '7.3.0', 'pre-release,', 'PHP', '7.3.0RC4.', 'The', 'rough', 'outline', 'of', 'the', 'PHP', '7.3', 'release', 'cycle', 'is', 'specified', 'in', 'thePHP', 'Wiki.For', 'source', 'downloads', 'of', 'PHP', '7.3.0RC4', 'please', 'visit', 'thedownload', 'page.', 'Windows', 'sources', 'and', 'binaries', 'can', 'be', 'found', 'onwindows.php.net/qa/.Please', 'carefully', 'test', 'this', 'version', 'and', 'report', 'any', 'issues', 'found', 'in', 'thebug', 'reporting', 'system.THIS', 'IS', 'A', 'DEVELOPMENT', 'PREVIEW', '-', 'DO', 'NOT', 'USE', 'IT', 'IN', 'PRODUCTION!For', 'more', 'information', 'on', 'the', 'new', 'features', 'and', 'other', 'changes,', 'you', 'can', 'read', 'theNEWSfile,', 'or', 'theUPGRADINGfile', 'for', 'a', 'complete', 'list', 'of', 'upgrading', 'notes.', 'Internal', 'changes', 'are', 'listed', 'in', 'theUPGRADING.INTERNALSfile.', 'These', 'files', 'can', 'also', 'be', 'found', 'in', 'the', 'release', 'archive.The', 'next', 'release', 'would', 'be', 'RC5,', 'planned', 'for', 'November', '8th.The', 'signatures', 'for', 'the', 'release', 'can', 'be', 'found', 'inthe', 'manifestor', 'onthe', 'QA', 'site.Thank', 'you', 'for', 'helping', 'us', 'make', 'PHP', 'better.11', 'Oct', '2018PHP', '7.3.0RC3', 'ReleasedThe', 'PHP', 'team', 'is', 'glad', 'to', 'announce', 'the', 'next', 'PHP', '7.3.0', 'pre-release,', 'PHP', '7.3.0RC3.', 'The', 'rough', 'outline', 'of', 'the', 'PHP', '7.3', 'release', 'cycle', 'is', 'specified', 'in', 'thePHP', 'Wiki.For', 'source', 'downloads', 'of', 'PHP', '7.3.0RC3', 'please', 'visit', 'thedownload', 'page.', 'Windows', 'sources', 'and', 'binaries', 'can', 'be', 'found', 'onwindows.php.net/qa/.Please', 'carefully', 'test', 'this', 'version', 'and', 'report', 'any', 'issues', 'found', 'in', 'thebug', 'reporting', 'system.THIS', 'IS', 'A', 'DEVELOPMENT', 'PREVIEW', '-', 'DO', 'NOT', 'USE', 'IT', 'IN', 'PRODUCTION!For', 'more', 'information', 'on', 'the', 'new', 'features', 'and', 'other', 'changes,', 'you', 'can', 'read', 'theNEWSfile,', 'or', 'theUPGRADINGfile', 'for', 'a', 'complete', 'list', 'of', 'upgrading', 'notes.', 'Internal', 'changes', 'are', 'listed', 'in', 'theUPGRADING.INTERNALSfile.', 'These', 'files', 'can', 'also', 'be', 'found', 'in', 'the', 'release', 'archive.The', 'next', 'release', 'would', 'be', 'RC4,', 'planned', 'for', 'October', '25th.The', 'signatures', 'for', 'the', 'release', 'can', 'be', 'found', 'inthe', 'manifestor', 'onthe', 'QA', 'site.Thank', 'you', 'for', 'helping', 'us', 'make', 'PHP', 'better.28', 'Sep', '2018PHP', '7.3.0RC2', 'ReleasedThe', 'PHP', 'team', 'is', 'glad', 'to', 'announce', 'the', 'next', 'PHP', '7.3.0', 'pre-release,', 'PHP', '7.3.0RC2.', 'The', 'rough', 'outline', 'of', 'the', 'PHP', '7.3', 'release', 'cycle', 'is', 'specified', 'in', 'thePHP', 'Wiki.For', 'source', 'downloads', 'of', 'PHP', '7.3.0RC2', 'please', 'visit', 'thedownload', 'page.', 'Windows', 'sources', 'and', 'binaries', 'can', 'be', 'found', 'onwindows.php.net/qa/.Please', 'carefully', 'test', 'this', 'version', 'and', 'report', 'any', 'issues', 'found', 'in', 'thebug', 'reporting', 'system.THIS', 'IS', 'A', 'DEVELOPMENT', 'PREVIEW', '-', 'DO', 'NOT', 'USE', 'IT', 'IN', 'PRODUCTION!For', 'more', 'information', 'on', 'the', 'new', 'features', 'and', 'other', 'changes,', 'you', 'can', 'read', 'theNEWSfile,', 'or', 'theUPGRADINGfile', 'for', 'a', 'complete', 'list', 'of', 'upgrading', 'notes.', 'Internal', 'changes', 'are', 'listed', 'in', 'theUPGRADING.INTERNALSfile.', 'These', 'files', 'can', 'also', 'be', 'found', 'in', 'the', 'release', 'archive.The', 'next', 'release', 'would', 'be', 'RC3,', 'planned', 'for', 'October', '11th.The', 'signatures', 'for', 'the', 'release', 'can', 'be', 'found', 'inthe', 'manifestor', 'onthe', 'QA', 'site.Thank', 'you', 'for', 'helping', 'us', 'make', 'PHP', 'better.13', 'Sep', '2018PHP', '7.3.0RC1', 'ReleasedThe', 'PHP', 'team', 'is', 'glad', 'to', 'announce', 'the', 'release', 'of', 'the', 'next', 'PHP', '7.3.0', 'pre-release,', 'PHP', '7.3.0RC1.', 'The', 'rough', 'outline', 'of', 'the', 'PHP', '7.3', 'release', 'cycle', 'is', 'specified', 'in', 'thePHP', 'Wiki.For', 'source', 'downloads', 'of', 'PHP', '7.3.0RC1', 'please', 'visit', 'thedownload', 'page.', 'Windows', 'sources', 'and', 'binaries', 'can', 'be', 'found', 'onwindows.php.net/qa/.Please', 'carefully', 'test', 'this', 'version', 'and', 'report', 'any', 'issues', 'found', 'in', 'thebug', 'reporting', 'system.THIS', 'IS', 'A', 'DEVELOPMENT', 'PREVIEW', '-', 'DO', 'NOT', 'USE', 'IT', 'IN', 'PRODUCTION!For', 'more', 'information', 'on', 'the', 'new', 'features', 'and', 'other', 'changes,', 'you', 'can', 'read', 'theNEWSfile,', 'or', 'theUPGRADINGfile', 'for', 'a', 'complete', 'list', 'of', 'upgrading', 'notes.', 'Internal', 'changes', 'are', 'listed', 'in', 'theUPGRADING.INTERNALSfile.', 'These', 'files', 'can', 'also', 'be', 'found', 'in', 'the', 'release', 'archive.The', 'next', 'release', 'would', 'be', 'RC2,', 'planned', 'for', 'September', '27th.The', 'signatures', 'for', 'the', 'release', 'can', 'be', 'found', 'inthe', 'manifestor', 'onthe', 'QA', 'site.Thank', 'you', 'for', 'helping', 'us', 'make', 'PHP', 'better.30', 'Aug', '2018PHP', '7.3.0.beta3', 'ReleasedThe', 'PHP', 'team', 'is', 'glad', 'to', 'announce', 'the', 'release', 'of', 'the', 'seventh', 'PHP', '7.3.0', 'version,', 'PHP', '7.3.0beta3.', 'The', 'rough', 'outline', 'of', 'the', 'PHP', '7.3', 'release', 'cycle', 'is', 'specified', 'in', 'thePHP', 'Wiki.For', 'source', 'downloads', 'of', 'PHP', '7.3.0beta3', 'please', 'visit', 'thedownload', 'page.', 'Windows', 'sources', 'and', 'binaries', 'can', 'be', 'found', 'onwindows.php.net/qa/.Please', 'carefully', 'test', 'this', 'version', 'and', 'report', 'any', 'issues', 'found', 'in', 'thebug', 'reporting', 'system.THIS', 'IS', 'A', 'DEVELOPMENT', 'PREVIEW', '-', 'DO', 'NOT', 'USE', 'IT', 'IN', 'PRODUCTION!For', 'more', 'information', 'on', 'the', 'new', 'features', 'and', 'other', 'changes,', 'you', 'can', 'read', 'theNEWSfile,', 'or', 'theUPGRADINGfile', 'for', 'a', 'complete', 'list', 'of', 'upgrading', 'notes.', 'Internal', 'changes', 'are', 'listed', 'in', 'theUPGRADING.INTERNALSfile.', 'These', 'files', 'can', 'also', 'be', 'found', 'in', 'the', 'release', 'archive.The', 'next', 'release', 'would', 'be', 'RC1,', 'planned', 'for', 'September', '13th.The', 'signatures', 'for', 'the', 'release', 'can', 'be', 'found', 'inthe', 'manifestor', 'onthe', 'QA', 'site.Thank', 'you', 'for', 'helping', 'us', 'make', 'PHP', 'better.16', 'Aug', '2018PHP', '7.3.0.beta2', 'ReleasedThe', 'PHP', 'team', 'is', 'glad', 'to', 'announce', 'the', 'release', 'of', 'the', 'sixth', 'PHP', '7.3.0', 'version,', 'PHP', '7.3.0beta2.', 'The', 'rough', 'outline', 'of', 'the', 'PHP', '7.3', 'release', 'cycle', 'is', 'specified', 'in', 'thePHP', 'Wiki.For', 'source', 'downloads', 'of', 'PHP', '7.3.0beta2', 'please', 'visit', 'thedownload', 'page.', 'Windows', 'sources', 'and', 'binaries', 'can', 'be', 'found', 'onwindows.php.net/qa/.Please', 'carefully', 'test', 'this', 'version', 'and', 'report', 'any', 'issues', 'found', 'in', 'thebug', 'reporting', 'system.THIS', 'IS', 'A', 'DEVELOPMENT', 'PREVIEW', '-', 'DO', 'NOT', 'USE', 'IT', 'IN', 'PRODUCTION!For', 'more', 'information', 'on', 'the', 'new', 'features', 'and', 'other', 'changes,', 'you', 'can', 'read', 'theNEWSfile,', 'or', 'theUPGRADINGfile', 'for', 'a', 'complete', 'list', 'of', 'upgrading', 'notes.', 'Internal', 'changes', 'are', 'listed', 'in', 'theUPGRADING.INTERNALSfile.', 'These', 'files', 'can', 'also', 'be', 'found', 'in', 'the', 'release', 'archive.The', 'next', 'release', 'would', 'be', 'Beta', '3,', 'planned', 'for', 'August', '30th.The', 'signatures', 'for', 'the', 'release', 'can', 'be', 'found', 'inthe', 'manifestor', 'onthe', 'QA', 'site.Thank', 'you', 'for', 'helping', 'us', 'make', 'PHP', 'better.02', 'Aug', '2018PHP', '7.3.0.beta1', 'ReleasedThe', 'PHP', 'team', 'is', 'glad', 'to', 'announce', 'the', 'release', 'of', 'the', 'fifth', 'PHP', '7.3.0', 'version,', 'PHP', '7.3.0beta1.', 'The', 'rough', 'outline', 'of', 'the', 'PHP', '7.3', 'release', 'cycle', 'is', 'specified', 'in', 'thePHP', 'Wiki.For', 'source', 'downloads', 'of', 'PHP', '7.3.0beta1', 'please', 'visit', 'thedownload', 'page.', 'Windows', 'sources', 'and', 'binaries', 'can', 'be', 'found', 'onwindows.php.net/qa/.Please', 'carefully', 'test', 'this', 'version', 'and', 'report', 'any', 'issues', 'found', 'in', 'thebug', 'reporting', 'system.THIS', 'IS', 'A', 'DEVELOPMENT', 'PREVIEW', '-', 'DO', 'NOT', 'USE', 'IT', 'IN', 'PRODUCTION!For', 'more', 'information', 'on', 'the', 'new', 'features', 'and', 'other', 'changes,', 'you', 'can', 'read', 'theNEWSfile,', 'or', 'theUPGRADINGfile', 'for', 'a', 'complete', 'list', 'of', 'upgrading', 'notes.', 'These', 'files', 'can', 'also', 'be', 'found', 'in', 'the', 'release', 'archive.The', 'next', 'release', 'would', 'be', 'Beta', '2,', 'planned', 'for', 'August', '16th.The', 'signatures', 'for', 'the', 'release', 'can', 'be', 'found', 'inthe', 'manifestor', 'onthe', 'QA', 'site.Thank', 'you', 'for', 'helping', 'us', 'make', 'PHP', 'better.19', 'Jul', '2018PHP', '7.3.0alpha4', 'ReleasedThe', 'PHP', 'team', 'is', 'glad', 'to', 'announce', 'the', 'release', 'of', 'the', 'fourth', 'PHP', '7.3.0', 'version,', 'PHP', '7.3.0alpha4.', 'The', 'rough', 'outline', 'of', 'the', 'PHP', '7.3', 'release', 'cycle', 'is', 'specified', 'in', 'thePHP', 'Wiki.For', 'source', 'downloads', 'of', 'PHP', '7.3.0alpha4', 'please', 'visit', 'thedownload', 'page.', 'Windows', 'sources', 'and', 'binaries', 'can', 'be', 'found', 'onwindows.php.net/qa/.Please', 'carefully', 'test', 'this', 'version', 'and', 'report', 'any', 'issues', 'found', 'in', 'thebug', 'reporting', 'system.THIS', 'IS', 'A', 'DEVELOPMENT', 'PREVIEW', '-', 'DO', 'NOT', 'USE', 'IT', 'IN', 'PRODUCTION!For', 'more', 'information', 'on', 'the', 'new', 'features', 'and', 'other', 'changes,', 'you', 'can', 'read', 'theNEWSfile,', 'or', 'theUPGRADINGfile', 'for', 'a', 'complete', 'list', 'of', 'upgrading', 'notes.', 'These', 'files', 'can', 'also', 'be', 'found', 'in', 'the', 'release', 'archive.The', 'next', 'release', 'would', 'be', 'Beta', '1,', 'planned', 'for', 'August', '2nd.The', 'signatures', 'for', 'the', 'release', 'can', 'be', 'found', 'inthe', 'manifestor', 'onthe', 'QA', 'site.Thank', 'you', 'for', 'helping', 'us', 'make', 'PHP', 'better.05', 'Jul', '2018PHP', '7.3.0', 'alpha', '3', 'ReleasedThe', 'PHP', 'team', 'is', 'glad', 'to', 'announce', 'the', 'release', 'of', 'the', 'third', 'PHP', '7.3.0', 'version,', 'PHP', '7.3.0', 'Alpha', '3.', 'The', 'rough', 'outline', 'of', 'the', 'PHP', '7.3', 'release', 'cycle', 'is', 'specified', 'in', 'thePHP', 'Wiki.For', 'source', 'downloads', 'of', 'PHP', '7.3.0', 'Alpha', '3', 'please', 'visit', 'thedownload', 'page.', 'Windows', 'sources', 'and', 'binaries', 'can', 'be', 'found', 'onwindows.php.net/qa/.Please', 'carefully', 'test', 'this', 'version', 'and', 'report', 'any', 'issues', 'found', 'in', 'thebug', 'reporting', 'system.THIS', 'IS', 'A', 'DEVELOPMENT', 'PREVIEW', '-', 'DO', 'NOT', 'USE', 'IT', 'IN', 'PRODUCTION!For', 'more', 'information', 'on', 'the', 'new', 'features', 'and', 'other', 'changes,', 'you', 'can', 'read', 'theNEWSfile,', 'or', 'theUPGRADINGfile', 'for', 'a', 'complete', 'list', 'of', 'upgrading', 'notes.', 'These', 'files', 'can', 'also', 'be', 'found', 'in', 'the', 'release', 'archive.The', 'next', 'release', 'would', 'be', 'Beta', '1,', 'planned', 'for', 'July', '19th.The', 'signatures', 'for', 'the', 'release', 'can', 'be', 'found', 'inthe', 'manifestor', 'onthe', 'QA', 'site.Thank', 'you', 'for', 'helping', 'us', 'make', 'PHP', 'better.21', 'Jun', '2018PHP', '7.3.0', 'alpha', '2', 'ReleasedThe', 'PHP', 'team', 'is', 'glad', 'to', 'announce', 'the', 'release', 'of', 'the', 'second', 'PHP', '7.3.0', 'version,', 'PHP', '7.3.0', 'Alpha', '2.', 'The', 'rough', 'outline', 'of', 'the', 'PHP', '7.3', 'release', 'cycle', 'is', 'specified', 'in', 'thePHP', 'Wiki.For', 'source', 'downloads', 'of', 'PHP', '7.3.0', 'Alpha', '2', 'please', 'visit', 'thedownload', 'page.', 'Windows', 'sources', 'and', 'binaries', 'can', 'be', 'found', 'onwindows.php.net/qa/.Please', 'carefully', 'test', 'this', 'version', 'and', 'report', 'any', 'issues', 'found', 'in', 'thebug', 'reporting', 'system.THIS', 'IS', 'A', 'DEVELOPMENT', 'PREVIEW', '-', 'DO', 'NOT', 'USE', 'IT', 'IN', 'PRODUCTION!For', 'more', 'information', 'on', 'the', 'new', 'features', 'and', 'other', 'changes,', 'you', 'can', 'read', 'theNEWSfile,', 'or', 'theUPGRADINGfile', 'for', 'a', 'complete', 'list', 'of', 'upgrading', 'notes.', 'These', 'files', 'can', 'also', 'be', 'found', 'in', 'the', 'release', 'archive.The', 'next', 'release', 'would', 'be', 'Alpha', '3,', 'planned', 'for', 'July', '5.The', 'signatures', 'for', 'the', 'release', 'can', 'be', 'found', 'inthe', 'manifestor', 'onthe', 'QA', 'site.Thank', 'you', 'for', 'helping', 'us', 'make', 'PHP', 'better.07', 'Jun', '2018PHP', '7.3.0', 'alpha', '1', 'ReleasedPHP', 'team', 'is', 'glad', 'to', 'announce', 'the', 'release', 'of', 'the', 'first', 'PHP', '7.3.0', 'version,', 'PHP', '7.3.0', 'Alpha', '1.', 'This', 'starts', 'the', 'PHP', '7.3', 'release', 'cycle,', 'the', 'rough', 'outline', 'of', 'which', 'is', 'specified', 'in', 'thePHP', 'Wiki.For', 'source', 'downloads', 'of', 'PHP', '7.3.0', 'Alpha', '1', 'please', 'visit', 'thedownload', 'page.Please', 'carefully', 'test', 'this', 'version', 'and', 'report', 'any', 'issues', 'found', 'in', 'thebug', 'reporting', 'system.Please', 'DO', 'NOT', 'use', 'this', 'version', 'in', 'production,', 'it', 'is', 'an', 'early', 'test', 'version.For', 'more', 'information', 'on', 'the', 'new', 'features', 'and', 'other', 'changes,', 'you', 'can', 'read', 'theNEWSfile,', 'or', 'theUPGRADINGfile', 'for', 'a', 'complete', 'list', 'of', 'upgrading', 'notes.', 'These', 'files', 'can', 'also', 'be', 'found', 'in', 'the', 'release', 'archive.The', 'next', 'release', 'would', 'be', 'Alpha', '2,', 'planned', 'for', 'June', '21.The', 'signatures', 'for', 'the', 'release', 'can', 'be', 'found', 'inthe', 'manifestor', 'onthe', 'QA', 'site.Thank', 'you', 'for', 'helping', 'us', 'make', 'PHP', 'better.01', 'Feb', '2018PHP', '7.2.2', 'ReleasedThe', 'PHP', 'development', 'team', 'announces', 'the', 'immediate', 'availability', 'of', 'PHP', '7.2.2.', 'This', 'is', 'a', 'bugfix', 'release,', 'with', 'several', 'bug', 'fixes', 'included.All', 'PHP', '7.2', 'users', 'are', 'encouraged', 'to', 'upgrade', 'to', 'this', 'version.For', 'source', 'downloads', 'of', 'PHP', '7.2.2', 'please', 'visit', 'ourdownloads', 'page,', 'Windows', 'source', 'and', 'binaries', 'can', 'be', 'found', 'onwindows.php.net/download/.', 'The', 'list', 'of', 'changes', 'is', 'recorded', 'in', 'theChangeLog.12', 'Oct', '2017PHP', '7.2.0', 'Release', 'Candidate', '4', 'ReleasedThe', 'PHP', 'development', 'team', 'announces', 'the', 'immediate', 'availability', 'of', 'PHP', '7.2.0', 'RC4.', 'This', 'release', 'is', 'the', 'fourth', 'Release', 'Candidate', 'for', '7.2.0.', 'All', 'users', 'of', 'PHP', 'are', 'encouraged', 'to', 'test', 'this', 'version', 'carefully,', 'and', 'report', 'any', 'bugs', 'and', 'incompatibilities', 'in', 'thebug', 'tracking', 'system.THIS', 'IS', 'A', 'DEVELOPMENT', 'PREVIEW', '-', 'DO', 'NOT', 'USE', 'IT', 'IN', 'PRODUCTION!For', 'more', 'information', 'on', 'the', 'new', 'features', 'and', 'other', 'changes,', 'you', 'can', 'read', 'theNEWSfile,', 'or', 'theUPGRADINGfile', 'for', 'a', 'complete', 'list', 'of', 'upgrading', 'notes.', 'These', 'files', 'can', 'also', 'be', 'found', 'in', 'the', 'release', 'archive.For', 'source', 'downloads', 'of', 'PHP', '7.2.0', 'Release', 'Candidate', '4', 'please', 'visit', 'thedownloadpage,', 'Windows', 'sources', 'and', 'binaries', 'can', 'be', 'found', 'atwindows.php.net/qa/.The', 'next', 'Release', 'Candidate', 'will', 'be', 'announced', 'on', 'the', '26th', 'of', 'October.', 'You', 'can', 'also', 'read', 'the', 'full', 'list', 'of', 'planned', 'releases', 'onour', 'wiki.Thank', 'you', 'for', 'helping', 'us', 'make', 'PHP', 'better.28', 'Sep', '2017PHP', '7.2.0', 'Release', 'Candidate', '3', 'ReleasedThe', 'PHP', 'development', 'team', 'announces', 'the', 'immediate', 'availability', 'of', 'PHP', '7.2.0', 'RC3.', 'This', 'release', 'is', 'the', 'third', 'Release', 'Candidate', 'for', '7.2.0.', 'All', 'users', 'of', 'PHP', 'are', 'encouraged', 'to', 'test', 'this', 'version', 'carefully,', 'and', 'report', 'any', 'bugs', 'and', 'incompatibilities', 'in', 'thebug', 'tracking', 'system.THIS', 'IS', 'A', 'DEVELOPMENT', 'PREVIEW', '-', 'DO', 'NOT', 'USE', 'IT', 'IN', 'PRODUCTION!For', 'more', 'information', 'on', 'the', 'new', 'features', 'and', 'other', 'changes,', 'you', 'can', 'read', 'theNEWSfile,', 'or', 'theUPGRADINGfile', 'for', 'a', 'complete', 'list', 'of', 'upgrading', 'notes.', 'These', 'files', 'can', 'also', 'be', 'found', 'in', 'the', 'release', 'archive.For', 'source', 'downloads', 'of', 'PHP', '7.2.0', 'Release', 'Candidate', '3', 'please', 'visit', 'thedownloadpage,', 'Windows', 'sources', 'and', 'binaries', 'can', 'be', 'found', 'atwindows.php.net/qa/.The', 'next', 'Release', 'Candidate', 'will', 'be', 'announced', 'on', 'the', '12th', 'of', 'October.', 'You', 'can', 'also', 'read', 'the', 'full', 'list', 'of', 'planned', 'releases', 'onour', 'wiki.Thank', 'you', 'for', 'helping', 'us', 'make', 'PHP', 'better.31', 'Aug', '2017PHP', '7.2.0', 'Release', 'Candidate', '1', 'ReleasedThe', 'PHP', 'development', 'team', 'announces', 'the', 'immediate', 'availability', 'of', 'PHP', '7.2.0', 'Release', 'Candidate', '1.', 'This', 'release', 'is', 'the', 'first', 'Release', 'Candidate', 'for', '7.2.0.', 'All', 'users', 'of', 'PHP', 'are', 'encouraged', 'to', 'test', 'this', 'version', 'carefully,', 'and', 'report', 'any', 'bugs', 'and', 'incompatibilities', 'in', 'thebug', 'tracking', 'system.THIS', 'IS', 'A', 'DEVELOPMENT', 'PREVIEW', '-', 'DO', 'NOT', 'USE', 'IT', 'IN', 'PRODUCTION!For', 'more', 'information', 'on', 'the', 'new', 'features', 'and', 'other', 'changes,', 'you', 'can', 'read', 'theNEWSfile,', 'or', 'theUPGRADINGfile', 'for', 'a', 'complete', 'list', 'of', 'upgrading', 'notes.', 'These', 'files', 'can', 'also', 'be', 'found', 'in', 'the', 'release', 'archive.For', 'source', 'downloads', 'of', 'PHP', '7.2.0', 'Release', 'Candidate', '1', 'please', 'visit', 'thedownloadpage,', 'Windows', 'sources', 'and', 'binaries', 'can', 'be', 'found', 'atwindows.php.net/qa/.The', 'second', 'Release', 'Candidate', 'will', 'be', 'released', 'on', 'the', '14th', 'of', 'September.', 'You', 'can', 'also', 'read', 'the', 'full', 'list', 'of', 'planned', 'releases', 'onour', 'wiki.Thank', 'you', 'for', 'helping', 'us', 'make', 'PHP', 'better.17', 'Aug', '2017PHP', '7.2.0', 'Beta', '3', 'ReleasedThe', 'PHP', 'development', 'team', 'announces', 'the', 'immediate', 'availability', 'of', 'PHP', '7.2.0', 'Beta', '3.', 'This', 'release', 'is', 'the', 'third', 'and', 'final', 'beta', 'for', '7.2.0.', 'All', 'users', 'of', 'PHP', 'are', 'encouraged', 'to', 'test', 'this', 'version', 'carefully,', 'and', 'report', 'any', 'bugs', 'and', 'incompatibilities', 'in', 'thebug', 'tracking', 'system.THIS', 'IS', 'A', 'DEVELOPMENT', 'PREVIEW', '-', 'DO', 'NOT', 'USE', 'IT', 'IN', 'PRODUCTION!For', 'more', 'information', 'on', 'the', 'new', 'features', 'and', 'other', 'changes,', 'you', 'can', 'read', 'theNEWSfile,', 'or', 'theUPGRADINGfile', 'for', 'a', 'complete', 'list', 'of', 'upgrading', 'notes.', 'These', 'files', 'can', 'also', 'be', 'found', 'in', 'the', 'release', 'archive.For', 'source', 'downloads', 'of', 'PHP', '7.2.0', 'Beta', '3', 'please', 'visit', 'thedownloadpage,', 'Windows', 'sources', 'and', 'binaries', 'can', 'be', 'found', 'atwindows.php.net/qa/.The', 'first', 'Release', 'Candidate', 'will', 'be', 'released', 'on', 'the', '31th', 'of', 'August.', 'You', 'can', 'also', 'read', 'the', 'full', 'list', 'of', 'planned', 'releases', 'onour', 'wiki.Thank', 'you', 'for', 'helping', 'us', 'make', 'PHP', 'better.06', 'Jul', '2017PHP', '7.2.0', 'Alpha', '3', 'ReleasedThe', 'PHP', 'development', 'team', 'announces', 'the', 'immediate', 'availability', 'of', 'PHP', '7.2.0', 'Alpha', '3.', 'This', 'release', 'contains', 'fixes', 'and', 'improvements', 'relative', 'to', 'Alpha', '2.', 'All', 'users', 'of', 'PHP', 'are', 'encouraged', 'to', 'test', 'this', 'version', 'carefully,', 'and', 'report', 'any', 'bugs', 'and', 'incompatibilities', 'in', 'thebug', 'tracking', 'system.THIS', 'IS', 'A', 'DEVELOPMENT', 'PREVIEW', '-', 'DO', 'NOT', 'USE', 'IT', 'IN', 'PRODUCTION!For', 'information', 'on', 'new', 'features', 'and', 'other', 'changes,', 'you', 'can', 'read', 'theNEWSfile,', 'or', 'theUPGRADINGfile', 'for', 'a', 'complete', 'list', 'of', 'upgrading', 'notes.', 'These', 'files', 'can', 'also', 'be', 'found', 'in', 'the', 'release', 'archive.For', 'source', 'downloads', 'of', 'PHP', '7.2.0', 'Alpha', '3', 'please', 'visit', 'thedownloadpage,', 'Windows', 'sources', 'and', 'binaries', 'can', 'be', 'found', 'onwindows.php.net/qa/.The', 'first', 'beta', 'will', 'be', 'released', 'on', 'the', '20th', 'of', 'July.', 'You', 'can', 'also', 'read', 'the', 'full', 'list', 'of', 'planned', 'releases', 'on', 'ourwiki.Thank', 'you', 'for', 'helping', 'us', 'make', 'PHP', 'better.Older', 'News', 'EntriesUpcoming', 'conferencesphp[tek]', '2020Midwest', 'PHP', '2020PHP', 'Russia', '2020Dutch', 'PHP', 'Conference', '2020User', 'Group', 'EventsSpecial', 'ThanksSocial', 'media@official_phpCopyright', '©', '2001-2020', 'The', 'PHP', 'GroupMy', 'PHP.netContactOther', 'PHP.net', 'sitesPrivacy', 'policy']\n"
     ]
    }
   ],
   "source": [
    "from bs4 import BeautifulSoup \n",
    "import urllib.request \n",
    "response = urllib.request.urlopen('http://php.net/') \n",
    "html = response.read() \n",
    "soup = BeautifulSoup(html,\"html5lib\") \n",
    "text = soup.get_text(strip=True) \n",
    "tokens = [t for t in text.split()] \n",
    "print (tokens)"
   ]
  },
  {
   "cell_type": "code",
   "execution_count": null,
   "metadata": {},
   "outputs": [],
   "source": [
    "\n",
    "from bs4 import BeautifulSoup\n",
    "import urllib.request\n",
    "import nltk \n",
    "response = urllib.request.urlopen('http://php.net/') \n",
    "html = response.read() \n",
    "soup = BeautifulSoup(html,\"html5lib\") \n",
    "text = soup.get_text(strip=True) \n",
    "tokens = [t for t in text.split()] \n",
    "freq = nltk.FreqDist(tokens) \n",
    "for key,val in freq.items(): \n",
    "    print (str(key) + ':' + str(val))"
   ]
  },
  {
   "cell_type": "code",
   "execution_count": null,
   "metadata": {},
   "outputs": [],
   "source": [
    "from nltk.corpus import stopwords\n",
    "stopwords.words('english')"
   ]
  },
  {
   "cell_type": "code",
   "execution_count": 7,
   "metadata": {},
   "outputs": [],
   "source": [
    "clean_tokens = tokens[:] \n",
    "sr = stopwords.words('english')\n",
    "for token in tokens:\n",
    "    if token in stopwords.words('english'):\n",
    "        clean_tokens.remove(token)"
   ]
  },
  {
   "cell_type": "code",
   "execution_count": 8,
   "metadata": {},
   "outputs": [
    {
     "name": "stdout",
     "output_type": "stream",
     "text": [
      "PHP::1\n",
      "Hypertext:1\n",
      "PreprocessorDownloadsDocumentationGet:1\n",
      "InvolvedHelpGetting:1\n",
      "StartedIntroductionA:1\n",
      "simple:1\n",
      "tutorialLanguage:1\n",
      "ReferenceBasic:1\n",
      "syntaxTypesVariablesConstantsExpressionsOperatorsControl:1\n",
      "StructuresFunctionsClasses:1\n",
      "ObjectsNamespacesErrorsExceptionsGeneratorsReferences:1\n",
      "ExplainedPredefined:1\n",
      "VariablesPredefined:1\n",
      "ExceptionsPredefined:1\n",
      "Interfaces:1\n",
      "ClassesContext:1\n",
      "options:1\n",
      "parametersSupported:1\n",
      "Protocols:1\n",
      "WrappersSecurityIntroductionGeneral:1\n",
      "considerationsInstalled:1\n",
      "CGI:1\n",
      "binaryInstalled:1\n",
      "Apache:1\n",
      "moduleSession:1\n",
      "SecurityFilesystem:1\n",
      "SecurityDatabase:1\n",
      "SecurityError:1\n",
      "ReportingUsing:1\n",
      "Register:1\n",
      "GlobalsUser:1\n",
      "Submitted:1\n",
      "DataMagic:1\n",
      "QuotesHiding:1\n",
      "PHPKeeping:1\n",
      "CurrentFeaturesHTTP:1\n",
      "authentication:1\n",
      "PHPCookiesSessionsDealing:1\n",
      "XFormsHandling:1\n",
      "file:1\n",
      "uploadsUsing:1\n",
      "remote:1\n",
      "filesConnection:1\n",
      "handlingPersistent:1\n",
      "Database:1\n",
      "ConnectionsSafe:1\n",
      "ModeCommand:1\n",
      "line:1\n",
      "usageGarbage:1\n",
      "CollectionDTrace:1\n",
      "Dynamic:1\n",
      "TracingFunction:1\n",
      "ReferenceAffecting:1\n",
      "PHP's:1\n",
      "BehaviourAudio:1\n",
      "Formats:1\n",
      "ManipulationAuthentication:1\n",
      "ServicesCommand:1\n",
      "Line:1\n",
      "Specific:2\n",
      "ExtensionsCompression:1\n",
      "Archive:1\n",
      "ExtensionsCredit:1\n",
      "Card:1\n",
      "ProcessingCryptography:1\n",
      "ExtensionsDatabase:1\n",
      "ExtensionsDate:1\n",
      "Time:1\n",
      "Related:4\n",
      "ExtensionsFile:1\n",
      "System:1\n",
      "ExtensionsHuman:1\n",
      "Language:1\n",
      "Character:1\n",
      "Encoding:1\n",
      "SupportImage:1\n",
      "Processing:1\n",
      "GenerationMail:1\n",
      "ExtensionsMathematical:1\n",
      "ExtensionsNon-Text:1\n",
      "MIME:1\n",
      "OutputProcess:1\n",
      "Control:1\n",
      "ExtensionsOther:2\n",
      "Basic:1\n",
      "ServicesSearch:1\n",
      "Engine:1\n",
      "ExtensionsServer:1\n",
      "ExtensionsSession:1\n",
      "ExtensionsText:1\n",
      "ProcessingVariable:1\n",
      "Type:1\n",
      "ExtensionsWeb:1\n",
      "ServicesWindows:1\n",
      "Only:1\n",
      "ExtensionsXML:1\n",
      "ManipulationGUI:1\n",
      "ExtensionsKeyboard:1\n",
      "Shortcuts?This:1\n",
      "helpjNext:1\n",
      "menu:2\n",
      "itemkPrevious:1\n",
      "itemg:1\n",
      "pPrevious:1\n",
      "man:2\n",
      "pageg:1\n",
      "nNext:1\n",
      "pageGScroll:1\n",
      "bottomg:1\n",
      "gScroll:1\n",
      "topg:1\n",
      "hGoto:1\n",
      "homepageg:1\n",
      "sGoto:1\n",
      "search(current:1\n",
      "page)/Focus:1\n",
      "search:1\n",
      "boxPHP:1\n",
      "popular:2\n",
      "general-purpose:1\n",
      "scripting:1\n",
      "language:1\n",
      "especially:1\n",
      "suited:1\n",
      "web:1\n",
      "development.Fast,:1\n",
      "flexible:1\n",
      "pragmatic,:1\n",
      "PHP:91\n",
      "powers:1\n",
      "everything:1\n",
      "blog:1\n",
      "websites:1\n",
      "world.Download5.6.37·Release:1\n",
      "Notes·Upgrading7.0.31·Release:1\n",
      "Notes·Upgrading7.1.21·Release:1\n",
      "Notes·Upgrading7.2.9·Release:1\n",
      "Notes·Upgrading17:1\n",
      "Aug:6\n",
      "2018PHP:13\n",
      "7.1.21:2\n",
      "ReleasedThe:17\n",
      "development:12\n",
      "team:18\n",
      "announces:12\n",
      "immediate:12\n",
      "availability:12\n",
      "7.1.21.:1\n",
      "This:13\n",
      "bugfix:3\n",
      "release.:7\n",
      "All:9\n",
      "7.1:2\n",
      "users:12\n",
      "encouraged:12\n",
      "upgrade:7\n",
      "version.For:8\n",
      "source:25\n",
      "downloads:18\n",
      "please:18\n",
      "visit:18\n",
      "ourdownloads:7\n",
      "page,:7\n",
      "Windows:17\n",
      "binaries:17\n",
      "found:40\n",
      "onwindows.php.net/download/.:7\n",
      "The:13\n",
      "list:23\n",
      "changes:8\n",
      "recorded:7\n",
      "theChangeLog.16:2\n",
      "7.2.9:2\n",
      "7.2.9.:1\n",
      "release.All:1\n",
      "7.2:3\n",
      "7.3.0.beta2:1\n",
      "glad:6\n",
      "announce:6\n",
      "release:41\n",
      "sixth:1\n",
      "7.3.0:15\n",
      "version,:6\n",
      "7.3.0beta2.:1\n",
      "rough:6\n",
      "outline:6\n",
      "7.3:6\n",
      "cycle:5\n",
      "specified:6\n",
      "thePHP:6\n",
      "Wiki.For:6\n",
      "7.3.0beta2:1\n",
      "thedownload:6\n",
      "page.:5\n",
      "sources:10\n",
      "onwindows.php.net/qa/.Please:5\n",
      "carefully:6\n",
      "test:12\n",
      "version:12\n",
      "report:11\n",
      "issues:6\n",
      "thebug:11\n",
      "reporting:6\n",
      "system.THIS:10\n",
      "IS:10\n",
      "A:10\n",
      "DEVELOPMENT:10\n",
      "PREVIEW:10\n",
      "-:10\n",
      "DO:11\n",
      "NOT:11\n",
      "USE:10\n",
      "IT:10\n",
      "IN:10\n",
      "PRODUCTION!For:10\n",
      "information:11\n",
      "new:11\n",
      "features:11\n",
      "changes,:11\n",
      "read:16\n",
      "theNEWSfile,:11\n",
      "theUPGRADINGfile:11\n",
      "complete:11\n",
      "upgrading:11\n",
      "notes.:11\n",
      "Internal:1\n",
      "listed:1\n",
      "theUPGRADING.INTERNALSfile.:1\n",
      "These:11\n",
      "files:11\n",
      "also:17\n",
      "archive.The:6\n",
      "next:8\n",
      "would:6\n",
      "Beta:7\n",
      "3,:2\n",
      "planned:11\n",
      "August:3\n",
      "30th.The:1\n",
      "signatures:6\n",
      "inthe:6\n",
      "manifestor:6\n",
      "onthe:6\n",
      "QA:6\n",
      "site.Thank:6\n",
      "helping:11\n",
      "us:11\n",
      "make:11\n",
      "better.02:1\n",
      "7.3.0.beta1:1\n",
      "fifth:1\n",
      "7.3.0beta1.:1\n",
      "7.3.0beta1:1\n",
      "2,:2\n",
      "16th.The:1\n",
      "better.20:1\n",
      "Jul:7\n",
      "7.1.20:2\n",
      "7.1.20.:1\n",
      "security:7\n",
      "Several:3\n",
      "bugs:8\n",
      "fixed:3\n",
      "theChangeLog.20:1\n",
      "5.6.37:2\n",
      "5.6.37.:1\n",
      "5.6:1\n",
      "theChangeLog.19:3\n",
      "7.0.31:2\n",
      "7.0.31.:1\n",
      "7.0:1\n",
      "7.2.8:2\n",
      "7.2.8.:1\n",
      "contains:2\n",
      "several:2\n",
      "minor:1\n",
      "bug:2\n",
      "fixes.All:1\n",
      "7.3.0alpha4:2\n",
      "fourth:2\n",
      "7.3.0alpha4.:1\n",
      "1,:2\n",
      "2nd.The:1\n",
      "better.05:1\n",
      "alpha:3\n",
      "3:8\n",
      "third:3\n",
      "Alpha:12\n",
      "3.:3\n",
      "July:2\n",
      "19th.The:1\n",
      "better.21:1\n",
      "Jun:2\n",
      "2:2\n",
      "second:2\n",
      "2.:2\n",
      "5.The:1\n",
      "better.07:1\n",
      "1:4\n",
      "ReleasedPHP:1\n",
      "first:4\n",
      "1.:2\n",
      "starts:1\n",
      "cycle,:1\n",
      "page.Please:1\n",
      "system.Please:1\n",
      "use:1\n",
      "production,:1\n",
      "early:1\n",
      "June:1\n",
      "21.The:1\n",
      "better.01:1\n",
      "Feb:1\n",
      "7.2.2:2\n",
      "7.2.2.:1\n",
      "release,:1\n",
      "fixes:2\n",
      "included.All:1\n",
      "theChangeLog.12:1\n",
      "Oct:1\n",
      "2017PHP:5\n",
      "7.2.0:15\n",
      "Release:14\n",
      "Candidate:14\n",
      "4:2\n",
      "RC4.:1\n",
      "7.2.0.:4\n",
      "carefully,:5\n",
      "incompatibilities:5\n",
      "tracking:5\n",
      "archive.For:5\n",
      "thedownloadpage,:5\n",
      "atwindows.php.net/qa/.The:4\n",
      "announced:2\n",
      "26th:1\n",
      "October.:2\n",
      "You:5\n",
      "full:5\n",
      "releases:5\n",
      "onour:4\n",
      "wiki.Thank:4\n",
      "better.28:1\n",
      "Sep:1\n",
      "RC3.:1\n",
      "12th:1\n",
      "better.31:1\n",
      "released:3\n",
      "14th:1\n",
      "September.:1\n",
      "better.17:1\n",
      "final:1\n",
      "beta:2\n",
      "31th:1\n",
      "August.:1\n",
      "better.06:1\n",
      "improvements:1\n",
      "relative:1\n",
      "onwindows.php.net/qa/.The:1\n",
      "20th:1\n",
      "July.:1\n",
      "ourwiki.Thank:1\n",
      "better.Older:1\n",
      "News:1\n",
      "EntriesUpcoming:1\n",
      "conferencesphp[world]:1\n",
      "2018Northeast:1\n",
      "Boston:1\n",
      "2018ZendCon:1\n",
      "&:1\n",
      "OpenEnterprise:1\n",
      "2018SymfonyCon:1\n",
      "Lisbon:1\n",
      "2018Conferences:1\n",
      "calling:1\n",
      "papersSunshinePHP:1\n",
      "2019:1\n",
      "CFP:1\n",
      "StartedUser:1\n",
      "Group:1\n",
      "EventsSpecial:1\n",
      "ThanksSocial:1\n",
      "media@official_phpCopyright:1\n",
      "©:1\n",
      "2001-2018:1\n",
      "GroupMy:1\n",
      "PHP.netContactOther:1\n",
      "PHP.net:1\n",
      "sitesMirror:1\n",
      "sitesPrivacy:1\n",
      "policy:1\n"
     ]
    }
   ],
   "source": [
    "from bs4 import BeautifulSoup \n",
    "import urllib.request \n",
    "import nltk \n",
    "from nltk.corpus import stopwords \n",
    "response = urllib.request.urlopen('http://php.net/') \n",
    "html = response.read() \n",
    "soup = BeautifulSoup(html,\"html5lib\") \n",
    "text = soup.get_text(strip=True) \n",
    "tokens = [t for t in text.split()] \n",
    "clean_tokens = tokens[:] \n",
    "sr = stopwords.words('english') \n",
    "for token in tokens: \n",
    "    if token in stopwords.words('english'): \n",
    "        clean_tokens.remove(token) \n",
    "freq = nltk.FreqDist(clean_tokens) \n",
    "for key,val in freq.items(): \n",
    "    print (str(key) + ':' + str(val))"
   ]
  },
  {
   "cell_type": "code",
   "execution_count": 20,
   "metadata": {},
   "outputs": [
    {
     "ename": "NameError",
     "evalue": "name 'freq' is not defined",
     "output_type": "error",
     "traceback": [
      "\u001b[1;31m---------------------------------------------------------------------------\u001b[0m",
      "\u001b[1;31mNameError\u001b[0m                                 Traceback (most recent call last)",
      "\u001b[1;32m<ipython-input-20-8545f8db6066>\u001b[0m in \u001b[0;36m<module>\u001b[1;34m\u001b[0m\n\u001b[0;32m      1\u001b[0m \u001b[0mget_ipython\u001b[0m\u001b[1;33m(\u001b[0m\u001b[1;33m)\u001b[0m\u001b[1;33m.\u001b[0m\u001b[0mrun_line_magic\u001b[0m\u001b[1;33m(\u001b[0m\u001b[1;34m'matplotlib'\u001b[0m\u001b[1;33m,\u001b[0m \u001b[1;34m'inline'\u001b[0m\u001b[1;33m)\u001b[0m\u001b[1;33m\u001b[0m\u001b[1;33m\u001b[0m\u001b[0m\n\u001b[1;32m----> 2\u001b[1;33m \u001b[0mfreq\u001b[0m\u001b[1;33m.\u001b[0m\u001b[0mplot\u001b[0m\u001b[1;33m(\u001b[0m\u001b[0mfigsize\u001b[0m\u001b[1;33m=\u001b[0m\u001b[1;33m(\u001b[0m\u001b[1;36m20\u001b[0m\u001b[1;33m,\u001b[0m\u001b[1;36m5\u001b[0m\u001b[1;33m)\u001b[0m\u001b[1;33m,\u001b[0m\u001b[0mcumulative\u001b[0m\u001b[1;33m=\u001b[0m\u001b[1;32mFalse\u001b[0m\u001b[1;33m)\u001b[0m\u001b[1;33m\u001b[0m\u001b[1;33m\u001b[0m\u001b[0m\n\u001b[0m",
      "\u001b[1;31mNameError\u001b[0m: name 'freq' is not defined"
     ]
    }
   ],
   "source": [
    "%matplotlib inline\n",
    "freq.plot(20,cumulative=False)\n"
   ]
  },
  {
   "cell_type": "code",
   "execution_count": 46,
   "metadata": {},
   "outputs": [
    {
     "name": "stdout",
     "output_type": "stream",
     "text": [
      "['Hello', 'Adam', ',', 'how', 'are', 'you', '?', 'I', 'hope', 'everything', 'is', 'going', 'well', '.', 'Today', 'is', 'a', 'good', 'day', ',', 'see', 'you', 'dude', '.']\n"
     ]
    }
   ],
   "source": [
    "\n",
    "from nltk.tokenize import sent_tokenize,word_tokenize\n",
    "mytext = \"Hello Adam, how are you? I hope everything is going well. Today is a good day, see you dude.\" \n",
    "print(word_tokenize(mytext))\n"
   ]
  },
  {
   "cell_type": "code",
   "execution_count": 12,
   "metadata": {},
   "outputs": [
    {
     "name": "stdout",
     "output_type": "stream",
     "text": [
      "['Hello Mr. Adam, how are you?', 'I hope everything is going well.', 'Today is a good day, see you dude.']\n"
     ]
    }
   ],
   "source": [
    "from nltk.tokenize import sent_tokenize \n",
    "mytext = \"Hello Mr. Adam, how are you? I hope everything is going well. Today is a good day, see you dude.\" \n",
    "print(sent_tokenize(mytext))\n"
   ]
  },
  {
   "cell_type": "code",
   "execution_count": 13,
   "metadata": {},
   "outputs": [
    {
     "name": "stdout",
     "output_type": "stream",
     "text": [
      "['Hello', 'Mr.', 'Adam', ',', 'how', 'are', 'you', '?', 'I', 'hope', 'everything', 'is', 'going', 'well', '.', 'Today', 'is', 'a', 'good', 'day', ',', 'see', 'you', 'dude', '.']\n"
     ]
    }
   ],
   "source": [
    "from nltk.tokenize import word_tokenize\n",
    "mytext = \"Hello Mr. Adam, how are you? I hope everything is going well. Today is a good day, see you dude.\"\n",
    "print(word_tokenize(mytext))"
   ]
  },
  {
   "cell_type": "code",
   "execution_count": 14,
   "metadata": {},
   "outputs": [
    {
     "name": "stdout",
     "output_type": "stream",
     "text": [
      "['Bonjour M. Adam, comment allez-vous?', \"J'espère que tout va bien.\", \"Aujourd'hui est un bon jour.\"]\n"
     ]
    }
   ],
   "source": [
    "from nltk.tokenize import sent_tokenize\n",
    "mytext = \"Bonjour M. Adam, comment allez-vous? J'espère que tout va bien. Aujourd'hui est un bon jour.\"\n",
    "print(sent_tokenize(mytext,\"french\"))\n"
   ]
  },
  {
   "cell_type": "code",
   "execution_count": 15,
   "metadata": {},
   "outputs": [
    {
     "name": "stdout",
     "output_type": "stream",
     "text": [
      "a symptom of some physical hurt or disorder\n",
      "['the patient developed severe pain and distension']\n"
     ]
    }
   ],
   "source": [
    "from nltk.corpus import wordnet\n",
    "syn = wordnet.synsets(\"pain\")\n",
    "print(syn[0].definition())\n",
    "print(syn[0].examples())"
   ]
  },
  {
   "cell_type": "code",
   "execution_count": 10,
   "metadata": {},
   "outputs": [
    {
     "name": "stdout",
     "output_type": "stream",
     "text": [
      "fruit with red or yellow or green skin and sweet to tart crisp whitish flesh\n",
      "fruit with red or yellow or green skin and sweet to tart crisp whitish flesh\n",
      "large Old World boas\n"
     ]
    }
   ],
   "source": [
    "from nltk.corpus import wordnet\n",
    "syn = wordnet.synsets(\"apple\")\n",
    "print(syn[0].definition())\n",
    "print(syn[0].definition())\n",
    "syn = wordnet.synsets(\"Python\")\n",
    "print(syn[0].definition())"
   ]
  },
  {
   "cell_type": "code",
   "execution_count": 5,
   "metadata": {},
   "outputs": [
    {
     "name": "stdout",
     "output_type": "stream",
     "text": [
      "[Lemma('computer.n.01.computer'), Lemma('computer.n.01.computing_machine'), Lemma('computer.n.01.computing_device'), Lemma('computer.n.01.data_processor'), Lemma('computer.n.01.electronic_computer'), Lemma('computer.n.01.information_processing_system')]\n",
      "[Lemma('calculator.n.01.calculator'), Lemma('calculator.n.01.reckoner'), Lemma('calculator.n.01.figurer'), Lemma('calculator.n.01.estimator'), Lemma('calculator.n.01.computer')]\n",
      "['computer', 'computing_machine', 'computing_device', 'data_processor', 'electronic_computer', 'information_processing_system', 'calculator', 'reckoner', 'figurer', 'estimator', 'computer']\n"
     ]
    }
   ],
   "source": [
    "from nltk.corpus import wordnet \n",
    "synonyms = []\n",
    "for syn in wordnet.synsets('Computer'):\n",
    "    print(syn.lemmas())\n",
    "    for lemma in syn.lemmas():\n",
    "        synonyms.append(lemma.name())\n",
    "        \n",
    "print(synonyms)"
   ]
  },
  {
   "cell_type": "code",
   "execution_count": 13,
   "metadata": {},
   "outputs": [
    {
     "name": "stdout",
     "output_type": "stream",
     "text": [
      "['evil', 'evilness', 'bad', 'badness', 'bad', 'evil', 'ill']\n"
     ]
    }
   ],
   "source": [
    "\n",
    "from nltk.corpus import wordnet\n",
    "antonyms = []\n",
    "for syn in wordnet.synsets(\"good\"):\n",
    "    for l in syn.lemmas():\n",
    "        if l.antonyms():\n",
    "            antonyms.append(l.antonyms()[0].name())\n",
    "print(antonyms)"
   ]
  },
  {
   "cell_type": "code",
   "execution_count": 23,
   "metadata": {},
   "outputs": [
    {
     "name": "stdout",
     "output_type": "stream",
     "text": [
      "reviv\n"
     ]
    }
   ],
   "source": [
    "from nltk.stem import PorterStemmer\n",
    "stemmer = PorterStemmer() \n",
    "print(stemmer.stem('revival'))"
   ]
  },
  {
   "cell_type": "code",
   "execution_count": 20,
   "metadata": {},
   "outputs": [
    {
     "name": "stdout",
     "output_type": "stream",
     "text": [
      "('arabic', 'danish', 'dutch', 'english', 'finnish', 'french', 'german', 'hungarian', 'italian', 'norwegian', 'porter', 'portuguese', 'romanian', 'russian', 'spanish', 'swedish')\n"
     ]
    }
   ],
   "source": [
    "\n",
    "from nltk.stem import SnowballStemmer\n",
    "print(SnowballStemmer.languages)"
   ]
  },
  {
   "cell_type": "code",
   "execution_count": 26,
   "metadata": {},
   "outputs": [
    {
     "name": "stdout",
     "output_type": "stream",
     "text": [
      "french wording\n"
     ]
    }
   ],
   "source": [
    "from nltk.stem import SnowballStemmer\n",
    "french_stemmer = SnowballStemmer('french')\n",
    "print(french_stemmer.stem(\"French wordings\"))"
   ]
  },
  {
   "cell_type": "code",
   "execution_count": 22,
   "metadata": {},
   "outputs": [
    {
     "name": "stdout",
     "output_type": "stream",
     "text": [
      "increas\n"
     ]
    }
   ],
   "source": [
    "from nltk.stem import PorterStemmer \n",
    "stemmer = PorterStemmer() \n",
    "print(stemmer.stem('increases'))"
   ]
  },
  {
   "cell_type": "code",
   "execution_count": 16,
   "metadata": {},
   "outputs": [
    {
     "name": "stdout",
     "output_type": "stream",
     "text": [
      "flew\n"
     ]
    }
   ],
   "source": [
    "from nltk.stem import WordNetLemmatizer\n",
    "lemmatizer = WordNetLemmatizer()\n",
    "print(lemmatizer.lemmatize('flew'))"
   ]
  },
  {
   "cell_type": "code",
   "execution_count": 24,
   "metadata": {},
   "outputs": [
    {
     "name": "stdout",
     "output_type": "stream",
     "text": [
      "play\n"
     ]
    }
   ],
   "source": [
    "\n",
    "from nltk.stem import WordNetLemmatizer\n",
    "lemmatizer = WordNetLemmatizer()\n",
    "print(lemmatizer.lemmatize('playing', pos=\"v\"))"
   ]
  },
  {
   "cell_type": "code",
   "execution_count": 25,
   "metadata": {},
   "outputs": [
    {
     "name": "stdout",
     "output_type": "stream",
     "text": [
      "play\n",
      "playing\n",
      "playing\n",
      "playing\n"
     ]
    }
   ],
   "source": [
    "from nltk.stem import WordNetLemmatizer \n",
    "lemmatizer = WordNetLemmatizer() \n",
    "print(lemmatizer.lemmatize('playing', pos=\"v\")) \n",
    "print(lemmatizer.lemmatize('playing', pos=\"n\")) \n",
    "print(lemmatizer.lemmatize('playing', pos=\"a\")) \n",
    "print(lemmatizer.lemmatize('playing', pos=\"r\"))\n",
    "\n"
   ]
  },
  {
   "cell_type": "code",
   "execution_count": 26,
   "metadata": {},
   "outputs": [
    {
     "name": "stdout",
     "output_type": "stream",
     "text": [
      "stone\n",
      "speak\n",
      "bedroom\n",
      "joke\n",
      "lisa\n",
      "purpl\n",
      "----------------------\n",
      "stone\n",
      "speaking\n",
      "bedroom\n",
      "joke\n",
      "lisa\n",
      "purple\n"
     ]
    }
   ],
   "source": [
    "\n",
    "from nltk.stem import WordNetLemmatizer \n",
    "from nltk.stem import PorterStemmer \n",
    "stemmer = PorterStemmer() \n",
    "lemmatizer = WordNetLemmatizer() \n",
    "print(stemmer.stem('stones')) \n",
    "print(stemmer.stem('speaking')) \n",
    "print(stemmer.stem('bedroom')) \n",
    "print(stemmer.stem('jokes')) \n",
    "print(stemmer.stem('lisa')) \n",
    "print(stemmer.stem('purple')) \n",
    "print('----------------------') \n",
    "print(lemmatizer.lemmatize('stones')) \n",
    "print(lemmatizer.lemmatize('speaking'))\n",
    "print(lemmatizer.lemmatize('bedroom'))\n",
    "print(lemmatizer.lemmatize('jokes'))\n",
    "print(lemmatizer.lemmatize('lisa'))\n",
    "print(lemmatizer.lemmatize('purple'))"
   ]
  },
  {
   "cell_type": "code",
   "execution_count": null,
   "metadata": {},
   "outputs": [],
   "source": []
  },
  {
   "cell_type": "code",
   "execution_count": 55,
   "metadata": {},
   "outputs": [
    {
     "name": "stdout",
     "output_type": "stream",
     "text": [
      "18846\n",
      "20\n",
      "['alt.atheism', 'comp.graphics', 'comp.os.ms-windows.misc', 'comp.sys.ibm.pc.hardware', 'comp.sys.mac.hardware', 'comp.windows.x', 'misc.forsale', 'rec.autos', 'rec.motorcycles', 'rec.sport.baseball', 'rec.sport.hockey', 'sci.crypt', 'sci.electronics', 'sci.med', 'sci.space', 'soc.religion.christian', 'talk.politics.guns', 'talk.politics.mideast', 'talk.politics.misc', 'talk.religion.misc']\n",
      "[rec.sport.hockey]:\t\t \"From: Mamatha Devineni Ratnam <mr47+@andrew.cmu.edu> ...\"\n",
      "[comp.sys.ibm.pc.hardware]:\t\t \"From: mblawson@midway.ecn.uoknor.edu (Matthew B Lawson) ...\"\n",
      "[talk.politics.mideast]:\t\t \"From: hilmi-er@dsv.su.se (Hilmi Eren) ...\"\n",
      "[comp.sys.ibm.pc.hardware]:\t\t \"From: guyd@austin.ibm.com (Guy Dawson) ...\"\n",
      "[comp.sys.mac.hardware]:\t\t \"From: Alexander Samuel McDiarmid <am2o+@andrew.cmu.edu> ...\"\n",
      "[sci.electronics]:\t\t \"From: tell@cs.unc.edu (Stephen Tell) ...\"\n",
      "[comp.sys.mac.hardware]:\t\t \"From: lpa8921@tamuts.tamu.edu (Louis Paul Adams) ...\"\n",
      "[rec.sport.hockey]:\t\t \"From: dchhabra@stpl.ists.ca (Deepak Chhabra) ...\"\n",
      "[rec.sport.hockey]:\t\t \"From: dchhabra@stpl.ists.ca (Deepak Chhabra) ...\"\n",
      "[talk.religion.misc]:\t\t \"From: arromdee@jyusenkyou.cs.jhu.edu (Ken Arromdee) ...\"\n"
     ]
    }
   ],
   "source": [
    "from sklearn.datasets import fetch_20newsgroups\n",
    "news = fetch_20newsgroups(subset='all')\n",
    " \n",
    "print (len(news.data))\n",
    "# 18846\n",
    " \n",
    "print (len(news.target_names))\n",
    "# 20\n",
    " \n",
    "print (news.target_names)\n",
    "# ['alt.atheism', 'comp.graphics', 'comp.os.ms-windows.misc', 'comp.sys.ibm.pc.hardware', 'comp.sys.mac.hardware', 'comp.windows.x', 'misc.forsale', 'rec.autos', 'rec.motorcycles', 'rec.sport.baseball', 'rec.sport.hockey', 'sci.crypt', 'sci.electronics', 'sci.med', 'sci.space', 'soc.religion.christian', 'talk.politics.guns', 'talk.politics.mideast', 'talk.politics.misc', 'talk.religion.misc']\n",
    " \n",
    "for text, num_label in zip(news.data[:10], news.target[:10]):\n",
    "    print ('[%s]:\\t\\t \"%s ...\"' % (news.target_names[num_label], text[:100].split('\\n')[0]))\n",
    " \n",
    "# [rec.sport.hockey]:        \"From: Mamatha Devineni Ratnam <mr47+@andrew.cmu.edu> ...\"\n",
    "# [comp.sys.ibm.pc.hardware]:        \"From: mblawson@midway.ecn.uoknor.edu (Matthew B Lawson) ...\"\n",
    "# [talk.politics.mideast]:       \"From: hilmi-er@dsv.su.se (Hilmi Eren) ...\"\n",
    "# [comp.sys.ibm.pc.hardware]:        \"From: guyd@austin.ibm.com (Guy Dawson) ...\"\n",
    "# [comp.sys.mac.hardware]:       \"From: Alexander Samuel McDiarmid <am2o+@andrew.cmu.edu> ...\"\n",
    "# [sci.electronics]:         \"From: tell@cs.unc.edu (Stephen Tell) ...\"\n",
    "# [comp.sys.mac.hardware]:       \"From: lpa8921@tamuts.tamu.edu (Louis Paul Adams) ...\"\n",
    "# [rec.sport.hockey]:        \"From: dchhabra@stpl.ists.ca (Deepak Chhabra) ...\"\n",
    "# [rec.sport.hockey]:        \"From: dchhabra@stpl.ists.ca (Deepak Chhabra) ...\"\n",
    "# [talk.religion.misc]:      \"From: arromdee@jyusenkyou.cs.jhu.edu (Ken Arromdee) ...\"\n",
    " "
   ]
  },
  {
   "cell_type": "code",
   "execution_count": 39,
   "metadata": {},
   "outputs": [
    {
     "name": "stderr",
     "output_type": "stream",
     "text": [
      "/anaconda3/lib/python3.6/site-packages/sklearn/cross_validation.py:41: DeprecationWarning: This module was deprecated in version 0.18 in favor of the model_selection module into which all the refactored classes and functions are moved. Also note that the interface of the new CV iterators are different from that of this module. This module will be removed in 0.20.\n",
      "  \"This module will be removed in 0.20.\", DeprecationWarning)\n"
     ]
    }
   ],
   "source": [
    "from sklearn.cross_validation import train_test_split\n",
    " \n",
    "def train(classifier, X, y):\n",
    "    X_train, X_test, y_train, y_test = train_test_split(X, y, test_size=0.25, random_state=33)\n",
    " \n",
    "    classifier.fit(X_train, y_train)\n",
    "    print (\"Accuracy: %s\" % classifier.score(X_test, y_test))\n",
    "    return classifier"
   ]
  },
  {
   "cell_type": "code",
   "execution_count": 40,
   "metadata": {},
   "outputs": [
    {
     "name": "stdout",
     "output_type": "stream",
     "text": [
      "Accuracy: 0.8463497453310697\n"
     ]
    },
    {
     "data": {
      "text/plain": [
       "Pipeline(memory=None,\n",
       "     steps=[('vectorizer', TfidfVectorizer(analyzer='word', binary=False, decode_error='strict',\n",
       "        dtype=<class 'numpy.int64'>, encoding='utf-8', input='content',\n",
       "        lowercase=True, max_df=1.0, max_features=None, min_df=1,\n",
       "        ngram_range=(1, 1), norm='l2', preprocessor=None, smooth_idf=Tr...      vocabulary=None)), ('classifier', MultinomialNB(alpha=1.0, class_prior=None, fit_prior=True))])"
      ]
     },
     "execution_count": 40,
     "metadata": {},
     "output_type": "execute_result"
    }
   ],
   "source": [
    "from sklearn.naive_bayes import MultinomialNB\n",
    "from sklearn.pipeline import Pipeline\n",
    "from sklearn.feature_extraction.text import TfidfVectorizer\n",
    " \n",
    "trial1 = Pipeline([\n",
    "    ('vectorizer', TfidfVectorizer()),\n",
    "    ('classifier', MultinomialNB()),\n",
    "])\n",
    " \n",
    "train(trial1, news.data, news.target)\n",
    "# Accuracy: 0.846349745331"
   ]
  },
  {
   "cell_type": "markdown",
   "metadata": {},
   "source": [
    "Pretty good result for a first try. Let’s see how we can improve that. The first thing that comes to mind is to ignore insignificant words. We can use NLTK’s stopwords list."
   ]
  },
  {
   "cell_type": "code",
   "execution_count": 41,
   "metadata": {},
   "outputs": [
    {
     "name": "stdout",
     "output_type": "stream",
     "text": [
      "Accuracy: 0.8777589134125636\n"
     ]
    },
    {
     "data": {
      "text/plain": [
       "Pipeline(memory=None,\n",
       "     steps=[('vectorizer', TfidfVectorizer(analyzer='word', binary=False, decode_error='strict',\n",
       "        dtype=<class 'numpy.int64'>, encoding='utf-8', input='content',\n",
       "        lowercase=True, max_df=1.0, max_features=None, min_df=1,\n",
       "        ngram_range=(1, 1), norm='l2', preprocessor=None, smooth_idf=Tr...      vocabulary=None)), ('classifier', MultinomialNB(alpha=1.0, class_prior=None, fit_prior=True))])"
      ]
     },
     "execution_count": 41,
     "metadata": {},
     "output_type": "execute_result"
    }
   ],
   "source": [
    "\n",
    "from nltk.corpus import stopwords\n",
    " \n",
    "trial2 = Pipeline([\n",
    "    ('vectorizer', TfidfVectorizer(stop_words=stopwords.words('english'))),\n",
    "    ('classifier', MultinomialNB()),\n",
    "])\n",
    " \n",
    "train(trial2, news.data, news.target)\n",
    "# Accuracy: 0.877546689304"
   ]
  },
  {
   "cell_type": "markdown",
   "metadata": {},
   "source": [
    "Good boost. We can now try to play with the alpha parameter of the Naive-Bayes classifier. Let’s set it to a low value:"
   ]
  },
  {
   "cell_type": "code",
   "execution_count": 42,
   "metadata": {},
   "outputs": [
    {
     "name": "stdout",
     "output_type": "stream",
     "text": [
      "Accuracy: 0.9102292020373515\n"
     ]
    },
    {
     "data": {
      "text/plain": [
       "Pipeline(memory=None,\n",
       "     steps=[('vectorizer', TfidfVectorizer(analyzer='word', binary=False, decode_error='strict',\n",
       "        dtype=<class 'numpy.int64'>, encoding='utf-8', input='content',\n",
       "        lowercase=True, max_df=1.0, max_features=None, min_df=1,\n",
       "        ngram_range=(1, 1), norm='l2', preprocessor=None, smooth_idf=Tr...     vocabulary=None)), ('classifier', MultinomialNB(alpha=0.05, class_prior=None, fit_prior=True))])"
      ]
     },
     "execution_count": 42,
     "metadata": {},
     "output_type": "execute_result"
    }
   ],
   "source": [
    "\n",
    "trial3 = Pipeline([\n",
    "    ('vectorizer', TfidfVectorizer(stop_words=stopwords.words('english'))),\n",
    "    ('classifier', MultinomialNB(alpha=0.05)),\n",
    "])\n",
    " \n",
    "train(trial3, news.data, news.target)\n",
    "# Accuracy: 0.909592529711\n"
   ]
  },
  {
   "cell_type": "markdown",
   "metadata": {},
   "source": [
    "Great progress. Let’s ignore words that appear fewer than 5 times in the document collection:"
   ]
  },
  {
   "cell_type": "code",
   "execution_count": 43,
   "metadata": {},
   "outputs": [
    {
     "name": "stdout",
     "output_type": "stream",
     "text": [
      "Accuracy: 0.9028013582342954\n"
     ]
    },
    {
     "data": {
      "text/plain": [
       "Pipeline(memory=None,\n",
       "     steps=[('vectorizer', TfidfVectorizer(analyzer='word', binary=False, decode_error='strict',\n",
       "        dtype=<class 'numpy.int64'>, encoding='utf-8', input='content',\n",
       "        lowercase=True, max_df=1.0, max_features=None, min_df=5,\n",
       "        ngram_range=(1, 1), norm='l2', preprocessor=None, smooth_idf=Tr...     vocabulary=None)), ('classifier', MultinomialNB(alpha=0.05, class_prior=None, fit_prior=True))])"
      ]
     },
     "execution_count": 43,
     "metadata": {},
     "output_type": "execute_result"
    }
   ],
   "source": [
    "trial4 = Pipeline([\n",
    "    ('vectorizer', TfidfVectorizer(stop_words=stopwords.words('english'),\n",
    "                             min_df=5)),\n",
    "    ('classifier', MultinomialNB(alpha=0.05)),\n",
    "])\n",
    " \n",
    "train(trial4, news.data, news.target)\n",
    "# Accuracy: 0.903013582343"
   ]
  },
  {
   "cell_type": "markdown",
   "metadata": {},
   "source": [
    "Oops. Didn’t do much harm, but definitely, it doesn’t help us. Let’s try something more radical.\n",
    "\n",
    "We’ll use NLTK tokenizer to better split the text into words and then let’s bring the words to a base form using a stemmer. We’ll also ignore the punctuation since word_tokenize doesn’t filter them out."
   ]
  },
  {
   "cell_type": "code",
   "execution_count": 44,
   "metadata": {},
   "outputs": [
    {
     "name": "stdout",
     "output_type": "stream",
     "text": [
      "Accuracy: 0.9108658743633277\n"
     ]
    },
    {
     "data": {
      "text/plain": [
       "Pipeline(memory=None,\n",
       "     steps=[('vectorizer', TfidfVectorizer(analyzer='word', binary=False, decode_error='strict',\n",
       "        dtype=<class 'numpy.int64'>, encoding='utf-8', input='content',\n",
       "        lowercase=True, max_df=1.0, max_features=None, min_df=1,\n",
       "        ngram_range=(1, 1), norm='l2', preprocessor=None, smooth_idf=Tr...rue, vocabulary=None)), ('classifier', MultinomialNB(alpha=0.05, class_prior=None, fit_prior=True))])"
      ]
     },
     "execution_count": 44,
     "metadata": {},
     "output_type": "execute_result"
    }
   ],
   "source": [
    "import string\n",
    "from nltk.stem import PorterStemmer\n",
    "from nltk import word_tokenize\n",
    " \n",
    "def stemming_tokenizer(text):\n",
    "    stemmer = PorterStemmer()\n",
    "    return [stemmer.stem(w) for w in word_tokenize(text)]\n",
    " \n",
    "trial5 = Pipeline([\n",
    "    ('vectorizer', TfidfVectorizer(tokenizer=stemming_tokenizer,\n",
    "                             stop_words=stopwords.words('english') + list(string.punctuation))),\n",
    "    ('classifier', MultinomialNB(alpha=0.05)),\n",
    "])\n",
    " \n",
    "train(trial5, news.data, news.target)\n",
    "# Accuracy: 0.910653650255"
   ]
  },
  {
   "cell_type": "code",
   "execution_count": null,
   "metadata": {},
   "outputs": [],
   "source": []
  }
 ],
 "metadata": {
  "kernelspec": {
   "display_name": "Python 3",
   "language": "python",
   "name": "python3"
  },
  "language_info": {
   "codemirror_mode": {
    "name": "ipython",
    "version": 3
   },
   "file_extension": ".py",
   "mimetype": "text/x-python",
   "name": "python",
   "nbconvert_exporter": "python",
   "pygments_lexer": "ipython3",
   "version": "3.7.3"
  }
 },
 "nbformat": 4,
 "nbformat_minor": 2
}
